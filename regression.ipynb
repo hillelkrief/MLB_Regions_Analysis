{
 "cells": [
  {
   "cell_type": "code",
   "execution_count": 1,
   "id": "cedce952",
   "metadata": {},
   "outputs": [],
   "source": [
    "import pandas as pd\n",
    "import numpy as np\n",
    "import seaborn as sns\n",
    "import matplotlib\n",
    "import matplotlib.pyplot as plt\n",
    "import os\n",
    "import sklearn\n",
    "from sklearn.model_selection import train_test_split \n",
    "from sklearn.linear_model import LinearRegression\n",
    "from sklearn.metrics import mean_squared_error, r2_score\n",
    "from sklearn.metrics import classification_report, confusion_matrix"
   ]
  },
  {
   "cell_type": "code",
   "execution_count": 2,
   "id": "ef2c842e",
   "metadata": {},
   "outputs": [],
   "source": [
    "# This option ensures that the graphs you create are displayed within the notebook without the need to \"call\" them specifically.\n",
    "\n",
    "%matplotlib inline"
   ]
  },
  {
   "cell_type": "code",
   "execution_count": 3,
   "id": "0764fa39",
   "metadata": {},
   "outputs": [],
   "source": [
    "pitchers=pd.read_csv(r'/Users/hillelkrief1/Desktop/CareerFoundry/Course 2 Data Immersion/Achievement 6/prepared data/aggregations/pitchers_ext_region.csv')"
   ]
  },
  {
   "cell_type": "code",
   "execution_count": 4,
   "id": "f62850a6",
   "metadata": {},
   "outputs": [],
   "source": [
    "batters=pd.read_csv(r'/Users/hillelkrief1/Desktop/CareerFoundry/Course 2 Data Immersion/Achievement 6/prepared data/aggregations/batters_ext_region.csv')"
   ]
  },
  {
   "cell_type": "markdown",
   "id": "495698b4",
   "metadata": {},
   "source": [
    "## Adding a  Yes/No column that will say \"yes\" if a batter has a career WAR above 13 and a pitcher has a career WAR above 10"
   ]
  },
  {
   "cell_type": "code",
   "execution_count": 5,
   "id": "183b35a4",
   "metadata": {
    "scrolled": true
   },
   "outputs": [
    {
     "data": {
      "text/plain": [
       "Index(['playerID', 'WAR', 'HR', 'ASG', 'H', 'seasonsPlayed', 'region',\n",
       "       'birthCountry', 'birthState', 'birthCity'],\n",
       "      dtype='object')"
      ]
     },
     "execution_count": 5,
     "metadata": {},
     "output_type": "execute_result"
    }
   ],
   "source": [
    "batters.columns"
   ]
  },
  {
   "cell_type": "code",
   "execution_count": 6,
   "id": "2f297c47",
   "metadata": {},
   "outputs": [
    {
     "data": {
      "text/plain": [
       "Index(['playerID', 'WAR', 'ERA_plus', 'G_all', 'seasonsPlayed', 'ASG',\n",
       "       'region', 'birthCountry', 'birthState', 'birthCity'],\n",
       "      dtype='object')"
      ]
     },
     "execution_count": 6,
     "metadata": {},
     "output_type": "execute_result"
    }
   ],
   "source": [
    "pitchers.columns"
   ]
  },
  {
   "cell_type": "code",
   "execution_count": 31,
   "id": "ce867509",
   "metadata": {},
   "outputs": [],
   "source": [
    "#Batters\n",
    "batters.loc[(batters['WAR'] >= 13),'regression']='yes'\n",
    "batters.loc[(batters['WAR'] < 13),'regression']='no'"
   ]
  },
  {
   "cell_type": "code",
   "execution_count": 32,
   "id": "d5334bcc",
   "metadata": {},
   "outputs": [],
   "source": [
    "#Pitchers\n",
    "pitchers.loc[(pitchers['WAR'] >= 10),'regression']='yes'\n",
    "pitchers.loc[(pitchers['WAR'] < 10),'regression']='no'"
   ]
  },
  {
   "cell_type": "code",
   "execution_count": 33,
   "id": "7175ff4c",
   "metadata": {},
   "outputs": [
    {
     "data": {
      "text/plain": [
       "Index(['playerID', 'WAR', 'HR', 'ASG', 'H', 'seasonsPlayed', 'region',\n",
       "       'birthCountry', 'birthState', 'birthCity', 'regression'],\n",
       "      dtype='object')"
      ]
     },
     "execution_count": 33,
     "metadata": {},
     "output_type": "execute_result"
    }
   ],
   "source": [
    "batters.columns"
   ]
  },
  {
   "cell_type": "code",
   "execution_count": 34,
   "id": "85ebeecf",
   "metadata": {},
   "outputs": [
    {
     "data": {
      "text/plain": [
       "Index(['playerID', 'WAR', 'ERA_plus', 'G_all', 'seasonsPlayed', 'ASG',\n",
       "       'region', 'birthCountry', 'birthState', 'birthCity', 'regression'],\n",
       "      dtype='object')"
      ]
     },
     "execution_count": 34,
     "metadata": {},
     "output_type": "execute_result"
    }
   ],
   "source": [
    "pitchers.columns"
   ]
  },
  {
   "cell_type": "markdown",
   "id": "dab58182",
   "metadata": {},
   "source": [
    "### Doing some datset checks"
   ]
  },
  {
   "cell_type": "code",
   "execution_count": 35,
   "id": "a485a1b8",
   "metadata": {},
   "outputs": [
    {
     "data": {
      "text/plain": [
       "playerID         False\n",
       "WAR              False\n",
       "HR               False\n",
       "ASG              False\n",
       "H                False\n",
       "seasonsPlayed    False\n",
       "region           False\n",
       "birthCountry     False\n",
       "birthState        True\n",
       "birthCity         True\n",
       "regression       False\n",
       "dtype: bool"
      ]
     },
     "execution_count": 35,
     "metadata": {},
     "output_type": "execute_result"
    }
   ],
   "source": [
    "batters.isnull().any()"
   ]
  },
  {
   "cell_type": "code",
   "execution_count": 36,
   "id": "01da4284",
   "metadata": {},
   "outputs": [
    {
     "data": {
      "text/plain": [
       "playerID         False\n",
       "WAR              False\n",
       "ERA_plus          True\n",
       "G_all            False\n",
       "seasonsPlayed    False\n",
       "ASG              False\n",
       "region           False\n",
       "birthCountry     False\n",
       "birthState        True\n",
       "birthCity         True\n",
       "regression       False\n",
       "dtype: bool"
      ]
     },
     "execution_count": 36,
     "metadata": {},
     "output_type": "execute_result"
    }
   ],
   "source": [
    "pitchers.isnull().any()"
   ]
  },
  {
   "cell_type": "code",
   "execution_count": 37,
   "id": "c996a373",
   "metadata": {},
   "outputs": [],
   "source": [
    "#The nulls are okay in this case :)"
   ]
  },
  {
   "cell_type": "code",
   "execution_count": 38,
   "id": "e62b63cb",
   "metadata": {},
   "outputs": [
    {
     "data": {
      "text/plain": [
       "<AxesSubplot:xlabel='regression', ylabel='count'>"
      ]
     },
     "execution_count": 38,
     "metadata": {},
     "output_type": "execute_result"
    },
    {
     "data": {
      "image/png": "[encoded data removed]",
      "text/plain": [
       "<Figure size 432x288 with 1 Axes>"
      ]
     },
     "metadata": {
      "needs_background": "light"
     },
     "output_type": "display_data"
    }
   ],
   "source": [
    "#How many batters have a career WAR over 13?\n",
    "sns.countplot(x='regression', data=batters)"
   ]
  },
  {
   "cell_type": "code",
   "execution_count": 39,
   "id": "939c4209",
   "metadata": {},
   "outputs": [
    {
     "data": {
      "text/plain": [
       "<AxesSubplot:xlabel='regression', ylabel='count'>"
      ]
     },
     "execution_count": 39,
     "metadata": {},
     "output_type": "execute_result"
    },
    {
     "data": {
      "image/png": "[encoded data removed]",
      "text/plain": [
       "<Figure size 432x288 with 1 Axes>"
      ]
     },
     "metadata": {
      "needs_background": "light"
     },
     "output_type": "display_data"
    }
   ],
   "source": [
    "#How many pitchers have a career WAR over 10?\n",
    "sns.countplot(x='regression', data=pitchers)"
   ]
  },
  {
   "cell_type": "markdown",
   "id": "44c2f6dc",
   "metadata": {},
   "source": [
    "## Adding a dummy column for our categorical data, the region"
   ]
  },
  {
   "cell_type": "code",
   "execution_count": 48,
   "id": "6c55e734",
   "metadata": {},
   "outputs": [],
   "source": [
    "region_dummies = pd.get_dummies(batters['region'], prefix='region')\n",
    "\n",
    "# Add the dummy variables to the original DataFrame\n",
    "batters_dummy= pd.concat([batters, region_dummies], axis=1)\n",
    "\n",
    "# Drop the original 'region' column\n",
    "batters_dummy.drop('region', axis=1, inplace=True)\n"
   ]
  },
  {
   "cell_type": "code",
   "execution_count": 49,
   "id": "9972044c",
   "metadata": {},
   "outputs": [
    {
     "data": {
      "text/html": [
       "<div>\n",
       "<style scoped>\n",
       "    .dataframe tbody tr th:only-of-type {\n",
       "        vertical-align: middle;\n",
       "    }\n",
       "\n",
       "    .dataframe tbody tr th {\n",
       "        vertical-align: top;\n",
       "    }\n",
       "\n",
       "    .dataframe thead th {\n",
       "        text-align: right;\n",
       "    }\n",
       "</style>\n",
       "<table border=\"1\" class=\"dataframe\">\n",
       "  <thead>\n",
       "    <tr style=\"text-align: right;\">\n",
       "      <th></th>\n",
       "      <th>playerID</th>\n",
       "      <th>WAR</th>\n",
       "      <th>HR</th>\n",
       "      <th>ASG</th>\n",
       "      <th>H</th>\n",
       "      <th>seasonsPlayed</th>\n",
       "      <th>birthCountry</th>\n",
       "      <th>birthState</th>\n",
       "      <th>birthCity</th>\n",
       "      <th>regression</th>\n",
       "      <th>region_Latin Born</th>\n",
       "      <th>region_Other</th>\n",
       "      <th>region_US Born</th>\n",
       "    </tr>\n",
       "  </thead>\n",
       "  <tbody>\n",
       "    <tr>\n",
       "      <th>0</th>\n",
       "      <td>aaronha01</td>\n",
       "      <td>105.72</td>\n",
       "      <td>570</td>\n",
       "      <td>16.0</td>\n",
       "      <td>2659</td>\n",
       "      <td>17</td>\n",
       "      <td>USA</td>\n",
       "      <td>AL</td>\n",
       "      <td>Mobile</td>\n",
       "      <td>yes</td>\n",
       "      <td>0</td>\n",
       "      <td>0</td>\n",
       "      <td>1</td>\n",
       "    </tr>\n",
       "    <tr>\n",
       "      <th>1</th>\n",
       "      <td>aaronto01</td>\n",
       "      <td>-2.77</td>\n",
       "      <td>13</td>\n",
       "      <td>0.0</td>\n",
       "      <td>216</td>\n",
       "      <td>7</td>\n",
       "      <td>USA</td>\n",
       "      <td>AL</td>\n",
       "      <td>Mobile</td>\n",
       "      <td>no</td>\n",
       "      <td>0</td>\n",
       "      <td>0</td>\n",
       "      <td>1</td>\n",
       "    </tr>\n",
       "    <tr>\n",
       "      <th>2</th>\n",
       "      <td>abadan01</td>\n",
       "      <td>-0.35</td>\n",
       "      <td>0</td>\n",
       "      <td>0.0</td>\n",
       "      <td>2</td>\n",
       "      <td>3</td>\n",
       "      <td>USA</td>\n",
       "      <td>FL</td>\n",
       "      <td>Palm Beach</td>\n",
       "      <td>no</td>\n",
       "      <td>0</td>\n",
       "      <td>0</td>\n",
       "      <td>1</td>\n",
       "    </tr>\n",
       "    <tr>\n",
       "      <th>3</th>\n",
       "      <td>abbotje01</td>\n",
       "      <td>-1.44</td>\n",
       "      <td>18</td>\n",
       "      <td>0.0</td>\n",
       "      <td>157</td>\n",
       "      <td>5</td>\n",
       "      <td>USA</td>\n",
       "      <td>GA</td>\n",
       "      <td>Atlanta</td>\n",
       "      <td>no</td>\n",
       "      <td>0</td>\n",
       "      <td>0</td>\n",
       "      <td>1</td>\n",
       "    </tr>\n",
       "    <tr>\n",
       "      <th>4</th>\n",
       "      <td>abbotku01</td>\n",
       "      <td>0.54</td>\n",
       "      <td>62</td>\n",
       "      <td>0.0</td>\n",
       "      <td>523</td>\n",
       "      <td>10</td>\n",
       "      <td>USA</td>\n",
       "      <td>OH</td>\n",
       "      <td>Zanesville</td>\n",
       "      <td>no</td>\n",
       "      <td>0</td>\n",
       "      <td>0</td>\n",
       "      <td>1</td>\n",
       "    </tr>\n",
       "    <tr>\n",
       "      <th>...</th>\n",
       "      <td>...</td>\n",
       "      <td>...</td>\n",
       "      <td>...</td>\n",
       "      <td>...</td>\n",
       "      <td>...</td>\n",
       "      <td>...</td>\n",
       "      <td>...</td>\n",
       "      <td>...</td>\n",
       "      <td>...</td>\n",
       "      <td>...</td>\n",
       "      <td>...</td>\n",
       "      <td>...</td>\n",
       "      <td>...</td>\n",
       "    </tr>\n",
       "    <tr>\n",
       "      <th>5424</th>\n",
       "      <td>zuletju01</td>\n",
       "      <td>-0.19</td>\n",
       "      <td>9</td>\n",
       "      <td>0.0</td>\n",
       "      <td>43</td>\n",
       "      <td>2</td>\n",
       "      <td>Panama</td>\n",
       "      <td>Panama</td>\n",
       "      <td>Panama</td>\n",
       "      <td>no</td>\n",
       "      <td>1</td>\n",
       "      <td>0</td>\n",
       "      <td>0</td>\n",
       "    </tr>\n",
       "    <tr>\n",
       "      <th>5425</th>\n",
       "      <td>zuninmi01</td>\n",
       "      <td>10.62</td>\n",
       "      <td>141</td>\n",
       "      <td>0.0</td>\n",
       "      <td>518</td>\n",
       "      <td>9</td>\n",
       "      <td>USA</td>\n",
       "      <td>FL</td>\n",
       "      <td>Cape Coral</td>\n",
       "      <td>no</td>\n",
       "      <td>0</td>\n",
       "      <td>0</td>\n",
       "      <td>1</td>\n",
       "    </tr>\n",
       "    <tr>\n",
       "      <th>5426</th>\n",
       "      <td>zupcibo01</td>\n",
       "      <td>-0.71</td>\n",
       "      <td>7</td>\n",
       "      <td>0.0</td>\n",
       "      <td>199</td>\n",
       "      <td>5</td>\n",
       "      <td>USA</td>\n",
       "      <td>PA</td>\n",
       "      <td>Pittsburgh</td>\n",
       "      <td>no</td>\n",
       "      <td>0</td>\n",
       "      <td>0</td>\n",
       "      <td>1</td>\n",
       "    </tr>\n",
       "    <tr>\n",
       "      <th>5427</th>\n",
       "      <td>zupofr01</td>\n",
       "      <td>0.12</td>\n",
       "      <td>0</td>\n",
       "      <td>0.0</td>\n",
       "      <td>2</td>\n",
       "      <td>1</td>\n",
       "      <td>USA</td>\n",
       "      <td>CA</td>\n",
       "      <td>San Francisco</td>\n",
       "      <td>no</td>\n",
       "      <td>0</td>\n",
       "      <td>0</td>\n",
       "      <td>1</td>\n",
       "    </tr>\n",
       "    <tr>\n",
       "      <th>5428</th>\n",
       "      <td>zuvelpa01</td>\n",
       "      <td>-2.36</td>\n",
       "      <td>2</td>\n",
       "      <td>0.0</td>\n",
       "      <td>109</td>\n",
       "      <td>9</td>\n",
       "      <td>USA</td>\n",
       "      <td>CA</td>\n",
       "      <td>San Mateo</td>\n",
       "      <td>no</td>\n",
       "      <td>0</td>\n",
       "      <td>0</td>\n",
       "      <td>1</td>\n",
       "    </tr>\n",
       "  </tbody>\n",
       "</table>\n",
       "<p>5429 rows × 13 columns</p>\n",
       "</div>"
      ],
      "text/plain": [
       "       playerID     WAR   HR   ASG     H  seasonsPlayed birthCountry  \\\n",
       "0     aaronha01  105.72  570  16.0  2659             17          USA   \n",
       "1     aaronto01   -2.77   13   0.0   216              7          USA   \n",
       "2      abadan01   -0.35    0   0.0     2              3          USA   \n",
       "3     abbotje01   -1.44   18   0.0   157              5          USA   \n",
       "4     abbotku01    0.54   62   0.0   523             10          USA   \n",
       "...         ...     ...  ...   ...   ...            ...          ...   \n",
       "5424  zuletju01   -0.19    9   0.0    43              2       Panama   \n",
       "5425  zuninmi01   10.62  141   0.0   518              9          USA   \n",
       "5426  zupcibo01   -0.71    7   0.0   199              5          USA   \n",
       "5427   zupofr01    0.12    0   0.0     2              1          USA   \n",
       "5428  zuvelpa01   -2.36    2   0.0   109              9          USA   \n",
       "\n",
       "     birthState      birthCity regression  region_Latin Born  region_Other  \\\n",
       "0            AL         Mobile        yes                  0             0   \n",
       "1            AL         Mobile         no                  0             0   \n",
       "2            FL     Palm Beach         no                  0             0   \n",
       "3            GA        Atlanta         no                  0             0   \n",
       "4            OH     Zanesville         no                  0             0   \n",
       "...         ...            ...        ...                ...           ...   \n",
       "5424     Panama         Panama         no                  1             0   \n",
       "5425         FL     Cape Coral         no                  0             0   \n",
       "5426         PA     Pittsburgh         no                  0             0   \n",
       "5427         CA  San Francisco         no                  0             0   \n",
       "5428         CA      San Mateo         no                  0             0   \n",
       "\n",
       "      region_US Born  \n",
       "0                  1  \n",
       "1                  1  \n",
       "2                  1  \n",
       "3                  1  \n",
       "4                  1  \n",
       "...              ...  \n",
       "5424               0  \n",
       "5425               1  \n",
       "5426               1  \n",
       "5427               1  \n",
       "5428               1  \n",
       "\n",
       "[5429 rows x 13 columns]"
      ]
     },
     "execution_count": 49,
     "metadata": {},
     "output_type": "execute_result"
    }
   ],
   "source": [
    "batters_dummy"
   ]
  },
  {
   "cell_type": "code",
   "execution_count": 50,
   "id": "1b7907ec",
   "metadata": {},
   "outputs": [],
   "source": [
    "region_dummies = pd.get_dummies(pitchers['region'], prefix='region')\n",
    "\n",
    "# Add the dummy variables to the original DataFrame\n",
    "pitchers_dummy= pd.concat([pitchers, region_dummies], axis=1)\n",
    "\n",
    "# Drop the original 'region' column\n",
    "pitchers_dummy.drop('region', axis=1, inplace=True)\n"
   ]
  },
  {
   "cell_type": "code",
   "execution_count": 51,
   "id": "bb30f954",
   "metadata": {},
   "outputs": [
    {
     "data": {
      "text/html": [
       "<div>\n",
       "<style scoped>\n",
       "    .dataframe tbody tr th:only-of-type {\n",
       "        vertical-align: middle;\n",
       "    }\n",
       "\n",
       "    .dataframe tbody tr th {\n",
       "        vertical-align: top;\n",
       "    }\n",
       "\n",
       "    .dataframe thead th {\n",
       "        text-align: right;\n",
       "    }\n",
       "</style>\n",
       "<table border=\"1\" class=\"dataframe\">\n",
       "  <thead>\n",
       "    <tr style=\"text-align: right;\">\n",
       "      <th></th>\n",
       "      <th>playerID</th>\n",
       "      <th>WAR</th>\n",
       "      <th>ERA_plus</th>\n",
       "      <th>G_all</th>\n",
       "      <th>seasonsPlayed</th>\n",
       "      <th>ASG</th>\n",
       "      <th>birthCountry</th>\n",
       "      <th>birthState</th>\n",
       "      <th>birthCity</th>\n",
       "      <th>regression</th>\n",
       "      <th>region_Latin Born</th>\n",
       "      <th>region_Other</th>\n",
       "      <th>region_US Born</th>\n",
       "    </tr>\n",
       "  </thead>\n",
       "  <tbody>\n",
       "    <tr>\n",
       "      <th>0</th>\n",
       "      <td>aardsda01</td>\n",
       "      <td>1.85</td>\n",
       "      <td>94.744369</td>\n",
       "      <td>331</td>\n",
       "      <td>9</td>\n",
       "      <td>0.0</td>\n",
       "      <td>USA</td>\n",
       "      <td>CO</td>\n",
       "      <td>Denver</td>\n",
       "      <td>no</td>\n",
       "      <td>0</td>\n",
       "      <td>0</td>\n",
       "      <td>1</td>\n",
       "    </tr>\n",
       "    <tr>\n",
       "      <th>1</th>\n",
       "      <td>aasedo01</td>\n",
       "      <td>15.09</td>\n",
       "      <td>126.585193</td>\n",
       "      <td>448</td>\n",
       "      <td>13</td>\n",
       "      <td>1.0</td>\n",
       "      <td>USA</td>\n",
       "      <td>CA</td>\n",
       "      <td>Orange</td>\n",
       "      <td>yes</td>\n",
       "      <td>0</td>\n",
       "      <td>0</td>\n",
       "      <td>1</td>\n",
       "    </tr>\n",
       "    <tr>\n",
       "      <th>2</th>\n",
       "      <td>abadfe01</td>\n",
       "      <td>3.18</td>\n",
       "      <td>116.022263</td>\n",
       "      <td>400</td>\n",
       "      <td>11</td>\n",
       "      <td>0.0</td>\n",
       "      <td>D.R.</td>\n",
       "      <td>La Romana</td>\n",
       "      <td>La Romana</td>\n",
       "      <td>no</td>\n",
       "      <td>1</td>\n",
       "      <td>0</td>\n",
       "      <td>0</td>\n",
       "    </tr>\n",
       "    <tr>\n",
       "      <th>3</th>\n",
       "      <td>abbotco01</td>\n",
       "      <td>-0.40</td>\n",
       "      <td>63.615385</td>\n",
       "      <td>8</td>\n",
       "      <td>1</td>\n",
       "      <td>0.0</td>\n",
       "      <td>USA</td>\n",
       "      <td>CA</td>\n",
       "      <td>San Diego</td>\n",
       "      <td>no</td>\n",
       "      <td>0</td>\n",
       "      <td>0</td>\n",
       "      <td>1</td>\n",
       "    </tr>\n",
       "    <tr>\n",
       "      <th>4</th>\n",
       "      <td>abbotgl01</td>\n",
       "      <td>5.26</td>\n",
       "      <td>97.366300</td>\n",
       "      <td>248</td>\n",
       "      <td>12</td>\n",
       "      <td>0.0</td>\n",
       "      <td>USA</td>\n",
       "      <td>AR</td>\n",
       "      <td>Little Rock</td>\n",
       "      <td>no</td>\n",
       "      <td>0</td>\n",
       "      <td>0</td>\n",
       "      <td>1</td>\n",
       "    </tr>\n",
       "    <tr>\n",
       "      <th>...</th>\n",
       "      <td>...</td>\n",
       "      <td>...</td>\n",
       "      <td>...</td>\n",
       "      <td>...</td>\n",
       "      <td>...</td>\n",
       "      <td>...</td>\n",
       "      <td>...</td>\n",
       "      <td>...</td>\n",
       "      <td>...</td>\n",
       "      <td>...</td>\n",
       "      <td>...</td>\n",
       "      <td>...</td>\n",
       "      <td>...</td>\n",
       "    </tr>\n",
       "    <tr>\n",
       "      <th>6252</th>\n",
       "      <td>zitoba01</td>\n",
       "      <td>33.05</td>\n",
       "      <td>103.277974</td>\n",
       "      <td>434</td>\n",
       "      <td>15</td>\n",
       "      <td>2.0</td>\n",
       "      <td>USA</td>\n",
       "      <td>NV</td>\n",
       "      <td>Las Vegas</td>\n",
       "      <td>yes</td>\n",
       "      <td>0</td>\n",
       "      <td>0</td>\n",
       "      <td>1</td>\n",
       "    </tr>\n",
       "    <tr>\n",
       "      <th>6253</th>\n",
       "      <td>zobribe01</td>\n",
       "      <td>0.03</td>\n",
       "      <td>NaN</td>\n",
       "      <td>47</td>\n",
       "      <td>1</td>\n",
       "      <td>0.0</td>\n",
       "      <td>USA</td>\n",
       "      <td>IL</td>\n",
       "      <td>Eureka</td>\n",
       "      <td>no</td>\n",
       "      <td>0</td>\n",
       "      <td>0</td>\n",
       "      <td>1</td>\n",
       "    </tr>\n",
       "    <tr>\n",
       "      <th>6254</th>\n",
       "      <td>zuberty01</td>\n",
       "      <td>-0.12</td>\n",
       "      <td>94.390000</td>\n",
       "      <td>54</td>\n",
       "      <td>2</td>\n",
       "      <td>0.0</td>\n",
       "      <td>USA</td>\n",
       "      <td>AR</td>\n",
       "      <td>White Hall</td>\n",
       "      <td>no</td>\n",
       "      <td>0</td>\n",
       "      <td>0</td>\n",
       "      <td>1</td>\n",
       "    </tr>\n",
       "    <tr>\n",
       "      <th>6255</th>\n",
       "      <td>zumayjo01</td>\n",
       "      <td>4.17</td>\n",
       "      <td>145.361990</td>\n",
       "      <td>171</td>\n",
       "      <td>5</td>\n",
       "      <td>0.0</td>\n",
       "      <td>USA</td>\n",
       "      <td>CA</td>\n",
       "      <td>Chula Vista</td>\n",
       "      <td>no</td>\n",
       "      <td>0</td>\n",
       "      <td>0</td>\n",
       "      <td>1</td>\n",
       "    </tr>\n",
       "    <tr>\n",
       "      <th>6256</th>\n",
       "      <td>zychto01</td>\n",
       "      <td>1.59</td>\n",
       "      <td>147.576667</td>\n",
       "      <td>70</td>\n",
       "      <td>3</td>\n",
       "      <td>0.0</td>\n",
       "      <td>USA</td>\n",
       "      <td>IL</td>\n",
       "      <td>Monee</td>\n",
       "      <td>no</td>\n",
       "      <td>0</td>\n",
       "      <td>0</td>\n",
       "      <td>1</td>\n",
       "    </tr>\n",
       "  </tbody>\n",
       "</table>\n",
       "<p>6257 rows × 13 columns</p>\n",
       "</div>"
      ],
      "text/plain": [
       "       playerID    WAR    ERA_plus  G_all  seasonsPlayed  ASG birthCountry  \\\n",
       "0     aardsda01   1.85   94.744369    331              9  0.0          USA   \n",
       "1      aasedo01  15.09  126.585193    448             13  1.0          USA   \n",
       "2      abadfe01   3.18  116.022263    400             11  0.0         D.R.   \n",
       "3     abbotco01  -0.40   63.615385      8              1  0.0          USA   \n",
       "4     abbotgl01   5.26   97.366300    248             12  0.0          USA   \n",
       "...         ...    ...         ...    ...            ...  ...          ...   \n",
       "6252   zitoba01  33.05  103.277974    434             15  2.0          USA   \n",
       "6253  zobribe01   0.03         NaN     47              1  0.0          USA   \n",
       "6254  zuberty01  -0.12   94.390000     54              2  0.0          USA   \n",
       "6255  zumayjo01   4.17  145.361990    171              5  0.0          USA   \n",
       "6256   zychto01   1.59  147.576667     70              3  0.0          USA   \n",
       "\n",
       "     birthState    birthCity regression  region_Latin Born  region_Other  \\\n",
       "0            CO       Denver         no                  0             0   \n",
       "1            CA       Orange        yes                  0             0   \n",
       "2     La Romana    La Romana         no                  1             0   \n",
       "3            CA    San Diego         no                  0             0   \n",
       "4            AR  Little Rock         no                  0             0   \n",
       "...         ...          ...        ...                ...           ...   \n",
       "6252         NV    Las Vegas        yes                  0             0   \n",
       "6253         IL       Eureka         no                  0             0   \n",
       "6254         AR   White Hall         no                  0             0   \n",
       "6255         CA  Chula Vista         no                  0             0   \n",
       "6256         IL        Monee         no                  0             0   \n",
       "\n",
       "      region_US Born  \n",
       "0                  1  \n",
       "1                  1  \n",
       "2                  0  \n",
       "3                  1  \n",
       "4                  1  \n",
       "...              ...  \n",
       "6252               1  \n",
       "6253               1  \n",
       "6254               1  \n",
       "6255               1  \n",
       "6256               1  \n",
       "\n",
       "[6257 rows x 13 columns]"
      ]
     },
     "execution_count": 51,
     "metadata": {},
     "output_type": "execute_result"
    }
   ],
   "source": [
    "pitchers_dummy"
   ]
  },
  {
   "cell_type": "code",
   "execution_count": 53,
   "id": "cf3ae9aa",
   "metadata": {
    "scrolled": true
   },
   "outputs": [
    {
     "data": {
      "text/plain": [
       "Index(['playerID', 'WAR', 'HR', 'ASG', 'H', 'seasonsPlayed', 'birthCountry',\n",
       "       'birthState', 'birthCity', 'regression', 'region_Latin Born',\n",
       "       'region_Other', 'region_US Born'],\n",
       "      dtype='object')"
      ]
     },
     "execution_count": 53,
     "metadata": {},
     "output_type": "execute_result"
    }
   ],
   "source": [
    "batters_dummy.columns"
   ]
  },
  {
   "cell_type": "code",
   "execution_count": 90,
   "id": "6ef6b0f2",
   "metadata": {},
   "outputs": [],
   "source": [
    "batters_dummy.to_csv(r'/Users/hillelkrief1/Desktop/CareerFoundry/Course 2 Data Immersion/Achievement 6/prepared data/batters_dummy.csv')"
   ]
  },
  {
   "cell_type": "code",
   "execution_count": 91,
   "id": "2ad4fc9f",
   "metadata": {},
   "outputs": [],
   "source": [
    "pitchers_dummy.to_csv(r'/Users/hillelkrief1/Desktop/CareerFoundry/Course 2 Data Immersion/Achievement 6/prepared data/pitchers_dummy.csv')\n"
   ]
  },
  {
   "cell_type": "markdown",
   "id": "f3ccdfe6",
   "metadata": {},
   "source": [
    "### define variables"
   ]
  },
  {
   "cell_type": "code",
   "execution_count": 54,
   "id": "52142b2d",
   "metadata": {},
   "outputs": [],
   "source": [
    "# Define the independent variables (features)\n",
    "X = batters_dummy[['region_Latin Born', 'region_Other', 'region_US Born']]\n",
    "\n",
    "# Define the dependent variable (target)\n",
    "y = batters_dummy['regression']"
   ]
  },
  {
   "cell_type": "code",
   "execution_count": 55,
   "id": "29dfad06",
   "metadata": {},
   "outputs": [],
   "source": [
    "# Split data into a training set and a test set.\n",
    "\n",
    "X_train, X_test, y_train, y_test = train_test_split(X, y, test_size=0.3, random_state=0)"
   ]
  },
  {
   "cell_type": "markdown",
   "id": "68eaea92",
   "metadata": {},
   "source": [
    "## Regression"
   ]
  },
  {
   "cell_type": "code",
   "execution_count": 56,
   "id": "c069a71a",
   "metadata": {},
   "outputs": [
    {
     "data": {
      "text/plain": [
       "LogisticRegression()"
      ]
     },
     "execution_count": 56,
     "metadata": {},
     "output_type": "execute_result"
    }
   ],
   "source": [
    "from sklearn.linear_model import LogisticRegression  \n",
    "classifier = LogisticRegression()\n",
    "classifier.fit(X_train, y_train)\n"
   ]
  },
  {
   "cell_type": "code",
   "execution_count": 57,
   "id": "59e15d21",
   "metadata": {},
   "outputs": [],
   "source": [
    "y_pred = classifier.predict(X_test)"
   ]
  },
  {
   "cell_type": "code",
   "execution_count": 65,
   "id": "5324cf5d",
   "metadata": {
    "scrolled": true
   },
   "outputs": [
    {
     "data": {
      "text/html": [
       "<div>\n",
       "<style scoped>\n",
       "    .dataframe tbody tr th:only-of-type {\n",
       "        vertical-align: middle;\n",
       "    }\n",
       "\n",
       "    .dataframe tbody tr th {\n",
       "        vertical-align: top;\n",
       "    }\n",
       "\n",
       "    .dataframe thead th {\n",
       "        text-align: right;\n",
       "    }\n",
       "</style>\n",
       "<table border=\"1\" class=\"dataframe\">\n",
       "  <thead>\n",
       "    <tr style=\"text-align: right;\">\n",
       "      <th></th>\n",
       "      <th>Actual</th>\n",
       "      <th>Predicted</th>\n",
       "    </tr>\n",
       "  </thead>\n",
       "  <tbody>\n",
       "    <tr>\n",
       "      <th>1790</th>\n",
       "      <td>no</td>\n",
       "      <td>no</td>\n",
       "    </tr>\n",
       "    <tr>\n",
       "      <th>3426</th>\n",
       "      <td>no</td>\n",
       "      <td>no</td>\n",
       "    </tr>\n",
       "    <tr>\n",
       "      <th>4684</th>\n",
       "      <td>no</td>\n",
       "      <td>no</td>\n",
       "    </tr>\n",
       "    <tr>\n",
       "      <th>2817</th>\n",
       "      <td>no</td>\n",
       "      <td>no</td>\n",
       "    </tr>\n",
       "    <tr>\n",
       "      <th>142</th>\n",
       "      <td>no</td>\n",
       "      <td>no</td>\n",
       "    </tr>\n",
       "    <tr>\n",
       "      <th>...</th>\n",
       "      <td>...</td>\n",
       "      <td>...</td>\n",
       "    </tr>\n",
       "    <tr>\n",
       "      <th>4681</th>\n",
       "      <td>no</td>\n",
       "      <td>no</td>\n",
       "    </tr>\n",
       "    <tr>\n",
       "      <th>3375</th>\n",
       "      <td>no</td>\n",
       "      <td>no</td>\n",
       "    </tr>\n",
       "    <tr>\n",
       "      <th>555</th>\n",
       "      <td>no</td>\n",
       "      <td>no</td>\n",
       "    </tr>\n",
       "    <tr>\n",
       "      <th>3335</th>\n",
       "      <td>no</td>\n",
       "      <td>no</td>\n",
       "    </tr>\n",
       "    <tr>\n",
       "      <th>2883</th>\n",
       "      <td>no</td>\n",
       "      <td>no</td>\n",
       "    </tr>\n",
       "  </tbody>\n",
       "</table>\n",
       "<p>1629 rows × 2 columns</p>\n",
       "</div>"
      ],
      "text/plain": [
       "     Actual Predicted\n",
       "1790     no        no\n",
       "3426     no        no\n",
       "4684     no        no\n",
       "2817     no        no\n",
       "142      no        no\n",
       "...     ...       ...\n",
       "4681     no        no\n",
       "3375     no        no\n",
       "555      no        no\n",
       "3335     no        no\n",
       "2883     no        no\n",
       "\n",
       "[1629 rows x 2 columns]"
      ]
     },
     "execution_count": 65,
     "metadata": {},
     "output_type": "execute_result"
    }
   ],
   "source": [
    "result = pd.DataFrame({'Actual' : y_test, 'Predicted' : y_pred})\n",
    "result"
   ]
  },
  {
   "cell_type": "code",
   "execution_count": 68,
   "id": "d941778d",
   "metadata": {},
   "outputs": [
    {
     "name": "stdout",
     "output_type": "stream",
     "text": [
      "match\n",
      "False     232\n",
      "True     1397\n",
      "dtype: int64\n"
     ]
    }
   ],
   "source": [
    "#How many times these were equal, meaning that the actual was the predicted!\n",
    "result['match'] = result['Predicted'] == result['Actual']\n",
    "\n",
    "\n",
    "counts = result.groupby('match').size()\n",
    "\n",
    "\n",
    "print(counts)\n"
   ]
  },
  {
   "cell_type": "code",
   "execution_count": 71,
   "id": "51c125fb",
   "metadata": {},
   "outputs": [
    {
     "data": {
      "text/plain": [
       "array([-1.71719239])"
      ]
     },
     "execution_count": 71,
     "metadata": {},
     "output_type": "execute_result"
    }
   ],
   "source": [
    "classifier.coef_\n",
    "# array([[2.36839196, 1.42929561, 0.20973787]])\n",
    "classifier.intercept_ \n",
    "# array([-1.1352347])"
   ]
  },
  {
   "cell_type": "code",
   "execution_count": 69,
   "id": "8b988707",
   "metadata": {},
   "outputs": [
    {
     "data": {
      "image/png": "[encoded data removed]",
      "text/plain": [
       "<Figure size 432x288 with 1 Axes>"
      ]
     },
     "metadata": {
      "needs_background": "light"
     },
     "output_type": "display_data"
    }
   ],
   "source": [
    "import numpy as np\n",
    "import matplotlib.pyplot as plt\n",
    " \n",
    "# Sigmoid function\n",
    "#\n",
    "def sigmoid(z):\n",
    "    return 1 / (1 + np.exp(-z))\n",
    "# Creating sample Z points\n",
    "#\n",
    "z = np.arange(-5, 5, 0.1)\n",
    " \n",
    "# Invoking Sigmoid function on all Z points\n",
    "#\n",
    "phi_z = sigmoid(z)\n",
    " \n",
    "# Plotting the Sigmoid function\n",
    "#\n",
    "plt.plot(z, phi_z)\n",
    "plt.axvline(0.0, color='k')\n",
    "plt.xlabel('z')\n",
    "plt.ylabel('$\\phi(z)$')\n",
    "plt.yticks([0.0, 0.5, 1.0])\n",
    "ax = plt.gca()\n",
    "ax.yaxis.grid(True)\n",
    "plt.tight_layout()\n",
    "plt.show()"
   ]
  },
  {
   "cell_type": "code",
   "execution_count": 72,
   "id": "46f963a7",
   "metadata": {},
   "outputs": [
    {
     "name": "stdout",
     "output_type": "stream",
     "text": [
      "[[0.84220473 0.15779527]\n",
      " [0.84220473 0.15779527]\n",
      " [0.84220473 0.15779527]\n",
      " ...\n",
      " [0.84220473 0.15779527]\n",
      " [0.84220473 0.15779527]\n",
      " [0.84220473 0.15779527]]\n"
     ]
    }
   ],
   "source": [
    "print(classifier.predict_proba(X))"
   ]
  },
  {
   "cell_type": "code",
   "execution_count": 73,
   "id": "70318f48",
   "metadata": {},
   "outputs": [
    {
     "data": {
      "text/plain": [
       "array([[1397,    0],\n",
       "       [ 232,    0]])"
      ]
     },
     "execution_count": 73,
     "metadata": {},
     "output_type": "execute_result"
    }
   ],
   "source": [
    "from sklearn.metrics import confusion_matrix\n",
    "cf_matrix = confusion_matrix(y_test, y_pred)\n",
    "cf_matrix"
   ]
  },
  {
   "cell_type": "code",
   "execution_count": 74,
   "id": "9c740758",
   "metadata": {},
   "outputs": [
    {
     "data": {
      "text/plain": [
       "Text(0.5, 15.0, 'Predicted label')"
      ]
     },
     "execution_count": 74,
     "metadata": {},
     "output_type": "execute_result"
    },
    {
     "data": {
      "image/png": "[encoded data removed]",
      "text/plain": [
       "<Figure size 432x288 with 2 Axes>"
      ]
     },
     "metadata": {
      "needs_background": "light"
     },
     "output_type": "display_data"
    }
   ],
   "source": [
    "sns.heatmap(pd.DataFrame(cf_matrix), annot=True, cmap=\"YlGnBu\" ,fmt='g')\n",
    "plt.title('Confusion matrix', y=1.1)\n",
    "plt.ylabel('Actual label')\n",
    "plt.xlabel('Predicted label')"
   ]
  },
  {
   "cell_type": "markdown",
   "id": "db4d19d7",
   "metadata": {},
   "source": [
    "# Statistics"
   ]
  },
  {
   "cell_type": "markdown",
   "id": "34056e75",
   "metadata": {},
   "source": [
    "#### So, we see here that that actual for the most part is the typical, so our regression model would prove to be \"strong\""
   ]
  },
  {
   "cell_type": "code",
   "execution_count": 82,
   "id": "7dd125aa",
   "metadata": {},
   "outputs": [
    {
     "data": {
      "text/plain": [
       "<bound method LinearClassifierMixin.predict of LogisticRegression()>"
      ]
     },
     "execution_count": 82,
     "metadata": {},
     "output_type": "execute_result"
    }
   ],
   "source": [
    "classifier.predict "
   ]
  },
  {
   "cell_type": "code",
   "execution_count": 83,
   "id": "35be510c",
   "metadata": {},
   "outputs": [
    {
     "data": {
      "text/plain": [
       "0.8575813382443217"
      ]
     },
     "execution_count": 83,
     "metadata": {},
     "output_type": "execute_result"
    }
   ],
   "source": [
    "classifier.score(x,y) "
   ]
  },
  {
   "cell_type": "code",
   "execution_count": 85,
   "id": "a821ce0f",
   "metadata": {},
   "outputs": [
    {
     "data": {
      "text/plain": [
       "array([[1397,    0],\n",
       "       [ 232,    0]])"
      ]
     },
     "execution_count": 85,
     "metadata": {},
     "output_type": "execute_result"
    }
   ],
   "source": [
    "confusion_matrix(y, classifier.predict(x))\n"
   ]
  },
  {
   "cell_type": "code",
   "execution_count": 87,
   "id": "7fd6dc41",
   "metadata": {},
   "outputs": [
    {
     "name": "stdout",
     "output_type": "stream",
     "text": [
      "              precision    recall  f1-score   support\n",
      "\n",
      "          no       0.86      1.00      0.92      1397\n",
      "         yes       0.00      0.00      0.00       232\n",
      "\n",
      "    accuracy                           0.86      1629\n",
      "   macro avg       0.43      0.50      0.46      1629\n",
      "weighted avg       0.74      0.86      0.79      1629\n",
      "\n"
     ]
    },
    {
     "name": "stderr",
     "output_type": "stream",
     "text": [
      "/Users/hillelkrief1/opt/anaconda3/lib/python3.9/site-packages/sklearn/metrics/_classification.py:1318: UndefinedMetricWarning: Precision and F-score are ill-defined and being set to 0.0 in labels with no predicted samples. Use `zero_division` parameter to control this behavior.\n",
      "  _warn_prf(average, modifier, msg_start, len(result))\n",
      "/Users/hillelkrief1/opt/anaconda3/lib/python3.9/site-packages/sklearn/metrics/_classification.py:1318: UndefinedMetricWarning: Precision and F-score are ill-defined and being set to 0.0 in labels with no predicted samples. Use `zero_division` parameter to control this behavior.\n",
      "  _warn_prf(average, modifier, msg_start, len(result))\n",
      "/Users/hillelkrief1/opt/anaconda3/lib/python3.9/site-packages/sklearn/metrics/_classification.py:1318: UndefinedMetricWarning: Precision and F-score are ill-defined and being set to 0.0 in labels with no predicted samples. Use `zero_division` parameter to control this behavior.\n",
      "  _warn_prf(average, modifier, msg_start, len(result))\n"
     ]
    }
   ],
   "source": [
    "from sklearn.metrics import classification_report, confusion_matrix\n",
    "print(classification_report(y, classifier.predict(x)))"
   ]
  },
  {
   "cell_type": "code",
   "execution_count": null,
   "id": "45c4ba6e",
   "metadata": {},
   "outputs": [],
   "source": []
  }
 ],
 "metadata": {
  "kernelspec": {
   "display_name": "Python 3 (ipykernel)",
   "language": "python",
   "name": "python3"
  },
  "language_info": {
   "codemirror_mode": {
    "name": "ipython",
    "version": 3
   },
   "file_extension": ".py",
   "mimetype": "text/x-python",
   "name": "python",
   "nbconvert_exporter": "python",
   "pygments_lexer": "ipython3",
   "version": "3.9.12"
  }
 },
 "nbformat": 4,
 "nbformat_minor": 5
}
