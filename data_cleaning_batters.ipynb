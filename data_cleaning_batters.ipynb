{
 "cells": [
  {
   "cell_type": "code",
   "execution_count": 2,
   "id": "ffb62e3a",
   "metadata": {},
   "outputs": [],
   "source": [
    "import pandas as pd\n",
    "import numpy as np\n",
    "import os"
   ]
  },
  {
   "cell_type": "code",
   "execution_count": 3,
   "id": "3620304c",
   "metadata": {},
   "outputs": [],
   "source": [
    "#Importing data, including batter, pitcher, and personal player data and statistics and showing their columns\n"
   ]
  },
  {
   "cell_type": "code",
   "execution_count": 4,
   "id": "3938773f",
   "metadata": {},
   "outputs": [],
   "source": [
    "batters=pd.read_csv(r'/Users/hillelkrief1/Desktop/CareerFoundry/Course 2 Data Immersion/Achievement 6/baseballdatabank-2022.2/core/Batting.csv',index_col=False)"
   ]
  },
  {
   "cell_type": "code",
   "execution_count": 5,
   "id": "a2fe32ff",
   "metadata": {},
   "outputs": [
    {
     "data": {
      "text/plain": [
       "Index(['playerID', 'yearID', 'stint', 'teamID', 'lgID', 'G', 'AB', 'R', 'H',\n",
       "       '2B', '3B', 'HR', 'RBI', 'SB', 'CS', 'BB', 'SO', 'IBB', 'HBP', 'SH',\n",
       "       'SF', 'GIDP'],\n",
       "      dtype='object')"
      ]
     },
     "execution_count": 5,
     "metadata": {},
     "output_type": "execute_result"
    }
   ],
   "source": [
    "batters.columns\n"
   ]
  },
  {
   "cell_type": "code",
   "execution_count": 6,
   "id": "4f174299",
   "metadata": {},
   "outputs": [],
   "source": [
    "pitchers=pd.read_csv(r'/Users/hillelkrief1/Desktop/CareerFoundry/Course 2 Data Immersion/Achievement 6/baseballdatabank-2022.2/core/Pitching.csv',index_col=False)"
   ]
  },
  {
   "cell_type": "code",
   "execution_count": 7,
   "id": "105236fe",
   "metadata": {},
   "outputs": [
    {
     "data": {
      "text/plain": [
       "Index(['playerID', 'yearID', 'stint', 'teamID', 'lgID', 'W', 'L', 'G', 'GS',\n",
       "       'CG', 'SHO', 'SV', 'IPouts', 'H', 'ER', 'HR', 'BB', 'SO', 'BAOpp',\n",
       "       'ERA', 'IBB', 'WP', 'HBP', 'BK', 'BFP', 'GF', 'R', 'SH', 'SF', 'GIDP'],\n",
       "      dtype='object')"
      ]
     },
     "execution_count": 7,
     "metadata": {},
     "output_type": "execute_result"
    }
   ],
   "source": [
    "pitchers.columns"
   ]
  },
  {
   "cell_type": "code",
   "execution_count": 8,
   "id": "5c49cefa",
   "metadata": {},
   "outputs": [],
   "source": [
    "people=pd.read_csv(r'/Users/hillelkrief1/Desktop/CareerFoundry/Course 2 Data Immersion/Achievement 6/baseballdatabank-2022.2/core/People.csv',index_col=False)\n"
   ]
  },
  {
   "cell_type": "code",
   "execution_count": 9,
   "id": "0feaaeeb",
   "metadata": {},
   "outputs": [
    {
     "data": {
      "text/plain": [
       "Index(['playerID', 'birthYear', 'birthMonth', 'birthDay', 'birthCountry',\n",
       "       'birthState', 'birthCity', 'deathYear', 'deathMonth', 'deathDay',\n",
       "       'deathCountry', 'deathState', 'deathCity', 'nameFirst', 'nameLast',\n",
       "       'nameGiven', 'weight', 'height', 'bats', 'throws', 'debut', 'finalGame',\n",
       "       'retroID', 'bbrefID'],\n",
       "      dtype='object')"
      ]
     },
     "execution_count": 9,
     "metadata": {},
     "output_type": "execute_result"
    }
   ],
   "source": [
    "people.columns"
   ]
  },
  {
   "cell_type": "code",
   "execution_count": 10,
   "id": "4d9af60b",
   "metadata": {},
   "outputs": [],
   "source": [
    "allstar=pd.read_csv(r'/Users/hillelkrief1/Desktop/CareerFoundry/Course 2 Data Immersion/Achievement 6/baseballdatabank-2022.2/core/AllstarFull.csv',index_col=False)"
   ]
  },
  {
   "cell_type": "code",
   "execution_count": 11,
   "id": "e5bb303d",
   "metadata": {},
   "outputs": [
    {
     "data": {
      "text/plain": [
       "Index(['playerID', 'yearID', 'gameNum', 'gameID', 'teamID', 'lgID', 'GP',\n",
       "       'startingPos'],\n",
       "      dtype='object')"
      ]
     },
     "execution_count": 11,
     "metadata": {},
     "output_type": "execute_result"
    }
   ],
   "source": [
    "allstar.columns"
   ]
  },
  {
   "cell_type": "code",
   "execution_count": 12,
   "id": "eafb3e4b",
   "metadata": {},
   "outputs": [],
   "source": [
    "appearances_og=pd.read_csv(r'/Users/hillelkrief1/Desktop/CareerFoundry/Course 2 Data Immersion/Achievement 6/baseballdatabank-2022.2/core/Appearances.csv',index_col=False)"
   ]
  },
  {
   "cell_type": "code",
   "execution_count": 13,
   "id": "37c562f9",
   "metadata": {},
   "outputs": [
    {
     "data": {
      "text/plain": [
       "Index(['yearID', 'teamID', 'lgID', 'playerID', 'G_all', 'GS', 'G_batting',\n",
       "       'G_defense', 'G_p', 'G_c', 'G_1b', 'G_2b', 'G_3b', 'G_ss', 'G_lf',\n",
       "       'G_cf', 'G_rf', 'G_of', 'G_dh', 'G_ph', 'G_pr'],\n",
       "      dtype='object')"
      ]
     },
     "execution_count": 13,
     "metadata": {},
     "output_type": "execute_result"
    }
   ],
   "source": [
    "appearances_og.columns"
   ]
  },
  {
   "cell_type": "code",
   "execution_count": 14,
   "id": "d968d8ca",
   "metadata": {},
   "outputs": [],
   "source": [
    "hall_of_fame=pd.read_csv(r'/Users/hillelkrief1/Desktop/CareerFoundry/Course 2 Data Immersion/Achievement 6/baseballdatabank-2022.2/contrib/HallOfFame.csv',index_col=False)"
   ]
  },
  {
   "cell_type": "code",
   "execution_count": 15,
   "id": "66cf8169",
   "metadata": {},
   "outputs": [
    {
     "data": {
      "text/plain": [
       "Index(['playerID', 'yearID', 'votedBy', 'ballots', 'needed', 'votes',\n",
       "       'inducted', 'category', 'needed_note'],\n",
       "      dtype='object')"
      ]
     },
     "execution_count": 15,
     "metadata": {},
     "output_type": "execute_result"
    }
   ],
   "source": [
    "hall_of_fame.columns\n"
   ]
  },
  {
   "cell_type": "code",
   "execution_count": 16,
   "id": "021c80be",
   "metadata": {},
   "outputs": [],
   "source": [
    "salaries=pd.read_csv(r'/Users/hillelkrief1/Desktop/CareerFoundry/Course 2 Data Immersion/Achievement 6/baseballdatabank-2022.2/contrib/Salaries.csv',index_col=False)"
   ]
  },
  {
   "cell_type": "code",
   "execution_count": 17,
   "id": "a3f90379",
   "metadata": {},
   "outputs": [
    {
     "data": {
      "text/plain": [
       "Index(['yearID', 'teamID', 'lgID', 'playerID', 'salary'], dtype='object')"
      ]
     },
     "execution_count": 17,
     "metadata": {},
     "output_type": "execute_result"
    }
   ],
   "source": [
    "salaries.columns\n",
    "\n"
   ]
  },
  {
   "cell_type": "code",
   "execution_count": 18,
   "id": "a0c22b9e",
   "metadata": {},
   "outputs": [],
   "source": [
    "batter_war=pd.read_csv(r'/Users/hillelkrief1/Desktop/CareerFoundry/Course 2 Data Immersion/Achievement 6/B_Ref_WAR_ Data/batters_bref.csv',index_col=False)"
   ]
  },
  {
   "cell_type": "code",
   "execution_count": 19,
   "id": "301a60f8",
   "metadata": {},
   "outputs": [
    {
     "data": {
      "text/plain": [
       "Index(['name_common', 'age', 'mlb_ID', 'player_ID', 'year_ID', 'team_ID',\n",
       "       'stint_ID', 'lg_ID', 'PA', 'G', 'Inn', 'runs_bat', 'runs_br', 'runs_dp',\n",
       "       'runs_field', 'runs_infield', 'runs_outfield', 'runs_catcher',\n",
       "       'runs_good_plays', 'runs_defense', 'runs_position', 'runs_position_p',\n",
       "       'runs_replacement', 'runs_above_rep', 'runs_above_avg',\n",
       "       'runs_above_avg_off', 'runs_above_avg_def', 'WAA', 'WAA_off', 'WAA_def',\n",
       "       'WAR', 'WAR_def', 'WAR_off', 'WAR_rep', 'salary', 'pitcher', 'teamRpG',\n",
       "       'oppRpG', 'oppRpPA_rep', 'oppRpG_rep', 'pyth_exponent',\n",
       "       'pyth_exponent_rep', 'waa_win_perc', 'waa_win_perc_off',\n",
       "       'waa_win_perc_def', 'waa_win_perc_rep', 'OPS_plus', 'TOB_lg', 'TB_lg'],\n",
       "      dtype='object')"
      ]
     },
     "execution_count": 19,
     "metadata": {},
     "output_type": "execute_result"
    }
   ],
   "source": [
    "batter_war.columns\n"
   ]
  },
  {
   "cell_type": "code",
   "execution_count": 20,
   "id": "709c6d38",
   "metadata": {},
   "outputs": [],
   "source": [
    "pitcher_war=pd.read_csv(r'/Users/hillelkrief1/Desktop/CareerFoundry/Course 2 Data Immersion/Achievement 6/B_Ref_WAR_ Data/pitchers_bref.csv',index_col=False)"
   ]
  },
  {
   "cell_type": "code",
   "execution_count": 21,
   "id": "639af430",
   "metadata": {},
   "outputs": [
    {
     "data": {
      "text/plain": [
       "Index(['name_common', 'age', 'mlb_ID', 'player_ID', 'year_ID', 'team_ID',\n",
       "       'stint_ID', 'lg_ID', 'G', 'GS', 'IPouts', 'IPouts_start',\n",
       "       'IPouts_relief', 'RA', 'xRA', 'xRA_sprp_adj', 'xRA_extras_adj',\n",
       "       'xRA_def_pitcher', 'PPF', 'PPF_custom', 'xRA_final', 'BIP', 'BIP_perc',\n",
       "       'RS_def_total', 'runs_above_avg', 'runs_above_avg_adj',\n",
       "       'runs_above_rep', 'RpO_replacement', 'GR_leverage_index_avg', 'WAR',\n",
       "       'salary', 'teamRpG', 'oppRpG', 'pyth_exponent', 'waa_win_perc', 'WAA',\n",
       "       'WAA_adj', 'oppRpG_rep', 'pyth_exponent_rep', 'waa_win_perc_rep',\n",
       "       'WAR_rep', 'ERA_plus', 'ER_lg'],\n",
       "      dtype='object')"
      ]
     },
     "execution_count": 21,
     "metadata": {},
     "output_type": "execute_result"
    }
   ],
   "source": [
    "pitcher_war.columns\n",
    "\n"
   ]
  },
  {
   "cell_type": "code",
   "execution_count": 22,
   "id": "57bcde77",
   "metadata": {},
   "outputs": [],
   "source": [
    "appearances_og=pd.read_csv(r'/Users/hillelkrief1/Desktop/CareerFoundry/Course 2 Data Immersion/Achievement 6/baseballdatabank-2022.2/core/Appearances.csv')"
   ]
  },
  {
   "cell_type": "code",
   "execution_count": 23,
   "id": "e1f074b3",
   "metadata": {},
   "outputs": [],
   "source": [
    "#Erasing alldata prior to 1960, as latin players started to join the MLB in the 1950's only. \n"
   ]
  },
  {
   "cell_type": "code",
   "execution_count": 24,
   "id": "aaf8a8dc",
   "metadata": {},
   "outputs": [],
   "source": [
    "batters = batters.drop(batters[batters.yearID <= 1960].index)\n",
    "pitchers=pitchers.drop(pitchers[pitchers.yearID<=1960].index)\n",
    "appearances_og = appearances_og.drop(appearances_og[appearances_og.yearID <= 1960].index)\n",
    "batter_war_clean = batter_war.drop(batter_war[batter_war.year_ID <= 1960].index)\n",
    "allstar = allstar.drop(allstar[allstar.yearID <= 1960].index)"
   ]
  },
  {
   "cell_type": "code",
   "execution_count": 25,
   "id": "eb6da60f",
   "metadata": {},
   "outputs": [
    {
     "data": {
      "text/html": [
       "<div>\n",
       "<style scoped>\n",
       "    .dataframe tbody tr th:only-of-type {\n",
       "        vertical-align: middle;\n",
       "    }\n",
       "\n",
       "    .dataframe tbody tr th {\n",
       "        vertical-align: top;\n",
       "    }\n",
       "\n",
       "    .dataframe thead th {\n",
       "        text-align: right;\n",
       "    }\n",
       "</style>\n",
       "<table border=\"1\" class=\"dataframe\">\n",
       "  <thead>\n",
       "    <tr style=\"text-align: right;\">\n",
       "      <th></th>\n",
       "      <th>playerID</th>\n",
       "      <th>yearID</th>\n",
       "      <th>stint</th>\n",
       "      <th>teamID</th>\n",
       "      <th>lgID</th>\n",
       "      <th>G</th>\n",
       "      <th>AB</th>\n",
       "      <th>R</th>\n",
       "      <th>H</th>\n",
       "      <th>2B</th>\n",
       "      <th>...</th>\n",
       "      <th>RBI</th>\n",
       "      <th>SB</th>\n",
       "      <th>CS</th>\n",
       "      <th>BB</th>\n",
       "      <th>SO</th>\n",
       "      <th>IBB</th>\n",
       "      <th>HBP</th>\n",
       "      <th>SH</th>\n",
       "      <th>SF</th>\n",
       "      <th>GIDP</th>\n",
       "    </tr>\n",
       "  </thead>\n",
       "  <tbody>\n",
       "    <tr>\n",
       "      <th>41261</th>\n",
       "      <td>aaronha01</td>\n",
       "      <td>1961</td>\n",
       "      <td>1</td>\n",
       "      <td>ML1</td>\n",
       "      <td>NL</td>\n",
       "      <td>155</td>\n",
       "      <td>603</td>\n",
       "      <td>115</td>\n",
       "      <td>197</td>\n",
       "      <td>39</td>\n",
       "      <td>...</td>\n",
       "      <td>120.0</td>\n",
       "      <td>21.0</td>\n",
       "      <td>9.0</td>\n",
       "      <td>56</td>\n",
       "      <td>64.0</td>\n",
       "      <td>20.0</td>\n",
       "      <td>2.0</td>\n",
       "      <td>1.0</td>\n",
       "      <td>9.0</td>\n",
       "      <td>16.0</td>\n",
       "    </tr>\n",
       "    <tr>\n",
       "      <th>41262</th>\n",
       "      <td>adairje01</td>\n",
       "      <td>1961</td>\n",
       "      <td>1</td>\n",
       "      <td>BAL</td>\n",
       "      <td>AL</td>\n",
       "      <td>133</td>\n",
       "      <td>386</td>\n",
       "      <td>41</td>\n",
       "      <td>102</td>\n",
       "      <td>21</td>\n",
       "      <td>...</td>\n",
       "      <td>37.0</td>\n",
       "      <td>5.0</td>\n",
       "      <td>2.0</td>\n",
       "      <td>35</td>\n",
       "      <td>51.0</td>\n",
       "      <td>4.0</td>\n",
       "      <td>2.0</td>\n",
       "      <td>1.0</td>\n",
       "      <td>4.0</td>\n",
       "      <td>6.0</td>\n",
       "    </tr>\n",
       "    <tr>\n",
       "      <th>41263</th>\n",
       "      <td>adcocjo01</td>\n",
       "      <td>1961</td>\n",
       "      <td>1</td>\n",
       "      <td>ML1</td>\n",
       "      <td>NL</td>\n",
       "      <td>152</td>\n",
       "      <td>562</td>\n",
       "      <td>77</td>\n",
       "      <td>160</td>\n",
       "      <td>20</td>\n",
       "      <td>...</td>\n",
       "      <td>108.0</td>\n",
       "      <td>2.0</td>\n",
       "      <td>1.0</td>\n",
       "      <td>59</td>\n",
       "      <td>94.0</td>\n",
       "      <td>4.0</td>\n",
       "      <td>2.0</td>\n",
       "      <td>4.0</td>\n",
       "      <td>2.0</td>\n",
       "      <td>22.0</td>\n",
       "    </tr>\n",
       "    <tr>\n",
       "      <th>41264</th>\n",
       "      <td>aguirha01</td>\n",
       "      <td>1961</td>\n",
       "      <td>1</td>\n",
       "      <td>DET</td>\n",
       "      <td>AL</td>\n",
       "      <td>45</td>\n",
       "      <td>9</td>\n",
       "      <td>0</td>\n",
       "      <td>0</td>\n",
       "      <td>0</td>\n",
       "      <td>...</td>\n",
       "      <td>1.0</td>\n",
       "      <td>0.0</td>\n",
       "      <td>0.0</td>\n",
       "      <td>0</td>\n",
       "      <td>8.0</td>\n",
       "      <td>0.0</td>\n",
       "      <td>0.0</td>\n",
       "      <td>3.0</td>\n",
       "      <td>1.0</td>\n",
       "      <td>0.0</td>\n",
       "    </tr>\n",
       "    <tr>\n",
       "      <th>41265</th>\n",
       "      <td>allenbo04</td>\n",
       "      <td>1961</td>\n",
       "      <td>1</td>\n",
       "      <td>CLE</td>\n",
       "      <td>AL</td>\n",
       "      <td>48</td>\n",
       "      <td>12</td>\n",
       "      <td>0</td>\n",
       "      <td>2</td>\n",
       "      <td>1</td>\n",
       "      <td>...</td>\n",
       "      <td>0.0</td>\n",
       "      <td>0.0</td>\n",
       "      <td>0.0</td>\n",
       "      <td>0</td>\n",
       "      <td>5.0</td>\n",
       "      <td>0.0</td>\n",
       "      <td>0.0</td>\n",
       "      <td>1.0</td>\n",
       "      <td>0.0</td>\n",
       "      <td>0.0</td>\n",
       "    </tr>\n",
       "  </tbody>\n",
       "</table>\n",
       "<p>5 rows × 22 columns</p>\n",
       "</div>"
      ],
      "text/plain": [
       "        playerID  yearID  stint teamID lgID    G   AB    R    H  2B  ...  \\\n",
       "41261  aaronha01    1961      1    ML1   NL  155  603  115  197  39  ...   \n",
       "41262  adairje01    1961      1    BAL   AL  133  386   41  102  21  ...   \n",
       "41263  adcocjo01    1961      1    ML1   NL  152  562   77  160  20  ...   \n",
       "41264  aguirha01    1961      1    DET   AL   45    9    0    0   0  ...   \n",
       "41265  allenbo04    1961      1    CLE   AL   48   12    0    2   1  ...   \n",
       "\n",
       "         RBI    SB   CS  BB    SO   IBB  HBP   SH   SF  GIDP  \n",
       "41261  120.0  21.0  9.0  56  64.0  20.0  2.0  1.0  9.0  16.0  \n",
       "41262   37.0   5.0  2.0  35  51.0   4.0  2.0  1.0  4.0   6.0  \n",
       "41263  108.0   2.0  1.0  59  94.0   4.0  2.0  4.0  2.0  22.0  \n",
       "41264    1.0   0.0  0.0   0   8.0   0.0  0.0  3.0  1.0   0.0  \n",
       "41265    0.0   0.0  0.0   0   5.0   0.0  0.0  1.0  0.0   0.0  \n",
       "\n",
       "[5 rows x 22 columns]"
      ]
     },
     "execution_count": 25,
     "metadata": {},
     "output_type": "execute_result"
    }
   ],
   "source": [
    "batters.head()\n",
    "\n"
   ]
  },
  {
   "cell_type": "code",
   "execution_count": 26,
   "id": "be94a485",
   "metadata": {
    "scrolled": true
   },
   "outputs": [
    {
     "data": {
      "text/html": [
       "<div>\n",
       "<style scoped>\n",
       "    .dataframe tbody tr th:only-of-type {\n",
       "        vertical-align: middle;\n",
       "    }\n",
       "\n",
       "    .dataframe tbody tr th {\n",
       "        vertical-align: top;\n",
       "    }\n",
       "\n",
       "    .dataframe thead th {\n",
       "        text-align: right;\n",
       "    }\n",
       "</style>\n",
       "<table border=\"1\" class=\"dataframe\">\n",
       "  <thead>\n",
       "    <tr style=\"text-align: right;\">\n",
       "      <th></th>\n",
       "      <th>playerID</th>\n",
       "      <th>yearID</th>\n",
       "      <th>stint</th>\n",
       "      <th>teamID</th>\n",
       "      <th>lgID</th>\n",
       "      <th>W</th>\n",
       "      <th>L</th>\n",
       "      <th>G</th>\n",
       "      <th>GS</th>\n",
       "      <th>CG</th>\n",
       "      <th>...</th>\n",
       "      <th>IBB</th>\n",
       "      <th>WP</th>\n",
       "      <th>HBP</th>\n",
       "      <th>BK</th>\n",
       "      <th>BFP</th>\n",
       "      <th>GF</th>\n",
       "      <th>R</th>\n",
       "      <th>SH</th>\n",
       "      <th>SF</th>\n",
       "      <th>GIDP</th>\n",
       "    </tr>\n",
       "  </thead>\n",
       "  <tbody>\n",
       "    <tr>\n",
       "      <th>16201</th>\n",
       "      <td>aguirha01</td>\n",
       "      <td>1961</td>\n",
       "      <td>1</td>\n",
       "      <td>DET</td>\n",
       "      <td>AL</td>\n",
       "      <td>4</td>\n",
       "      <td>4</td>\n",
       "      <td>45</td>\n",
       "      <td>0</td>\n",
       "      <td>0</td>\n",
       "      <td>...</td>\n",
       "      <td>3.0</td>\n",
       "      <td>4</td>\n",
       "      <td>2.0</td>\n",
       "      <td>0</td>\n",
       "      <td>244.0</td>\n",
       "      <td>21</td>\n",
       "      <td>22</td>\n",
       "      <td>NaN</td>\n",
       "      <td>NaN</td>\n",
       "      <td>NaN</td>\n",
       "    </tr>\n",
       "    <tr>\n",
       "      <th>16202</th>\n",
       "      <td>allenbo04</td>\n",
       "      <td>1961</td>\n",
       "      <td>1</td>\n",
       "      <td>CLE</td>\n",
       "      <td>AL</td>\n",
       "      <td>3</td>\n",
       "      <td>2</td>\n",
       "      <td>48</td>\n",
       "      <td>0</td>\n",
       "      <td>0</td>\n",
       "      <td>...</td>\n",
       "      <td>5.0</td>\n",
       "      <td>4</td>\n",
       "      <td>1.0</td>\n",
       "      <td>0</td>\n",
       "      <td>373.0</td>\n",
       "      <td>17</td>\n",
       "      <td>42</td>\n",
       "      <td>NaN</td>\n",
       "      <td>NaN</td>\n",
       "      <td>NaN</td>\n",
       "    </tr>\n",
       "    <tr>\n",
       "      <th>16203</th>\n",
       "      <td>anderbo01</td>\n",
       "      <td>1961</td>\n",
       "      <td>1</td>\n",
       "      <td>CHN</td>\n",
       "      <td>NL</td>\n",
       "      <td>7</td>\n",
       "      <td>10</td>\n",
       "      <td>57</td>\n",
       "      <td>12</td>\n",
       "      <td>1</td>\n",
       "      <td>...</td>\n",
       "      <td>11.0</td>\n",
       "      <td>4</td>\n",
       "      <td>2.0</td>\n",
       "      <td>0</td>\n",
       "      <td>659.0</td>\n",
       "      <td>21</td>\n",
       "      <td>85</td>\n",
       "      <td>NaN</td>\n",
       "      <td>NaN</td>\n",
       "      <td>NaN</td>\n",
       "    </tr>\n",
       "    <tr>\n",
       "      <th>16204</th>\n",
       "      <td>andercr01</td>\n",
       "      <td>1961</td>\n",
       "      <td>1</td>\n",
       "      <td>SLN</td>\n",
       "      <td>NL</td>\n",
       "      <td>4</td>\n",
       "      <td>3</td>\n",
       "      <td>25</td>\n",
       "      <td>0</td>\n",
       "      <td>0</td>\n",
       "      <td>...</td>\n",
       "      <td>0.0</td>\n",
       "      <td>3</td>\n",
       "      <td>1.0</td>\n",
       "      <td>0</td>\n",
       "      <td>164.0</td>\n",
       "      <td>13</td>\n",
       "      <td>15</td>\n",
       "      <td>NaN</td>\n",
       "      <td>NaN</td>\n",
       "      <td>NaN</td>\n",
       "    </tr>\n",
       "    <tr>\n",
       "      <th>16205</th>\n",
       "      <td>antonjo02</td>\n",
       "      <td>1961</td>\n",
       "      <td>1</td>\n",
       "      <td>CLE</td>\n",
       "      <td>AL</td>\n",
       "      <td>0</td>\n",
       "      <td>4</td>\n",
       "      <td>11</td>\n",
       "      <td>7</td>\n",
       "      <td>0</td>\n",
       "      <td>...</td>\n",
       "      <td>0.0</td>\n",
       "      <td>1</td>\n",
       "      <td>1.0</td>\n",
       "      <td>0</td>\n",
       "      <td>225.0</td>\n",
       "      <td>0</td>\n",
       "      <td>39</td>\n",
       "      <td>NaN</td>\n",
       "      <td>NaN</td>\n",
       "      <td>NaN</td>\n",
       "    </tr>\n",
       "  </tbody>\n",
       "</table>\n",
       "<p>5 rows × 30 columns</p>\n",
       "</div>"
      ],
      "text/plain": [
       "        playerID  yearID  stint teamID lgID  W   L   G  GS  CG  ...   IBB  WP  \\\n",
       "16201  aguirha01    1961      1    DET   AL  4   4  45   0   0  ...   3.0   4   \n",
       "16202  allenbo04    1961      1    CLE   AL  3   2  48   0   0  ...   5.0   4   \n",
       "16203  anderbo01    1961      1    CHN   NL  7  10  57  12   1  ...  11.0   4   \n",
       "16204  andercr01    1961      1    SLN   NL  4   3  25   0   0  ...   0.0   3   \n",
       "16205  antonjo02    1961      1    CLE   AL  0   4  11   7   0  ...   0.0   1   \n",
       "\n",
       "       HBP  BK    BFP  GF   R  SH  SF  GIDP  \n",
       "16201  2.0   0  244.0  21  22 NaN NaN   NaN  \n",
       "16202  1.0   0  373.0  17  42 NaN NaN   NaN  \n",
       "16203  2.0   0  659.0  21  85 NaN NaN   NaN  \n",
       "16204  1.0   0  164.0  13  15 NaN NaN   NaN  \n",
       "16205  1.0   0  225.0   0  39 NaN NaN   NaN  \n",
       "\n",
       "[5 rows x 30 columns]"
      ]
     },
     "execution_count": 26,
     "metadata": {},
     "output_type": "execute_result"
    }
   ],
   "source": [
    "pitchers.head()\n",
    "\n"
   ]
  },
  {
   "cell_type": "code",
   "execution_count": 27,
   "id": "91e026ff",
   "metadata": {},
   "outputs": [],
   "source": [
    "#We will now merge the batters data with the people data, this will both be integral to our analysis, but, it will also help us to merge with another dataset"
   ]
  },
  {
   "cell_type": "code",
   "execution_count": 28,
   "id": "17b4cadd",
   "metadata": {},
   "outputs": [
    {
     "data": {
      "text/plain": [
       "(69234, 22)"
      ]
     },
     "execution_count": 28,
     "metadata": {},
     "output_type": "execute_result"
    }
   ],
   "source": [
    "batters.shape"
   ]
  },
  {
   "cell_type": "code",
   "execution_count": 29,
   "id": "c874b9b2",
   "metadata": {},
   "outputs": [],
   "source": [
    "batters_and_people=pd.merge(batters,people, on='playerID',how='left')"
   ]
  },
  {
   "cell_type": "code",
   "execution_count": 30,
   "id": "dd4ac41d",
   "metadata": {},
   "outputs": [
    {
     "data": {
      "text/plain": [
       "(69234, 45)"
      ]
     },
     "execution_count": 30,
     "metadata": {},
     "output_type": "execute_result"
    }
   ],
   "source": [
    "batters_and_people.shape"
   ]
  },
  {
   "cell_type": "code",
   "execution_count": 31,
   "id": "99193219",
   "metadata": {},
   "outputs": [
    {
     "data": {
      "text/html": [
       "<div>\n",
       "<style scoped>\n",
       "    .dataframe tbody tr th:only-of-type {\n",
       "        vertical-align: middle;\n",
       "    }\n",
       "\n",
       "    .dataframe tbody tr th {\n",
       "        vertical-align: top;\n",
       "    }\n",
       "\n",
       "    .dataframe thead th {\n",
       "        text-align: right;\n",
       "    }\n",
       "</style>\n",
       "<table border=\"1\" class=\"dataframe\">\n",
       "  <thead>\n",
       "    <tr style=\"text-align: right;\">\n",
       "      <th></th>\n",
       "      <th>playerID</th>\n",
       "      <th>yearID</th>\n",
       "      <th>stint</th>\n",
       "      <th>teamID</th>\n",
       "      <th>lgID</th>\n",
       "      <th>G</th>\n",
       "      <th>AB</th>\n",
       "      <th>R</th>\n",
       "      <th>H</th>\n",
       "      <th>2B</th>\n",
       "      <th>...</th>\n",
       "      <th>RBI</th>\n",
       "      <th>SB</th>\n",
       "      <th>CS</th>\n",
       "      <th>BB</th>\n",
       "      <th>SO</th>\n",
       "      <th>IBB</th>\n",
       "      <th>HBP</th>\n",
       "      <th>SH</th>\n",
       "      <th>SF</th>\n",
       "      <th>GIDP</th>\n",
       "    </tr>\n",
       "  </thead>\n",
       "  <tbody>\n",
       "    <tr>\n",
       "      <th>41261</th>\n",
       "      <td>aaronha01</td>\n",
       "      <td>1961</td>\n",
       "      <td>1</td>\n",
       "      <td>ML1</td>\n",
       "      <td>NL</td>\n",
       "      <td>155</td>\n",
       "      <td>603</td>\n",
       "      <td>115</td>\n",
       "      <td>197</td>\n",
       "      <td>39</td>\n",
       "      <td>...</td>\n",
       "      <td>120.0</td>\n",
       "      <td>21.0</td>\n",
       "      <td>9.0</td>\n",
       "      <td>56</td>\n",
       "      <td>64.0</td>\n",
       "      <td>20.0</td>\n",
       "      <td>2.0</td>\n",
       "      <td>1.0</td>\n",
       "      <td>9.0</td>\n",
       "      <td>16.0</td>\n",
       "    </tr>\n",
       "    <tr>\n",
       "      <th>41262</th>\n",
       "      <td>adairje01</td>\n",
       "      <td>1961</td>\n",
       "      <td>1</td>\n",
       "      <td>BAL</td>\n",
       "      <td>AL</td>\n",
       "      <td>133</td>\n",
       "      <td>386</td>\n",
       "      <td>41</td>\n",
       "      <td>102</td>\n",
       "      <td>21</td>\n",
       "      <td>...</td>\n",
       "      <td>37.0</td>\n",
       "      <td>5.0</td>\n",
       "      <td>2.0</td>\n",
       "      <td>35</td>\n",
       "      <td>51.0</td>\n",
       "      <td>4.0</td>\n",
       "      <td>2.0</td>\n",
       "      <td>1.0</td>\n",
       "      <td>4.0</td>\n",
       "      <td>6.0</td>\n",
       "    </tr>\n",
       "    <tr>\n",
       "      <th>41263</th>\n",
       "      <td>adcocjo01</td>\n",
       "      <td>1961</td>\n",
       "      <td>1</td>\n",
       "      <td>ML1</td>\n",
       "      <td>NL</td>\n",
       "      <td>152</td>\n",
       "      <td>562</td>\n",
       "      <td>77</td>\n",
       "      <td>160</td>\n",
       "      <td>20</td>\n",
       "      <td>...</td>\n",
       "      <td>108.0</td>\n",
       "      <td>2.0</td>\n",
       "      <td>1.0</td>\n",
       "      <td>59</td>\n",
       "      <td>94.0</td>\n",
       "      <td>4.0</td>\n",
       "      <td>2.0</td>\n",
       "      <td>4.0</td>\n",
       "      <td>2.0</td>\n",
       "      <td>22.0</td>\n",
       "    </tr>\n",
       "    <tr>\n",
       "      <th>41264</th>\n",
       "      <td>aguirha01</td>\n",
       "      <td>1961</td>\n",
       "      <td>1</td>\n",
       "      <td>DET</td>\n",
       "      <td>AL</td>\n",
       "      <td>45</td>\n",
       "      <td>9</td>\n",
       "      <td>0</td>\n",
       "      <td>0</td>\n",
       "      <td>0</td>\n",
       "      <td>...</td>\n",
       "      <td>1.0</td>\n",
       "      <td>0.0</td>\n",
       "      <td>0.0</td>\n",
       "      <td>0</td>\n",
       "      <td>8.0</td>\n",
       "      <td>0.0</td>\n",
       "      <td>0.0</td>\n",
       "      <td>3.0</td>\n",
       "      <td>1.0</td>\n",
       "      <td>0.0</td>\n",
       "    </tr>\n",
       "    <tr>\n",
       "      <th>41265</th>\n",
       "      <td>allenbo04</td>\n",
       "      <td>1961</td>\n",
       "      <td>1</td>\n",
       "      <td>CLE</td>\n",
       "      <td>AL</td>\n",
       "      <td>48</td>\n",
       "      <td>12</td>\n",
       "      <td>0</td>\n",
       "      <td>2</td>\n",
       "      <td>1</td>\n",
       "      <td>...</td>\n",
       "      <td>0.0</td>\n",
       "      <td>0.0</td>\n",
       "      <td>0.0</td>\n",
       "      <td>0</td>\n",
       "      <td>5.0</td>\n",
       "      <td>0.0</td>\n",
       "      <td>0.0</td>\n",
       "      <td>1.0</td>\n",
       "      <td>0.0</td>\n",
       "      <td>0.0</td>\n",
       "    </tr>\n",
       "  </tbody>\n",
       "</table>\n",
       "<p>5 rows × 22 columns</p>\n",
       "</div>"
      ],
      "text/plain": [
       "        playerID  yearID  stint teamID lgID    G   AB    R    H  2B  ...  \\\n",
       "41261  aaronha01    1961      1    ML1   NL  155  603  115  197  39  ...   \n",
       "41262  adairje01    1961      1    BAL   AL  133  386   41  102  21  ...   \n",
       "41263  adcocjo01    1961      1    ML1   NL  152  562   77  160  20  ...   \n",
       "41264  aguirha01    1961      1    DET   AL   45    9    0    0   0  ...   \n",
       "41265  allenbo04    1961      1    CLE   AL   48   12    0    2   1  ...   \n",
       "\n",
       "         RBI    SB   CS  BB    SO   IBB  HBP   SH   SF  GIDP  \n",
       "41261  120.0  21.0  9.0  56  64.0  20.0  2.0  1.0  9.0  16.0  \n",
       "41262   37.0   5.0  2.0  35  51.0   4.0  2.0  1.0  4.0   6.0  \n",
       "41263  108.0   2.0  1.0  59  94.0   4.0  2.0  4.0  2.0  22.0  \n",
       "41264    1.0   0.0  0.0   0   8.0   0.0  0.0  3.0  1.0   0.0  \n",
       "41265    0.0   0.0  0.0   0   5.0   0.0  0.0  1.0  0.0   0.0  \n",
       "\n",
       "[5 rows x 22 columns]"
      ]
     },
     "execution_count": 31,
     "metadata": {},
     "output_type": "execute_result"
    }
   ],
   "source": [
    "batters.head()"
   ]
  },
  {
   "cell_type": "code",
   "execution_count": 32,
   "id": "16b6ec6b",
   "metadata": {},
   "outputs": [
    {
     "data": {
      "text/html": [
       "<div>\n",
       "<style scoped>\n",
       "    .dataframe tbody tr th:only-of-type {\n",
       "        vertical-align: middle;\n",
       "    }\n",
       "\n",
       "    .dataframe tbody tr th {\n",
       "        vertical-align: top;\n",
       "    }\n",
       "\n",
       "    .dataframe thead th {\n",
       "        text-align: right;\n",
       "    }\n",
       "</style>\n",
       "<table border=\"1\" class=\"dataframe\">\n",
       "  <thead>\n",
       "    <tr style=\"text-align: right;\">\n",
       "      <th></th>\n",
       "      <th>playerID</th>\n",
       "      <th>yearID</th>\n",
       "      <th>stint</th>\n",
       "      <th>teamID</th>\n",
       "      <th>lgID</th>\n",
       "      <th>G</th>\n",
       "      <th>AB</th>\n",
       "      <th>R</th>\n",
       "      <th>H</th>\n",
       "      <th>2B</th>\n",
       "      <th>...</th>\n",
       "      <th>nameLast</th>\n",
       "      <th>nameGiven</th>\n",
       "      <th>weight</th>\n",
       "      <th>height</th>\n",
       "      <th>bats</th>\n",
       "      <th>throws</th>\n",
       "      <th>debut</th>\n",
       "      <th>finalGame</th>\n",
       "      <th>retroID</th>\n",
       "      <th>bbrefID</th>\n",
       "    </tr>\n",
       "  </thead>\n",
       "  <tbody>\n",
       "    <tr>\n",
       "      <th>0</th>\n",
       "      <td>aaronha01</td>\n",
       "      <td>1961</td>\n",
       "      <td>1</td>\n",
       "      <td>ML1</td>\n",
       "      <td>NL</td>\n",
       "      <td>155</td>\n",
       "      <td>603</td>\n",
       "      <td>115</td>\n",
       "      <td>197</td>\n",
       "      <td>39</td>\n",
       "      <td>...</td>\n",
       "      <td>Aaron</td>\n",
       "      <td>Henry Louis</td>\n",
       "      <td>180.0</td>\n",
       "      <td>72.0</td>\n",
       "      <td>R</td>\n",
       "      <td>R</td>\n",
       "      <td>1954-04-13</td>\n",
       "      <td>1976-10-03</td>\n",
       "      <td>aaroh101</td>\n",
       "      <td>aaronha01</td>\n",
       "    </tr>\n",
       "    <tr>\n",
       "      <th>1</th>\n",
       "      <td>adairje01</td>\n",
       "      <td>1961</td>\n",
       "      <td>1</td>\n",
       "      <td>BAL</td>\n",
       "      <td>AL</td>\n",
       "      <td>133</td>\n",
       "      <td>386</td>\n",
       "      <td>41</td>\n",
       "      <td>102</td>\n",
       "      <td>21</td>\n",
       "      <td>...</td>\n",
       "      <td>Adair</td>\n",
       "      <td>Kenneth Jerry</td>\n",
       "      <td>175.0</td>\n",
       "      <td>72.0</td>\n",
       "      <td>R</td>\n",
       "      <td>R</td>\n",
       "      <td>1958-09-02</td>\n",
       "      <td>1970-05-03</td>\n",
       "      <td>adaij101</td>\n",
       "      <td>adairje01</td>\n",
       "    </tr>\n",
       "    <tr>\n",
       "      <th>2</th>\n",
       "      <td>adcocjo01</td>\n",
       "      <td>1961</td>\n",
       "      <td>1</td>\n",
       "      <td>ML1</td>\n",
       "      <td>NL</td>\n",
       "      <td>152</td>\n",
       "      <td>562</td>\n",
       "      <td>77</td>\n",
       "      <td>160</td>\n",
       "      <td>20</td>\n",
       "      <td>...</td>\n",
       "      <td>Adcock</td>\n",
       "      <td>Joseph Wilbur</td>\n",
       "      <td>210.0</td>\n",
       "      <td>76.0</td>\n",
       "      <td>R</td>\n",
       "      <td>R</td>\n",
       "      <td>1950-04-23</td>\n",
       "      <td>1966-10-01</td>\n",
       "      <td>adcoj101</td>\n",
       "      <td>adcocjo01</td>\n",
       "    </tr>\n",
       "    <tr>\n",
       "      <th>3</th>\n",
       "      <td>aguirha01</td>\n",
       "      <td>1961</td>\n",
       "      <td>1</td>\n",
       "      <td>DET</td>\n",
       "      <td>AL</td>\n",
       "      <td>45</td>\n",
       "      <td>9</td>\n",
       "      <td>0</td>\n",
       "      <td>0</td>\n",
       "      <td>0</td>\n",
       "      <td>...</td>\n",
       "      <td>Aguirre</td>\n",
       "      <td>Henry John</td>\n",
       "      <td>205.0</td>\n",
       "      <td>76.0</td>\n",
       "      <td>R</td>\n",
       "      <td>L</td>\n",
       "      <td>1955-09-10</td>\n",
       "      <td>1970-06-24</td>\n",
       "      <td>aguih101</td>\n",
       "      <td>aguirha01</td>\n",
       "    </tr>\n",
       "    <tr>\n",
       "      <th>4</th>\n",
       "      <td>allenbo04</td>\n",
       "      <td>1961</td>\n",
       "      <td>1</td>\n",
       "      <td>CLE</td>\n",
       "      <td>AL</td>\n",
       "      <td>48</td>\n",
       "      <td>12</td>\n",
       "      <td>0</td>\n",
       "      <td>2</td>\n",
       "      <td>1</td>\n",
       "      <td>...</td>\n",
       "      <td>Allen</td>\n",
       "      <td>Robert Gray</td>\n",
       "      <td>175.0</td>\n",
       "      <td>74.0</td>\n",
       "      <td>L</td>\n",
       "      <td>L</td>\n",
       "      <td>1961-04-14</td>\n",
       "      <td>1967-09-27</td>\n",
       "      <td>alleb101</td>\n",
       "      <td>allenbo04</td>\n",
       "    </tr>\n",
       "  </tbody>\n",
       "</table>\n",
       "<p>5 rows × 45 columns</p>\n",
       "</div>"
      ],
      "text/plain": [
       "    playerID  yearID  stint teamID lgID    G   AB    R    H  2B  ...  \\\n",
       "0  aaronha01    1961      1    ML1   NL  155  603  115  197  39  ...   \n",
       "1  adairje01    1961      1    BAL   AL  133  386   41  102  21  ...   \n",
       "2  adcocjo01    1961      1    ML1   NL  152  562   77  160  20  ...   \n",
       "3  aguirha01    1961      1    DET   AL   45    9    0    0   0  ...   \n",
       "4  allenbo04    1961      1    CLE   AL   48   12    0    2   1  ...   \n",
       "\n",
       "   nameLast      nameGiven  weight  height  bats  throws       debut  \\\n",
       "0     Aaron    Henry Louis   180.0    72.0     R       R  1954-04-13   \n",
       "1     Adair  Kenneth Jerry   175.0    72.0     R       R  1958-09-02   \n",
       "2    Adcock  Joseph Wilbur   210.0    76.0     R       R  1950-04-23   \n",
       "3   Aguirre     Henry John   205.0    76.0     R       L  1955-09-10   \n",
       "4     Allen    Robert Gray   175.0    74.0     L       L  1961-04-14   \n",
       "\n",
       "    finalGame   retroID    bbrefID  \n",
       "0  1976-10-03  aaroh101  aaronha01  \n",
       "1  1970-05-03  adaij101  adairje01  \n",
       "2  1966-10-01  adcoj101  adcocjo01  \n",
       "3  1970-06-24  aguih101  aguirha01  \n",
       "4  1967-09-27  alleb101  allenbo04  \n",
       "\n",
       "[5 rows x 45 columns]"
      ]
     },
     "execution_count": 32,
     "metadata": {},
     "output_type": "execute_result"
    }
   ],
   "source": [
    "batters_and_people.head()"
   ]
  },
  {
   "cell_type": "code",
   "execution_count": 33,
   "id": "972f230a",
   "metadata": {},
   "outputs": [
    {
     "data": {
      "text/plain": [
       "Index(['playerID', 'yearID', 'stint', 'teamID', 'lgID', 'G', 'AB', 'R', 'H',\n",
       "       '2B', '3B', 'HR', 'RBI', 'SB', 'CS', 'BB', 'SO', 'IBB', 'HBP', 'SH',\n",
       "       'SF', 'GIDP', 'birthYear', 'birthMonth', 'birthDay', 'birthCountry',\n",
       "       'birthState', 'birthCity', 'deathYear', 'deathMonth', 'deathDay',\n",
       "       'deathCountry', 'deathState', 'deathCity', 'nameFirst', 'nameLast',\n",
       "       'nameGiven', 'weight', 'height', 'bats', 'throws', 'debut', 'finalGame',\n",
       "       'retroID', 'bbrefID'],\n",
       "      dtype='object')"
      ]
     },
     "execution_count": 33,
     "metadata": {},
     "output_type": "execute_result"
    }
   ],
   "source": [
    "batters_and_people.columns"
   ]
  },
  {
   "cell_type": "code",
   "execution_count": 34,
   "id": "949a7df4",
   "metadata": {},
   "outputs": [
    {
     "data": {
      "text/html": [
       "<div>\n",
       "<style scoped>\n",
       "    .dataframe tbody tr th:only-of-type {\n",
       "        vertical-align: middle;\n",
       "    }\n",
       "\n",
       "    .dataframe tbody tr th {\n",
       "        vertical-align: top;\n",
       "    }\n",
       "\n",
       "    .dataframe thead th {\n",
       "        text-align: right;\n",
       "    }\n",
       "</style>\n",
       "<table border=\"1\" class=\"dataframe\">\n",
       "  <thead>\n",
       "    <tr style=\"text-align: right;\">\n",
       "      <th></th>\n",
       "      <th>yearID</th>\n",
       "      <th>teamID</th>\n",
       "      <th>lgID</th>\n",
       "      <th>playerID</th>\n",
       "      <th>G_all</th>\n",
       "      <th>GS</th>\n",
       "      <th>G_batting</th>\n",
       "      <th>G_defense</th>\n",
       "      <th>G_p</th>\n",
       "      <th>G_c</th>\n",
       "      <th>...</th>\n",
       "      <th>G_2b</th>\n",
       "      <th>G_3b</th>\n",
       "      <th>G_ss</th>\n",
       "      <th>G_lf</th>\n",
       "      <th>G_cf</th>\n",
       "      <th>G_rf</th>\n",
       "      <th>G_of</th>\n",
       "      <th>G_dh</th>\n",
       "      <th>G_ph</th>\n",
       "      <th>G_pr</th>\n",
       "    </tr>\n",
       "  </thead>\n",
       "  <tbody>\n",
       "    <tr>\n",
       "      <th>41215</th>\n",
       "      <td>1961</td>\n",
       "      <td>ML1</td>\n",
       "      <td>NL</td>\n",
       "      <td>aaronha01</td>\n",
       "      <td>155</td>\n",
       "      <td>154.0</td>\n",
       "      <td>155</td>\n",
       "      <td>154.0</td>\n",
       "      <td>0</td>\n",
       "      <td>0</td>\n",
       "      <td>...</td>\n",
       "      <td>0</td>\n",
       "      <td>2</td>\n",
       "      <td>0</td>\n",
       "      <td>0</td>\n",
       "      <td>83</td>\n",
       "      <td>78</td>\n",
       "      <td>154</td>\n",
       "      <td>0.0</td>\n",
       "      <td>1.0</td>\n",
       "      <td>0.0</td>\n",
       "    </tr>\n",
       "    <tr>\n",
       "      <th>41216</th>\n",
       "      <td>1961</td>\n",
       "      <td>BAL</td>\n",
       "      <td>AL</td>\n",
       "      <td>adairje01</td>\n",
       "      <td>133</td>\n",
       "      <td>115.0</td>\n",
       "      <td>133</td>\n",
       "      <td>131.0</td>\n",
       "      <td>0</td>\n",
       "      <td>0</td>\n",
       "      <td>...</td>\n",
       "      <td>107</td>\n",
       "      <td>2</td>\n",
       "      <td>27</td>\n",
       "      <td>0</td>\n",
       "      <td>0</td>\n",
       "      <td>0</td>\n",
       "      <td>0</td>\n",
       "      <td>0.0</td>\n",
       "      <td>0.0</td>\n",
       "      <td>6.0</td>\n",
       "    </tr>\n",
       "    <tr>\n",
       "      <th>41217</th>\n",
       "      <td>1961</td>\n",
       "      <td>ML1</td>\n",
       "      <td>NL</td>\n",
       "      <td>adcocjo01</td>\n",
       "      <td>152</td>\n",
       "      <td>148.0</td>\n",
       "      <td>152</td>\n",
       "      <td>148.0</td>\n",
       "      <td>0</td>\n",
       "      <td>0</td>\n",
       "      <td>...</td>\n",
       "      <td>0</td>\n",
       "      <td>0</td>\n",
       "      <td>0</td>\n",
       "      <td>0</td>\n",
       "      <td>0</td>\n",
       "      <td>0</td>\n",
       "      <td>0</td>\n",
       "      <td>0.0</td>\n",
       "      <td>4.0</td>\n",
       "      <td>0.0</td>\n",
       "    </tr>\n",
       "    <tr>\n",
       "      <th>41218</th>\n",
       "      <td>1961</td>\n",
       "      <td>DET</td>\n",
       "      <td>AL</td>\n",
       "      <td>aguirha01</td>\n",
       "      <td>45</td>\n",
       "      <td>0.0</td>\n",
       "      <td>45</td>\n",
       "      <td>45.0</td>\n",
       "      <td>45</td>\n",
       "      <td>0</td>\n",
       "      <td>...</td>\n",
       "      <td>0</td>\n",
       "      <td>0</td>\n",
       "      <td>0</td>\n",
       "      <td>0</td>\n",
       "      <td>0</td>\n",
       "      <td>0</td>\n",
       "      <td>0</td>\n",
       "      <td>0.0</td>\n",
       "      <td>0.0</td>\n",
       "      <td>0.0</td>\n",
       "    </tr>\n",
       "    <tr>\n",
       "      <th>41219</th>\n",
       "      <td>1961</td>\n",
       "      <td>CLE</td>\n",
       "      <td>AL</td>\n",
       "      <td>allenbo04</td>\n",
       "      <td>48</td>\n",
       "      <td>0.0</td>\n",
       "      <td>48</td>\n",
       "      <td>48.0</td>\n",
       "      <td>48</td>\n",
       "      <td>0</td>\n",
       "      <td>...</td>\n",
       "      <td>0</td>\n",
       "      <td>0</td>\n",
       "      <td>0</td>\n",
       "      <td>0</td>\n",
       "      <td>0</td>\n",
       "      <td>0</td>\n",
       "      <td>0</td>\n",
       "      <td>0.0</td>\n",
       "      <td>0.0</td>\n",
       "      <td>0.0</td>\n",
       "    </tr>\n",
       "    <tr>\n",
       "      <th>...</th>\n",
       "      <td>...</td>\n",
       "      <td>...</td>\n",
       "      <td>...</td>\n",
       "      <td>...</td>\n",
       "      <td>...</td>\n",
       "      <td>...</td>\n",
       "      <td>...</td>\n",
       "      <td>...</td>\n",
       "      <td>...</td>\n",
       "      <td>...</td>\n",
       "      <td>...</td>\n",
       "      <td>...</td>\n",
       "      <td>...</td>\n",
       "      <td>...</td>\n",
       "      <td>...</td>\n",
       "      <td>...</td>\n",
       "      <td>...</td>\n",
       "      <td>...</td>\n",
       "      <td>...</td>\n",
       "      <td>...</td>\n",
       "      <td>...</td>\n",
       "    </tr>\n",
       "    <tr>\n",
       "      <th>110418</th>\n",
       "      <td>2021</td>\n",
       "      <td>MIL</td>\n",
       "      <td>NL</td>\n",
       "      <td>zimmejo02</td>\n",
       "      <td>2</td>\n",
       "      <td>0.0</td>\n",
       "      <td>2</td>\n",
       "      <td>2.0</td>\n",
       "      <td>2</td>\n",
       "      <td>0</td>\n",
       "      <td>...</td>\n",
       "      <td>0</td>\n",
       "      <td>0</td>\n",
       "      <td>0</td>\n",
       "      <td>0</td>\n",
       "      <td>0</td>\n",
       "      <td>0</td>\n",
       "      <td>0</td>\n",
       "      <td>0.0</td>\n",
       "      <td>0.0</td>\n",
       "      <td>0.0</td>\n",
       "    </tr>\n",
       "    <tr>\n",
       "      <th>110419</th>\n",
       "      <td>2021</td>\n",
       "      <td>KCA</td>\n",
       "      <td>AL</td>\n",
       "      <td>zimmeky01</td>\n",
       "      <td>52</td>\n",
       "      <td>2.0</td>\n",
       "      <td>3</td>\n",
       "      <td>52.0</td>\n",
       "      <td>52</td>\n",
       "      <td>0</td>\n",
       "      <td>...</td>\n",
       "      <td>0</td>\n",
       "      <td>0</td>\n",
       "      <td>0</td>\n",
       "      <td>0</td>\n",
       "      <td>0</td>\n",
       "      <td>0</td>\n",
       "      <td>0</td>\n",
       "      <td>0.0</td>\n",
       "      <td>0.0</td>\n",
       "      <td>0.0</td>\n",
       "    </tr>\n",
       "    <tr>\n",
       "      <th>110420</th>\n",
       "      <td>2021</td>\n",
       "      <td>WAS</td>\n",
       "      <td>NL</td>\n",
       "      <td>zimmery01</td>\n",
       "      <td>110</td>\n",
       "      <td>48.0</td>\n",
       "      <td>110</td>\n",
       "      <td>54.0</td>\n",
       "      <td>0</td>\n",
       "      <td>0</td>\n",
       "      <td>...</td>\n",
       "      <td>0</td>\n",
       "      <td>0</td>\n",
       "      <td>0</td>\n",
       "      <td>0</td>\n",
       "      <td>0</td>\n",
       "      <td>0</td>\n",
       "      <td>0</td>\n",
       "      <td>3.0</td>\n",
       "      <td>58.0</td>\n",
       "      <td>0.0</td>\n",
       "    </tr>\n",
       "    <tr>\n",
       "      <th>110421</th>\n",
       "      <td>2021</td>\n",
       "      <td>KCA</td>\n",
       "      <td>AL</td>\n",
       "      <td>zuberty01</td>\n",
       "      <td>31</td>\n",
       "      <td>0.0</td>\n",
       "      <td>1</td>\n",
       "      <td>31.0</td>\n",
       "      <td>31</td>\n",
       "      <td>0</td>\n",
       "      <td>...</td>\n",
       "      <td>0</td>\n",
       "      <td>0</td>\n",
       "      <td>0</td>\n",
       "      <td>0</td>\n",
       "      <td>0</td>\n",
       "      <td>0</td>\n",
       "      <td>0</td>\n",
       "      <td>0.0</td>\n",
       "      <td>0.0</td>\n",
       "      <td>0.0</td>\n",
       "    </tr>\n",
       "    <tr>\n",
       "      <th>110422</th>\n",
       "      <td>2021</td>\n",
       "      <td>TBA</td>\n",
       "      <td>AL</td>\n",
       "      <td>zuninmi01</td>\n",
       "      <td>109</td>\n",
       "      <td>97.0</td>\n",
       "      <td>109</td>\n",
       "      <td>105.0</td>\n",
       "      <td>0</td>\n",
       "      <td>105</td>\n",
       "      <td>...</td>\n",
       "      <td>0</td>\n",
       "      <td>0</td>\n",
       "      <td>0</td>\n",
       "      <td>0</td>\n",
       "      <td>0</td>\n",
       "      <td>0</td>\n",
       "      <td>0</td>\n",
       "      <td>0.0</td>\n",
       "      <td>5.0</td>\n",
       "      <td>0.0</td>\n",
       "    </tr>\n",
       "  </tbody>\n",
       "</table>\n",
       "<p>69208 rows × 21 columns</p>\n",
       "</div>"
      ],
      "text/plain": [
       "        yearID teamID lgID   playerID  G_all     GS  G_batting  G_defense  \\\n",
       "41215     1961    ML1   NL  aaronha01    155  154.0        155      154.0   \n",
       "41216     1961    BAL   AL  adairje01    133  115.0        133      131.0   \n",
       "41217     1961    ML1   NL  adcocjo01    152  148.0        152      148.0   \n",
       "41218     1961    DET   AL  aguirha01     45    0.0         45       45.0   \n",
       "41219     1961    CLE   AL  allenbo04     48    0.0         48       48.0   \n",
       "...        ...    ...  ...        ...    ...    ...        ...        ...   \n",
       "110418    2021    MIL   NL  zimmejo02      2    0.0          2        2.0   \n",
       "110419    2021    KCA   AL  zimmeky01     52    2.0          3       52.0   \n",
       "110420    2021    WAS   NL  zimmery01    110   48.0        110       54.0   \n",
       "110421    2021    KCA   AL  zuberty01     31    0.0          1       31.0   \n",
       "110422    2021    TBA   AL  zuninmi01    109   97.0        109      105.0   \n",
       "\n",
       "        G_p  G_c  ...  G_2b  G_3b  G_ss  G_lf  G_cf  G_rf  G_of  G_dh  G_ph  \\\n",
       "41215     0    0  ...     0     2     0     0    83    78   154   0.0   1.0   \n",
       "41216     0    0  ...   107     2    27     0     0     0     0   0.0   0.0   \n",
       "41217     0    0  ...     0     0     0     0     0     0     0   0.0   4.0   \n",
       "41218    45    0  ...     0     0     0     0     0     0     0   0.0   0.0   \n",
       "41219    48    0  ...     0     0     0     0     0     0     0   0.0   0.0   \n",
       "...     ...  ...  ...   ...   ...   ...   ...   ...   ...   ...   ...   ...   \n",
       "110418    2    0  ...     0     0     0     0     0     0     0   0.0   0.0   \n",
       "110419   52    0  ...     0     0     0     0     0     0     0   0.0   0.0   \n",
       "110420    0    0  ...     0     0     0     0     0     0     0   3.0  58.0   \n",
       "110421   31    0  ...     0     0     0     0     0     0     0   0.0   0.0   \n",
       "110422    0  105  ...     0     0     0     0     0     0     0   0.0   5.0   \n",
       "\n",
       "        G_pr  \n",
       "41215    0.0  \n",
       "41216    6.0  \n",
       "41217    0.0  \n",
       "41218    0.0  \n",
       "41219    0.0  \n",
       "...      ...  \n",
       "110418   0.0  \n",
       "110419   0.0  \n",
       "110420   0.0  \n",
       "110421   0.0  \n",
       "110422   0.0  \n",
       "\n",
       "[69208 rows x 21 columns]"
      ]
     },
     "execution_count": 34,
     "metadata": {},
     "output_type": "execute_result"
    }
   ],
   "source": [
    "appearances_og"
   ]
  },
  {
   "cell_type": "code",
   "execution_count": 35,
   "id": "ed9986f6",
   "metadata": {},
   "outputs": [],
   "source": [
    "#Merging of the current batters data with the appearances data"
   ]
  },
  {
   "cell_type": "code",
   "execution_count": 36,
   "id": "10dc3c10",
   "metadata": {},
   "outputs": [],
   "source": [
    "batters_ppl_app1=pd.merge(batters_and_people,appearances_og,on=['playerID','yearID','teamID'],how='left',indicator = True)"
   ]
  },
  {
   "cell_type": "code",
   "execution_count": 37,
   "id": "7d1423f2",
   "metadata": {
    "scrolled": true
   },
   "outputs": [
    {
     "data": {
      "text/plain": [
       "both          69234\n",
       "left_only         0\n",
       "right_only        0\n",
       "Name: _merge, dtype: int64"
      ]
     },
     "execution_count": 37,
     "metadata": {},
     "output_type": "execute_result"
    }
   ],
   "source": [
    "batters_ppl_app1['_merge'].value_counts()"
   ]
  },
  {
   "cell_type": "code",
   "execution_count": 38,
   "id": "ec6f56dc",
   "metadata": {},
   "outputs": [],
   "source": [
    "#Now we will add the batters_war table to the party. This comes from a different data source, however- they have a common key\n"
   ]
  },
  {
   "cell_type": "code",
   "execution_count": 39,
   "id": "33d7a6b1",
   "metadata": {},
   "outputs": [],
   "source": [
    "#adjusting team names in batter_ppl dataset to match batter_war\n"
   ]
  },
  {
   "cell_type": "code",
   "execution_count": 40,
   "id": "c7147c94",
   "metadata": {},
   "outputs": [
    {
     "data": {
      "text/plain": [
       "Index(['name_common', 'age', 'mlb_ID', 'player_ID', 'year_ID', 'team_ID',\n",
       "       'stint_ID', 'lg_ID', 'PA', 'G', 'Inn', 'runs_bat', 'runs_br', 'runs_dp',\n",
       "       'runs_field', 'runs_infield', 'runs_outfield', 'runs_catcher',\n",
       "       'runs_good_plays', 'runs_defense', 'runs_position', 'runs_position_p',\n",
       "       'runs_replacement', 'runs_above_rep', 'runs_above_avg',\n",
       "       'runs_above_avg_off', 'runs_above_avg_def', 'WAA', 'WAA_off', 'WAA_def',\n",
       "       'WAR', 'WAR_def', 'WAR_off', 'WAR_rep', 'salary', 'pitcher', 'teamRpG',\n",
       "       'oppRpG', 'oppRpPA_rep', 'oppRpG_rep', 'pyth_exponent',\n",
       "       'pyth_exponent_rep', 'waa_win_perc', 'waa_win_perc_off',\n",
       "       'waa_win_perc_def', 'waa_win_perc_rep', 'OPS_plus', 'TOB_lg', 'TB_lg'],\n",
       "      dtype='object')"
      ]
     },
     "execution_count": 40,
     "metadata": {},
     "output_type": "execute_result"
    }
   ],
   "source": [
    "batter_war.columns\n"
   ]
  },
  {
   "cell_type": "code",
   "execution_count": 41,
   "id": "a7cd904a",
   "metadata": {},
   "outputs": [],
   "source": [
    "#The teamID in each are a little bit off, lets fix that\n",
    "\n",
    "batters_ppl_app1['teamID'] = batters_ppl_app1['teamID'].str.replace('CHA','CHW')\n",
    "batters_ppl_app1['teamID'] = batters_ppl_app1['teamID'].str.replace('CHN','CHC')\n",
    "batters_ppl_app1['teamID'] = batters_ppl_app1['teamID'].str.replace('FLO','FLA')\n",
    "batters_ppl_app1['teamID'] = batters_ppl_app1['teamID'].str.replace('KC1','KCA')\n",
    "batters_ppl_app1['teamID'] = batters_ppl_app1['teamID'].str.replace('KCA','KCR')\n",
    "batters_ppl_app1['teamID'] = batters_ppl_app1['teamID'].str.replace('LAN','LAD')\n",
    "batters_ppl_app1['teamID'] = batters_ppl_app1['teamID'].str.replace('ML1','MLN')\n",
    "batters_ppl_app1['teamID'] = batters_ppl_app1['teamID'].str.replace('ML4','MIL')\n",
    "batters_ppl_app1['teamID'] = batters_ppl_app1['teamID'].str.replace('NYA','NYY')\n",
    "batters_ppl_app1['teamID'] = batters_ppl_app1['teamID'].str.replace('NYN','NYM')\n",
    "batters_ppl_app1['teamID'] = batters_ppl_app1['teamID'].str.replace('SDN','SDP')\n",
    "batters_ppl_app1['teamID'] = batters_ppl_app1['teamID'].str.replace('SE1','SCP')\n",
    "batters_ppl_app1['teamID'] = batters_ppl_app1['teamID'].str.replace('SFN','SFG')\n",
    "batters_ppl_app1['teamID'] = batters_ppl_app1['teamID'].str.replace('SLN','STL')\n",
    "batters_ppl_app1['teamID'] = batters_ppl_app1['teamID'].str.replace('TBA','TBR')\n",
    "batters_ppl_app1['teamID'] = batters_ppl_app1['teamID'].str.replace('WAS','WSN')\n",
    "batters_ppl_app1['teamID'] = batters_ppl_app1['teamID'].str.replace('WS2','WSA')\n",
    "batter_war['team_ID'] = batter_war['team_ID'].str.replace('TBD','TBR')\n"
   ]
  },
  {
   "cell_type": "code",
   "execution_count": 42,
   "id": "4cf21a01",
   "metadata": {},
   "outputs": [],
   "source": [
    "batter_war=batter_war.drop(['runs_bat', 'runs_br', 'runs_dp',\n",
    "       'runs_field', 'runs_infield', 'runs_outfield', 'runs_catcher',\n",
    "       'runs_good_plays', 'runs_defense', 'runs_position', 'runs_position_p',\n",
    "       'runs_replacement', 'runs_above_rep', 'runs_above_avg',\n",
    "       'runs_above_avg_off', 'runs_above_avg_def', 'WAA', 'WAA_off', 'WAA_def','teamRpG',\n",
    "       'oppRpG', 'oppRpPA_rep', 'oppRpG_rep', 'pyth_exponent',\n",
    "       'pyth_exponent_rep', 'waa_win_perc', 'waa_win_perc_off',\n",
    "       'waa_win_perc_def', 'waa_win_perc_rep'], axis=1)"
   ]
  },
  {
   "cell_type": "code",
   "execution_count": 43,
   "id": "a2a5145e",
   "metadata": {
    "scrolled": true
   },
   "outputs": [
    {
     "data": {
      "text/plain": [
       "Index(['name_common', 'age', 'mlb_ID', 'player_ID', 'year_ID', 'team_ID',\n",
       "       'stint_ID', 'lg_ID', 'PA', 'G', 'Inn', 'WAR', 'WAR_def', 'WAR_off',\n",
       "       'WAR_rep', 'salary', 'pitcher', 'OPS_plus', 'TOB_lg', 'TB_lg'],\n",
       "      dtype='object')"
      ]
     },
     "execution_count": 43,
     "metadata": {},
     "output_type": "execute_result"
    }
   ],
   "source": [
    "batter_war.columns\n"
   ]
  },
  {
   "cell_type": "code",
   "execution_count": 44,
   "id": "4b55e8ab",
   "metadata": {},
   "outputs": [],
   "source": [
    "#after exporting and taking a closer look at the data, I noticed that the batter_war_clean table actually has a column that defferntiates between batter and pitcher.\n",
    "#this is important because we won't be inclduing pitchers batting stats for hitters, so taking the pitchers out of the equation is important\n",
    "#I'll now play around to see what the best way to merge things are"
   ]
  },
  {
   "cell_type": "code",
   "execution_count": 45,
   "id": "baeada15",
   "metadata": {},
   "outputs": [
    {
     "data": {
      "text/plain": [
       "(70095, 49)"
      ]
     },
     "execution_count": 45,
     "metadata": {},
     "output_type": "execute_result"
    }
   ],
   "source": [
    "batter_war_clean.shape"
   ]
  },
  {
   "cell_type": "code",
   "execution_count": 46,
   "id": "a763ae4c",
   "metadata": {},
   "outputs": [],
   "source": [
    "batter_war_clean=batter_war_clean.drop(batter_war_clean[batter_war_clean.pitcher == \"Y\"].index)"
   ]
  },
  {
   "cell_type": "code",
   "execution_count": 47,
   "id": "7e318866",
   "metadata": {},
   "outputs": [
    {
     "data": {
      "text/plain": [
       "(37256, 49)"
      ]
     },
     "execution_count": 47,
     "metadata": {},
     "output_type": "execute_result"
    }
   ],
   "source": [
    "batter_war_clean.shape"
   ]
  },
  {
   "cell_type": "code",
   "execution_count": 48,
   "id": "d2da73cb",
   "metadata": {},
   "outputs": [
    {
     "data": {
      "text/plain": [
       "N    36798\n",
       "Name: pitcher, dtype: int64"
      ]
     },
     "execution_count": 48,
     "metadata": {},
     "output_type": "execute_result"
    }
   ],
   "source": [
    "batter_war_clean['pitcher'].value_counts()"
   ]
  },
  {
   "cell_type": "code",
   "execution_count": 49,
   "id": "4201c978",
   "metadata": {},
   "outputs": [],
   "source": [
    "#Now that we only have batter data without pitchers who batted, we can merge the tables. Trial and error to see best way"
   ]
  },
  {
   "cell_type": "code",
   "execution_count": 50,
   "id": "bae7eb47",
   "metadata": {},
   "outputs": [],
   "source": [
    "batter_war_clean.rename(columns = {'player_ID':'bbrefID'}, inplace = True)"
   ]
  },
  {
   "cell_type": "code",
   "execution_count": 51,
   "id": "edc94fb8",
   "metadata": {},
   "outputs": [],
   "source": [
    "batter_war_clean.rename(columns = {'team_ID':'teamID'}, inplace = True)"
   ]
  },
  {
   "cell_type": "code",
   "execution_count": 52,
   "id": "36a7748d",
   "metadata": {},
   "outputs": [],
   "source": [
    "batter_war_clean.rename(columns = {'year_ID':'yearID'}, inplace = True)"
   ]
  },
  {
   "cell_type": "code",
   "execution_count": 53,
   "id": "286130c1",
   "metadata": {},
   "outputs": [
    {
     "data": {
      "text/plain": [
       "Index(['name_common', 'age', 'mlb_ID', 'bbrefID', 'yearID', 'teamID',\n",
       "       'stint_ID', 'lg_ID', 'PA', 'G', 'Inn', 'runs_bat', 'runs_br', 'runs_dp',\n",
       "       'runs_field', 'runs_infield', 'runs_outfield', 'runs_catcher',\n",
       "       'runs_good_plays', 'runs_defense', 'runs_position', 'runs_position_p',\n",
       "       'runs_replacement', 'runs_above_rep', 'runs_above_avg',\n",
       "       'runs_above_avg_off', 'runs_above_avg_def', 'WAA', 'WAA_off', 'WAA_def',\n",
       "       'WAR', 'WAR_def', 'WAR_off', 'WAR_rep', 'salary', 'pitcher', 'teamRpG',\n",
       "       'oppRpG', 'oppRpPA_rep', 'oppRpG_rep', 'pyth_exponent',\n",
       "       'pyth_exponent_rep', 'waa_win_perc', 'waa_win_perc_off',\n",
       "       'waa_win_perc_def', 'waa_win_perc_rep', 'OPS_plus', 'TOB_lg', 'TB_lg'],\n",
       "      dtype='object')"
      ]
     },
     "execution_count": 53,
     "metadata": {},
     "output_type": "execute_result"
    }
   ],
   "source": [
    "batter_war_clean.columns"
   ]
  },
  {
   "cell_type": "code",
   "execution_count": 54,
   "id": "e906bdd9",
   "metadata": {},
   "outputs": [],
   "source": [
    "batter_war_clean.to_csv(r'/Users/hillelkrief1/Desktop/CareerFoundry/Course 2 Data Immersion/Achievement 6/prepared data/batter_war_clean.csv')"
   ]
  },
  {
   "cell_type": "code",
   "execution_count": 55,
   "id": "5c940685",
   "metadata": {
    "scrolled": true
   },
   "outputs": [
    {
     "data": {
      "text/plain": [
       "Index(['playerID', 'yearID', 'stint', 'teamID', 'lgID_x', 'G', 'AB', 'R', 'H',\n",
       "       '2B', '3B', 'HR', 'RBI', 'SB', 'CS', 'BB', 'SO', 'IBB', 'HBP', 'SH',\n",
       "       'SF', 'GIDP', 'birthYear', 'birthMonth', 'birthDay', 'birthCountry',\n",
       "       'birthState', 'birthCity', 'deathYear', 'deathMonth', 'deathDay',\n",
       "       'deathCountry', 'deathState', 'deathCity', 'nameFirst', 'nameLast',\n",
       "       'nameGiven', 'weight', 'height', 'bats', 'throws', 'debut', 'finalGame',\n",
       "       'retroID', 'bbrefID', 'lgID_y', 'G_all', 'GS', 'G_batting', 'G_defense',\n",
       "       'G_p', 'G_c', 'G_1b', 'G_2b', 'G_3b', 'G_ss', 'G_lf', 'G_cf', 'G_rf',\n",
       "       'G_of', 'G_dh', 'G_ph', 'G_pr', '_merge'],\n",
       "      dtype='object')"
      ]
     },
     "execution_count": 55,
     "metadata": {},
     "output_type": "execute_result"
    }
   ],
   "source": [
    "batters_ppl_app1.columns"
   ]
  },
  {
   "cell_type": "code",
   "execution_count": 56,
   "id": "f0281a6e",
   "metadata": {},
   "outputs": [],
   "source": [
    "batters_ppl_app1=batters_ppl_app1.drop(['_merge'],axis=1)"
   ]
  },
  {
   "cell_type": "code",
   "execution_count": 57,
   "id": "ace23f88",
   "metadata": {},
   "outputs": [
    {
     "data": {
      "text/plain": [
       "(37256, 49)"
      ]
     },
     "execution_count": 57,
     "metadata": {},
     "output_type": "execute_result"
    }
   ],
   "source": [
    "batter_war_clean.shape"
   ]
  },
  {
   "cell_type": "code",
   "execution_count": 58,
   "id": "09f712e1",
   "metadata": {},
   "outputs": [
    {
     "data": {
      "text/plain": [
       "(69234, 63)"
      ]
     },
     "execution_count": 58,
     "metadata": {},
     "output_type": "execute_result"
    }
   ],
   "source": [
    "batters_ppl_app1.shape"
   ]
  },
  {
   "cell_type": "code",
   "execution_count": 59,
   "id": "a7bff939",
   "metadata": {},
   "outputs": [],
   "source": [
    "#the merge\n",
    "batters_full=pd.merge(batter_war_clean,batters_ppl_app1,on=['bbrefID','yearID','teamID'],how='left',indicator = True)"
   ]
  },
  {
   "cell_type": "code",
   "execution_count": 60,
   "id": "9b27614c",
   "metadata": {},
   "outputs": [
    {
     "data": {
      "text/plain": [
       "(37273, 110)"
      ]
     },
     "execution_count": 60,
     "metadata": {},
     "output_type": "execute_result"
    }
   ],
   "source": [
    "batters_full.shape"
   ]
  },
  {
   "cell_type": "code",
   "execution_count": 61,
   "id": "b62d2e0c",
   "metadata": {},
   "outputs": [
    {
     "data": {
      "text/plain": [
       "Index(['name_common', 'age', 'mlb_ID', 'bbrefID', 'yearID', 'teamID',\n",
       "       'stint_ID', 'lg_ID', 'PA', 'G_x',\n",
       "       ...\n",
       "       'G_3b', 'G_ss', 'G_lf', 'G_cf', 'G_rf', 'G_of', 'G_dh', 'G_ph', 'G_pr',\n",
       "       '_merge'],\n",
       "      dtype='object', length=110)"
      ]
     },
     "execution_count": 61,
     "metadata": {},
     "output_type": "execute_result"
    }
   ],
   "source": [
    "batters_full.columns"
   ]
  },
  {
   "cell_type": "code",
   "execution_count": 62,
   "id": "9ba7ae56",
   "metadata": {},
   "outputs": [],
   "source": [
    "batters_full_clean=batters_full.drop(['deathYear', 'deathMonth', 'deathDay', 'deathCountry',\n",
    "       'deathState', 'deathCity',],axis=1)"
   ]
  },
  {
   "cell_type": "code",
   "execution_count": 63,
   "id": "a5535aed",
   "metadata": {},
   "outputs": [
    {
     "data": {
      "text/plain": [
       "Index(['name_common', 'age', 'mlb_ID', 'bbrefID', 'yearID', 'teamID',\n",
       "       'stint_ID', 'lg_ID', 'PA', 'G_x',\n",
       "       ...\n",
       "       'G_3b', 'G_ss', 'G_lf', 'G_cf', 'G_rf', 'G_of', 'G_dh', 'G_ph', 'G_pr',\n",
       "       '_merge'],\n",
       "      dtype='object', length=104)"
      ]
     },
     "execution_count": 63,
     "metadata": {},
     "output_type": "execute_result"
    }
   ],
   "source": [
    "batters_full_clean.columns"
   ]
  },
  {
   "cell_type": "code",
   "execution_count": 64,
   "id": "72fc0017",
   "metadata": {},
   "outputs": [],
   "source": [
    "batters_ppl_app1.to_csv(r'/Users/hillelkrief1/Desktop/CareerFoundry/Course 2 Data Immersion/Achievement 6/prepared data/batters_ppl_app1.csv')"
   ]
  },
  {
   "cell_type": "code",
   "execution_count": 65,
   "id": "d9f7568c",
   "metadata": {},
   "outputs": [],
   "source": [
    "batters_full_clean.to_csv(r'/Users/hillelkrief1/Desktop/CareerFoundry/Course 2 Data Immersion/Achievement 6/prepared data/batters_full_clean.csv')"
   ]
  },
  {
   "cell_type": "code",
   "execution_count": 66,
   "id": "45b7495a",
   "metadata": {},
   "outputs": [],
   "source": [
    "#Now we will add the allstar data to finish up!"
   ]
  },
  {
   "cell_type": "code",
   "execution_count": 67,
   "id": "5eedfead",
   "metadata": {},
   "outputs": [],
   "source": [
    "batters_full_clean=batters_full_clean.drop(['_merge'],axis=1)"
   ]
  },
  {
   "cell_type": "code",
   "execution_count": 68,
   "id": "875a1f52",
   "metadata": {},
   "outputs": [],
   "source": [
    "allstar = allstar.drop(allstar[allstar.yearID <= 1960].index)"
   ]
  },
  {
   "cell_type": "code",
   "execution_count": 69,
   "id": "241ecdcf",
   "metadata": {},
   "outputs": [
    {
     "data": {
      "text/plain": [
       "(37273, 103)"
      ]
     },
     "execution_count": 69,
     "metadata": {},
     "output_type": "execute_result"
    }
   ],
   "source": [
    "batters_full_clean.shape"
   ]
  },
  {
   "cell_type": "code",
   "execution_count": 70,
   "id": "d6d112a6",
   "metadata": {},
   "outputs": [],
   "source": [
    "batters_final_clean=pd.merge(batters_full_clean,allstar,on=['playerID','yearID','teamID'],how='left',indicator=True)\n"
   ]
  },
  {
   "cell_type": "code",
   "execution_count": 71,
   "id": "49cd11f3",
   "metadata": {},
   "outputs": [
    {
     "data": {
      "text/plain": [
       "(37323, 109)"
      ]
     },
     "execution_count": 71,
     "metadata": {},
     "output_type": "execute_result"
    }
   ],
   "source": [
    "batters_final_clean.shape"
   ]
  },
  {
   "cell_type": "code",
   "execution_count": 72,
   "id": "52d9ff5a",
   "metadata": {},
   "outputs": [],
   "source": [
    "batters_final_clean.to_csv(r'/Users/hillelkrief1/Desktop/CareerFoundry/Course 2 Data Immersion/Achievement 6/prepared data/batters_final_clean.csv')"
   ]
  },
  {
   "cell_type": "code",
   "execution_count": null,
   "id": "8732b87e",
   "metadata": {},
   "outputs": [],
   "source": []
  }
 ],
 "metadata": {
  "kernelspec": {
   "display_name": "Python 3 (ipykernel)",
   "language": "python",
   "name": "python3"
  },
  "language_info": {
   "codemirror_mode": {
    "name": "ipython",
    "version": 3
   },
   "file_extension": ".py",
   "mimetype": "text/x-python",
   "name": "python",
   "nbconvert_exporter": "python",
   "pygments_lexer": "ipython3",
   "version": "3.9.12"
  }
 },
 "nbformat": 4,
 "nbformat_minor": 5
}
