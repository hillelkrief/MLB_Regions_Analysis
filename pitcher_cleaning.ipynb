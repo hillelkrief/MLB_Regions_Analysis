{
 "cells": [
  {
   "cell_type": "code",
   "execution_count": 1,
   "id": "1941cbc9",
   "metadata": {},
   "outputs": [],
   "source": [
    "import pandas as pd\n",
    "import numpy as np\n",
    "import os"
   ]
  },
  {
   "cell_type": "code",
   "execution_count": 2,
   "id": "52c11cb2",
   "metadata": {},
   "outputs": [],
   "source": [
    "#Importing data"
   ]
  },
  {
   "cell_type": "code",
   "execution_count": 3,
   "id": "4f174299",
   "metadata": {},
   "outputs": [],
   "source": [
    "pitchers=pd.read_csv(r'/Users/hillelkrief1/Desktop/CareerFoundry/Course 2 Data Immersion/Achievement 6/baseballdatabank-2022.2/core/Pitching.csv',index_col=False)"
   ]
  },
  {
   "cell_type": "code",
   "execution_count": 4,
   "id": "105236fe",
   "metadata": {},
   "outputs": [
    {
     "data": {
      "text/plain": [
       "Index(['playerID', 'yearID', 'stint', 'teamID', 'lgID', 'W', 'L', 'G', 'GS',\n",
       "       'CG', 'SHO', 'SV', 'IPouts', 'H', 'ER', 'HR', 'BB', 'SO', 'BAOpp',\n",
       "       'ERA', 'IBB', 'WP', 'HBP', 'BK', 'BFP', 'GF', 'R', 'SH', 'SF', 'GIDP'],\n",
       "      dtype='object')"
      ]
     },
     "execution_count": 4,
     "metadata": {},
     "output_type": "execute_result"
    }
   ],
   "source": [
    "pitchers.columns"
   ]
  },
  {
   "cell_type": "code",
   "execution_count": 5,
   "id": "5c49cefa",
   "metadata": {},
   "outputs": [],
   "source": [
    "people=pd.read_csv(r'/Users/hillelkrief1/Desktop/CareerFoundry/Course 2 Data Immersion/Achievement 6/baseballdatabank-2022.2/core/People.csv',index_col=False)\n"
   ]
  },
  {
   "cell_type": "code",
   "execution_count": 6,
   "id": "0feaaeeb",
   "metadata": {},
   "outputs": [
    {
     "data": {
      "text/plain": [
       "Index(['playerID', 'birthYear', 'birthMonth', 'birthDay', 'birthCountry',\n",
       "       'birthState', 'birthCity', 'deathYear', 'deathMonth', 'deathDay',\n",
       "       'deathCountry', 'deathState', 'deathCity', 'nameFirst', 'nameLast',\n",
       "       'nameGiven', 'weight', 'height', 'bats', 'throws', 'debut', 'finalGame',\n",
       "       'retroID', 'bbrefID'],\n",
       "      dtype='object')"
      ]
     },
     "execution_count": 6,
     "metadata": {},
     "output_type": "execute_result"
    }
   ],
   "source": [
    "people.columns"
   ]
  },
  {
   "cell_type": "code",
   "execution_count": 7,
   "id": "4d9af60b",
   "metadata": {},
   "outputs": [],
   "source": [
    "allstar=pd.read_csv(r'/Users/hillelkrief1/Desktop/CareerFoundry/Course 2 Data Immersion/Achievement 6/baseballdatabank-2022.2/core/AllstarFull.csv',index_col=False)"
   ]
  },
  {
   "cell_type": "code",
   "execution_count": 8,
   "id": "e5bb303d",
   "metadata": {},
   "outputs": [
    {
     "data": {
      "text/plain": [
       "Index(['playerID', 'yearID', 'gameNum', 'gameID', 'teamID', 'lgID', 'GP',\n",
       "       'startingPos'],\n",
       "      dtype='object')"
      ]
     },
     "execution_count": 8,
     "metadata": {},
     "output_type": "execute_result"
    }
   ],
   "source": [
    "allstar.columns"
   ]
  },
  {
   "cell_type": "code",
   "execution_count": 9,
   "id": "eafb3e4b",
   "metadata": {},
   "outputs": [],
   "source": [
    "appearances_og=pd.read_csv(r'/Users/hillelkrief1/Desktop/CareerFoundry/Course 2 Data Immersion/Achievement 6/baseballdatabank-2022.2/core/Appearances.csv',index_col=False)"
   ]
  },
  {
   "cell_type": "code",
   "execution_count": 10,
   "id": "37c562f9",
   "metadata": {},
   "outputs": [
    {
     "data": {
      "text/plain": [
       "Index(['yearID', 'teamID', 'lgID', 'playerID', 'G_all', 'GS', 'G_batting',\n",
       "       'G_defense', 'G_p', 'G_c', 'G_1b', 'G_2b', 'G_3b', 'G_ss', 'G_lf',\n",
       "       'G_cf', 'G_rf', 'G_of', 'G_dh', 'G_ph', 'G_pr'],\n",
       "      dtype='object')"
      ]
     },
     "execution_count": 10,
     "metadata": {},
     "output_type": "execute_result"
    }
   ],
   "source": [
    "appearances_og.columns"
   ]
  },
  {
   "cell_type": "code",
   "execution_count": 11,
   "id": "d968d8ca",
   "metadata": {},
   "outputs": [],
   "source": [
    "hall_of_fame=pd.read_csv(r'/Users/hillelkrief1/Desktop/CareerFoundry/Course 2 Data Immersion/Achievement 6/baseballdatabank-2022.2/contrib/HallOfFame.csv',index_col=False)"
   ]
  },
  {
   "cell_type": "code",
   "execution_count": 12,
   "id": "66cf8169",
   "metadata": {},
   "outputs": [
    {
     "data": {
      "text/plain": [
       "Index(['playerID', 'yearID', 'votedBy', 'ballots', 'needed', 'votes',\n",
       "       'inducted', 'category', 'needed_note'],\n",
       "      dtype='object')"
      ]
     },
     "execution_count": 12,
     "metadata": {},
     "output_type": "execute_result"
    }
   ],
   "source": [
    "hall_of_fame.columns\n"
   ]
  },
  {
   "cell_type": "code",
   "execution_count": 13,
   "id": "021c80be",
   "metadata": {},
   "outputs": [],
   "source": [
    "salaries=pd.read_csv(r'/Users/hillelkrief1/Desktop/CareerFoundry/Course 2 Data Immersion/Achievement 6/baseballdatabank-2022.2/contrib/Salaries.csv',index_col=False)"
   ]
  },
  {
   "cell_type": "code",
   "execution_count": 14,
   "id": "a3f90379",
   "metadata": {},
   "outputs": [
    {
     "data": {
      "text/plain": [
       "Index(['yearID', 'teamID', 'lgID', 'playerID', 'salary'], dtype='object')"
      ]
     },
     "execution_count": 14,
     "metadata": {},
     "output_type": "execute_result"
    }
   ],
   "source": [
    "salaries.columns\n",
    "\n"
   ]
  },
  {
   "cell_type": "code",
   "execution_count": 15,
   "id": "709c6d38",
   "metadata": {},
   "outputs": [],
   "source": [
    "pitcher_war=pd.read_csv(r'/Users/hillelkrief1/Desktop/CareerFoundry/Course 2 Data Immersion/Achievement 6/B_Ref_WAR_ Data/pitchers_bref.csv',index_col=False)"
   ]
  },
  {
   "cell_type": "code",
   "execution_count": 16,
   "id": "639af430",
   "metadata": {},
   "outputs": [
    {
     "data": {
      "text/plain": [
       "Index(['name_common', 'age', 'mlb_ID', 'player_ID', 'year_ID', 'team_ID',\n",
       "       'stint_ID', 'lg_ID', 'G', 'GS', 'IPouts', 'IPouts_start',\n",
       "       'IPouts_relief', 'RA', 'xRA', 'xRA_sprp_adj', 'xRA_extras_adj',\n",
       "       'xRA_def_pitcher', 'PPF', 'PPF_custom', 'xRA_final', 'BIP', 'BIP_perc',\n",
       "       'RS_def_total', 'runs_above_avg', 'runs_above_avg_adj',\n",
       "       'runs_above_rep', 'RpO_replacement', 'GR_leverage_index_avg', 'WAR',\n",
       "       'salary', 'teamRpG', 'oppRpG', 'pyth_exponent', 'waa_win_perc', 'WAA',\n",
       "       'WAA_adj', 'oppRpG_rep', 'pyth_exponent_rep', 'waa_win_perc_rep',\n",
       "       'WAR_rep', 'ERA_plus', 'ER_lg'],\n",
       "      dtype='object')"
      ]
     },
     "execution_count": 16,
     "metadata": {},
     "output_type": "execute_result"
    }
   ],
   "source": [
    "pitcher_war.columns\n",
    "\n"
   ]
  },
  {
   "cell_type": "code",
   "execution_count": 17,
   "id": "57bcde77",
   "metadata": {},
   "outputs": [],
   "source": [
    "appearances_og=pd.read_csv(r'/Users/hillelkrief1/Desktop/CareerFoundry/Course 2 Data Immersion/Achievement 6/baseballdatabank-2022.2/core/Appearances.csv')"
   ]
  },
  {
   "cell_type": "code",
   "execution_count": 18,
   "id": "80183eab",
   "metadata": {},
   "outputs": [],
   "source": [
    "#Since latin born players only started to trickle in during the 1950's, let's only have data after 1960\n",
    "pitchers=pitchers.drop(pitchers[pitchers.yearID<=1960].index)\n",
    "appearances_og = appearances_og.drop(appearances_og[appearances_og.yearID <= 1960].index)\n",
    "pitcher_war= pitcher_war.drop(pitcher_war[pitcher_war.year_ID <= 1960].index)\n",
    "allstar = allstar.drop(allstar[allstar.yearID <= 1960].index)"
   ]
  },
  {
   "cell_type": "code",
   "execution_count": 19,
   "id": "e0905ffe",
   "metadata": {},
   "outputs": [],
   "source": [
    "#We will now merge the pitcher data with the people data"
   ]
  },
  {
   "cell_type": "code",
   "execution_count": 20,
   "id": "2b031e8f",
   "metadata": {},
   "outputs": [
    {
     "data": {
      "text/plain": [
       "(33229, 30)"
      ]
     },
     "execution_count": 20,
     "metadata": {},
     "output_type": "execute_result"
    }
   ],
   "source": [
    "pitchers.shape"
   ]
  },
  {
   "cell_type": "code",
   "execution_count": 21,
   "id": "3ab3767c",
   "metadata": {},
   "outputs": [],
   "source": [
    "pitchers_and_people=pd.merge(pitchers,people, on='playerID',how='left')"
   ]
  },
  {
   "cell_type": "code",
   "execution_count": 22,
   "id": "4fd3a974",
   "metadata": {},
   "outputs": [
    {
     "data": {
      "text/plain": [
       "(33229, 53)"
      ]
     },
     "execution_count": 22,
     "metadata": {},
     "output_type": "execute_result"
    }
   ],
   "source": [
    "pitchers_and_people.shape"
   ]
  },
  {
   "cell_type": "code",
   "execution_count": 23,
   "id": "cf8ab3f8",
   "metadata": {},
   "outputs": [
    {
     "data": {
      "text/plain": [
       "Index(['playerID', 'yearID', 'stint', 'teamID', 'lgID', 'W', 'L', 'G', 'GS',\n",
       "       'CG', 'SHO', 'SV', 'IPouts', 'H', 'ER', 'HR', 'BB', 'SO', 'BAOpp',\n",
       "       'ERA', 'IBB', 'WP', 'HBP', 'BK', 'BFP', 'GF', 'R', 'SH', 'SF', 'GIDP',\n",
       "       'birthYear', 'birthMonth', 'birthDay', 'birthCountry', 'birthState',\n",
       "       'birthCity', 'deathYear', 'deathMonth', 'deathDay', 'deathCountry',\n",
       "       'deathState', 'deathCity', 'nameFirst', 'nameLast', 'nameGiven',\n",
       "       'weight', 'height', 'bats', 'throws', 'debut', 'finalGame', 'retroID',\n",
       "       'bbrefID'],\n",
       "      dtype='object')"
      ]
     },
     "execution_count": 23,
     "metadata": {},
     "output_type": "execute_result"
    }
   ],
   "source": [
    "pitchers_and_people.columns"
   ]
  },
  {
   "cell_type": "code",
   "execution_count": 24,
   "id": "b6d7a628",
   "metadata": {},
   "outputs": [],
   "source": [
    "pitchers_and_people.to_csv(r'/Users/hillelkrief1/Desktop/CareerFoundry/Course 2 Data Immersion/Achievement 6/prepared data/pitchers_and_people.csv')"
   ]
  },
  {
   "cell_type": "code",
   "execution_count": 25,
   "id": "0c4c7d51",
   "metadata": {},
   "outputs": [],
   "source": [
    "#Merging of the current pitchers data with the appearances data\n",
    "pitchers_ppl_app=pd.merge(pitchers_and_people,appearances_og,on=['playerID','yearID','teamID'],how='left',indicator = True)\n",
    "\n"
   ]
  },
  {
   "cell_type": "code",
   "execution_count": 26,
   "id": "bf26fe4e",
   "metadata": {},
   "outputs": [
    {
     "data": {
      "text/plain": [
       "both          33229\n",
       "left_only         0\n",
       "right_only        0\n",
       "Name: _merge, dtype: int64"
      ]
     },
     "execution_count": 26,
     "metadata": {},
     "output_type": "execute_result"
    }
   ],
   "source": [
    "pitchers_ppl_app['_merge'].value_counts()"
   ]
  },
  {
   "cell_type": "code",
   "execution_count": 27,
   "id": "6a6c9947",
   "metadata": {
    "scrolled": true
   },
   "outputs": [
    {
     "data": {
      "text/plain": [
       "Index(['name_common', 'age', 'mlb_ID', 'player_ID', 'year_ID', 'team_ID',\n",
       "       'stint_ID', 'lg_ID', 'G', 'GS', 'IPouts', 'IPouts_start',\n",
       "       'IPouts_relief', 'RA', 'xRA', 'xRA_sprp_adj', 'xRA_extras_adj',\n",
       "       'xRA_def_pitcher', 'PPF', 'PPF_custom', 'xRA_final', 'BIP', 'BIP_perc',\n",
       "       'RS_def_total', 'runs_above_avg', 'runs_above_avg_adj',\n",
       "       'runs_above_rep', 'RpO_replacement', 'GR_leverage_index_avg', 'WAR',\n",
       "       'salary', 'teamRpG', 'oppRpG', 'pyth_exponent', 'waa_win_perc', 'WAA',\n",
       "       'WAA_adj', 'oppRpG_rep', 'pyth_exponent_rep', 'waa_win_perc_rep',\n",
       "       'WAR_rep', 'ERA_plus', 'ER_lg'],\n",
       "      dtype='object')"
      ]
     },
     "execution_count": 27,
     "metadata": {},
     "output_type": "execute_result"
    }
   ],
   "source": [
    "pitcher_war.columns\n"
   ]
  },
  {
   "cell_type": "code",
   "execution_count": 28,
   "id": "99011b41",
   "metadata": {},
   "outputs": [],
   "source": [
    "pitcher_war_clean=pitcher_war.drop(['IPouts', 'IPouts_start',\n",
    "       'IPouts_relief', 'RA', 'xRA', 'xRA_sprp_adj', 'xRA_extras_adj',\n",
    "       'xRA_def_pitcher', 'PPF', 'PPF_custom', 'xRA_final', 'BIP', 'BIP_perc',\n",
    "       'RS_def_total','runs_above_avg_adj','runs_above_rep', 'RpO_replacement', 'GR_leverage_index_avg','teamRpG', 'oppRpG', 'pyth_exponent', 'waa_win_perc','oppRpG_rep', 'pyth_exponent_rep', 'waa_win_perc_rep',],axis=1)"
   ]
  },
  {
   "cell_type": "code",
   "execution_count": 29,
   "id": "6982fd82",
   "metadata": {},
   "outputs": [],
   "source": [
    "#Now let's add the pitchers war"
   ]
  },
  {
   "cell_type": "code",
   "execution_count": 30,
   "id": "f8c5e1bc",
   "metadata": {},
   "outputs": [],
   "source": [
    "#The teamID in each are a little bit off, lets fix that\n",
    "\n",
    "pitchers_ppl_app['teamID'] = pitchers_ppl_app['teamID'].str.replace('CHA','CHW')\n",
    "pitchers_ppl_app['teamID'] = pitchers_ppl_app['teamID'].str.replace('CHN','CHC')\n",
    "pitchers_ppl_app['teamID'] = pitchers_ppl_app['teamID'].str.replace('FLO','FLA')\n",
    "pitchers_ppl_app['teamID'] = pitchers_ppl_app['teamID'].str.replace('KC1','KCA')\n",
    "pitchers_ppl_app['teamID'] = pitchers_ppl_app['teamID'].str.replace('KCA','KCR')\n",
    "pitchers_ppl_app['teamID'] = pitchers_ppl_app['teamID'].str.replace('LAN','LAD')\n",
    "pitchers_ppl_app['teamID'] = pitchers_ppl_app['teamID'].str.replace('ML1','MLN')\n",
    "pitchers_ppl_app['teamID'] = pitchers_ppl_app['teamID'].str.replace('ML4','MIL')\n",
    "pitchers_ppl_app['teamID'] = pitchers_ppl_app['teamID'].str.replace('NYA','NYY')\n",
    "pitchers_ppl_app['teamID'] = pitchers_ppl_app['teamID'].str.replace('NYN','NYM')\n",
    "pitchers_ppl_app['teamID'] = pitchers_ppl_app['teamID'].str.replace('SDN','SDP')\n",
    "pitchers_ppl_app['teamID'] = pitchers_ppl_app['teamID'].str.replace('SE1','SCP')\n",
    "pitchers_ppl_app['teamID'] = pitchers_ppl_app['teamID'].str.replace('SFN','SFG')\n",
    "pitchers_ppl_app['teamID'] = pitchers_ppl_app['teamID'].str.replace('SLN','STL')\n",
    "pitchers_ppl_app['teamID'] = pitchers_ppl_app['teamID'].str.replace('TBA','TBR')\n",
    "pitchers_ppl_app['teamID'] = pitchers_ppl_app['teamID'].str.replace('WAS','WSN')\n",
    "pitchers_ppl_app['teamID'] = pitchers_ppl_app['teamID'].str.replace('WS2','WSA')\n",
    "pitcher_war['team_ID'] = pitcher_war['team_ID'].str.replace('TBD','TBR')\n"
   ]
  },
  {
   "cell_type": "code",
   "execution_count": 31,
   "id": "a9453471",
   "metadata": {},
   "outputs": [
    {
     "data": {
      "text/plain": [
       "Index(['name_common', 'age', 'mlb_ID', 'player_ID', 'year_ID', 'team_ID',\n",
       "       'stint_ID', 'lg_ID', 'G', 'GS', 'runs_above_avg', 'WAR', 'salary',\n",
       "       'WAA', 'WAA_adj', 'WAR_rep', 'ERA_plus', 'ER_lg'],\n",
       "      dtype='object')"
      ]
     },
     "execution_count": 31,
     "metadata": {},
     "output_type": "execute_result"
    }
   ],
   "source": [
    "pitcher_war_clean.columns"
   ]
  },
  {
   "cell_type": "code",
   "execution_count": 32,
   "id": "554fb08a",
   "metadata": {},
   "outputs": [],
   "source": [
    "#in order to merge correctly, a few of the pitcher_WAR column names need to be changed\n",
    "pitcher_war_clean.rename(columns = {'player_ID':'bbrefID'}, inplace = True)\n",
    "\n",
    "pitcher_war_clean.rename(columns = {'team_ID':'teamID'}, inplace = True)\n",
    "\n",
    "pitcher_war_clean.rename(columns = {'year_ID':'yearID'}, inplace = True)"
   ]
  },
  {
   "cell_type": "code",
   "execution_count": 33,
   "id": "e2ef5944",
   "metadata": {},
   "outputs": [],
   "source": [
    "pitcher_war_clean.to_csv(r'/Users/hillelkrief1/Desktop/CareerFoundry/Course 2 Data Immersion/Achievement 6/prepared data/pitcher_war_clean')"
   ]
  },
  {
   "cell_type": "code",
   "execution_count": 34,
   "id": "ee93e3ed",
   "metadata": {},
   "outputs": [],
   "source": [
    "pitchers_ppl_app=pitchers_ppl_app.drop(['_merge'],axis=1)"
   ]
  },
  {
   "cell_type": "code",
   "execution_count": 35,
   "id": "f47b96d0",
   "metadata": {},
   "outputs": [
    {
     "data": {
      "text/plain": [
       "(33229, 71)"
      ]
     },
     "execution_count": 35,
     "metadata": {},
     "output_type": "execute_result"
    }
   ],
   "source": [
    "pitchers_ppl_app.shape"
   ]
  },
  {
   "cell_type": "code",
   "execution_count": 36,
   "id": "a6748957",
   "metadata": {},
   "outputs": [],
   "source": [
    "#the merge of pitchersWAR and our main dataset\n",
    "pitchers_full=pd.merge(pitchers_ppl_app,pitcher_war_clean,on=['bbrefID','yearID','teamID'],how='left',indicator = True)"
   ]
  },
  {
   "cell_type": "code",
   "execution_count": 37,
   "id": "1359da47",
   "metadata": {},
   "outputs": [
    {
     "data": {
      "text/plain": [
       "(33229, 87)"
      ]
     },
     "execution_count": 37,
     "metadata": {},
     "output_type": "execute_result"
    }
   ],
   "source": [
    "pitchers_full.shape"
   ]
  },
  {
   "cell_type": "code",
   "execution_count": 38,
   "id": "356c1f22",
   "metadata": {},
   "outputs": [
    {
     "data": {
      "text/plain": [
       "Index(['playerID', 'yearID', 'stint', 'teamID', 'lgID_x', 'W', 'L', 'G_x',\n",
       "       'GS_x', 'CG', 'SHO', 'SV', 'IPouts', 'H', 'ER', 'HR', 'BB', 'SO',\n",
       "       'BAOpp', 'ERA', 'IBB', 'WP', 'HBP', 'BK', 'BFP', 'GF', 'R', 'SH', 'SF',\n",
       "       'GIDP', 'birthYear', 'birthMonth', 'birthDay', 'birthCountry',\n",
       "       'birthState', 'birthCity', 'deathYear', 'deathMonth', 'deathDay',\n",
       "       'deathCountry', 'deathState', 'deathCity', 'nameFirst', 'nameLast',\n",
       "       'nameGiven', 'weight', 'height', 'bats', 'throws', 'debut', 'finalGame',\n",
       "       'retroID', 'bbrefID', 'lgID_y', 'G_all', 'GS_y', 'G_batting',\n",
       "       'G_defense', 'G_p', 'G_c', 'G_1b', 'G_2b', 'G_3b', 'G_ss', 'G_lf',\n",
       "       'G_cf', 'G_rf', 'G_of', 'G_dh', 'G_ph', 'G_pr', 'name_common', 'age',\n",
       "       'mlb_ID', 'stint_ID', 'lg_ID', 'G_y', 'GS', 'runs_above_avg', 'WAR',\n",
       "       'salary', 'WAA', 'WAA_adj', 'WAR_rep', 'ERA_plus', 'ER_lg', '_merge'],\n",
       "      dtype='object')"
      ]
     },
     "execution_count": 38,
     "metadata": {},
     "output_type": "execute_result"
    }
   ],
   "source": [
    "pitchers_full.columns"
   ]
  },
  {
   "cell_type": "code",
   "execution_count": 39,
   "id": "4c64abf3",
   "metadata": {},
   "outputs": [],
   "source": [
    "#lets drop some columns we for sure won't need\n",
    "\n",
    "pitchers_full=pitchers_full.drop(['deathYear', 'deathMonth', 'deathDay',\n",
    "       'deathCountry', 'deathState', 'deathCity','_merge'],axis=1)"
   ]
  },
  {
   "cell_type": "code",
   "execution_count": 40,
   "id": "4147a806",
   "metadata": {},
   "outputs": [],
   "source": [
    "pitchers_full.to_csv(r'/Users/hillelkrief1/Desktop/CareerFoundry/Course 2 Data Immersion/Achievement 6/prepared data/pitchers_full.csv')"
   ]
  },
  {
   "cell_type": "code",
   "execution_count": 41,
   "id": "fb2c4968",
   "metadata": {},
   "outputs": [],
   "source": [
    "#adding the allstar data\n",
    "pitchers_final=pd.merge(pitchers_full,allstar,on=['playerID','yearID','teamID'],how='left',indicator=True)\n"
   ]
  },
  {
   "cell_type": "code",
   "execution_count": 42,
   "id": "7d3fd903",
   "metadata": {},
   "outputs": [
    {
     "data": {
      "text/plain": [
       "(33238, 86)"
      ]
     },
     "execution_count": 42,
     "metadata": {},
     "output_type": "execute_result"
    }
   ],
   "source": [
    "pitchers_final.shape"
   ]
  },
  {
   "cell_type": "code",
   "execution_count": 43,
   "id": "73b453ea",
   "metadata": {},
   "outputs": [],
   "source": [
    "pitchers_final.to_csv(r'/Users/hillelkrief1/Desktop/CareerFoundry/Course 2 Data Immersion/Achievement 6/prepared data/pitchers_final.csv')"
   ]
  },
  {
   "cell_type": "code",
   "execution_count": null,
   "id": "ce01159a",
   "metadata": {},
   "outputs": [],
   "source": []
  }
 ],
 "metadata": {
  "kernelspec": {
   "display_name": "Python 3 (ipykernel)",
   "language": "python",
   "name": "python3"
  },
  "language_info": {
   "codemirror_mode": {
    "name": "ipython",
    "version": 3
   },
   "file_extension": ".py",
   "mimetype": "text/x-python",
   "name": "python",
   "nbconvert_exporter": "python",
   "pygments_lexer": "ipython3",
   "version": "3.9.12"
  }
 },
 "nbformat": 4,
 "nbformat_minor": 5
}
