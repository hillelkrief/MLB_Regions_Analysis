{
 "cells": [
  {
   "cell_type": "code",
   "execution_count": 1,
   "id": "2e4b3378",
   "metadata": {},
   "outputs": [],
   "source": [
    "import pandas as pd\n",
    "import numpy as np\n",
    "import os"
   ]
  },
  {
   "cell_type": "code",
   "execution_count": 2,
   "id": "eec3a788",
   "metadata": {},
   "outputs": [],
   "source": [
    "pitchers=pd.read_csv(r'/Users/hillelkrief1/Desktop/CareerFoundry/Course 2 Data Immersion/Achievement 6/prepared data/pitchers_final.csv',index_col=False)"
   ]
  },
  {
   "cell_type": "code",
   "execution_count": 3,
   "id": "00d37b94",
   "metadata": {},
   "outputs": [
    {
     "data": {
      "text/plain": [
       "Index(['Unnamed: 0', 'playerID', 'yearID', 'stint', 'teamID', 'lgID_x', 'W',\n",
       "       'L', 'G_x', 'GS_x', 'CG', 'SHO', 'SV', 'IPouts', 'H', 'ER', 'HR', 'BB',\n",
       "       'SO', 'BAOpp', 'ERA', 'IBB', 'WP', 'HBP', 'BK', 'BFP', 'GF', 'R', 'SH',\n",
       "       'SF', 'GIDP', 'birthYear', 'birthMonth', 'birthDay', 'birthCountry',\n",
       "       'birthState', 'birthCity', 'nameFirst', 'nameLast', 'nameGiven',\n",
       "       'weight', 'height', 'bats', 'throws', 'debut', 'finalGame', 'retroID',\n",
       "       'bbrefID', 'lgID_y', 'G_all', 'GS_y', 'G_batting', 'G_defense', 'G_p',\n",
       "       'G_c', 'G_1b', 'G_2b', 'G_3b', 'G_ss', 'G_lf', 'G_cf', 'G_rf', 'G_of',\n",
       "       'G_dh', 'G_ph', 'G_pr', 'name_common', 'age', 'mlb_ID', 'stint_ID',\n",
       "       'lg_ID', 'G_y', 'GS', 'runs_above_avg', 'WAR', 'salary', 'WAA',\n",
       "       'WAA_adj', 'WAR_rep', 'ERA_plus', 'ER_lg', 'gameNum', 'gameID', 'lgID',\n",
       "       'GP', 'startingPos', '_merge'],\n",
       "      dtype='object')"
      ]
     },
     "execution_count": 3,
     "metadata": {},
     "output_type": "execute_result"
    }
   ],
   "source": [
    "pitchers.columns"
   ]
  },
  {
   "cell_type": "code",
   "execution_count": 4,
   "id": "1109586f",
   "metadata": {},
   "outputs": [],
   "source": [
    "batters=pd.read_csv(r'/Users/hillelkrief1/Desktop/CareerFoundry/Course 2 Data Immersion/Achievement 6/prepared data/batters_final_clean.csv',index_col=False)"
   ]
  },
  {
   "cell_type": "code",
   "execution_count": 5,
   "id": "b202e367",
   "metadata": {},
   "outputs": [
    {
     "data": {
      "text/plain": [
       "USA               27318\n",
       "D.R.               2259\n",
       "Venezuela           881\n",
       "Mexico              513\n",
       "P.R.                468\n",
       "CAN                 428\n",
       "Cuba                353\n",
       "Japan               218\n",
       "Panama              134\n",
       "Australia           110\n",
       "South Korea          83\n",
       "Nicaragua            83\n",
       "Germany              67\n",
       "Colombia             48\n",
       "Taiwan               46\n",
       "United Kingdom       34\n",
       "Netherlands          33\n",
       "Curacao              23\n",
       "Aruba                21\n",
       "V.I.                 19\n",
       "Poland               15\n",
       "Viet Nam             13\n",
       "Jamaica              11\n",
       "Brazil                8\n",
       "France                7\n",
       "Saudi Arabia          7\n",
       "Philippines           6\n",
       "Hong Kong             6\n",
       "Spain                 4\n",
       "Guam                  4\n",
       "Peru                  4\n",
       "Lithuania             4\n",
       "Indonesia             3\n",
       "Afghanistan           3\n",
       "South Africa          2\n",
       "Bahamas               1\n",
       "Russia                1\n",
       "Name: birthCountry, dtype: int64"
      ]
     },
     "execution_count": 5,
     "metadata": {},
     "output_type": "execute_result"
    }
   ],
   "source": [
    "pitchers['birthCountry'].value_counts()"
   ]
  },
  {
   "cell_type": "code",
   "execution_count": 6,
   "id": "ea2fd86a",
   "metadata": {},
   "outputs": [],
   "source": [
    "#add a column that places \"Latin Born\" by every pitcher that comes from latin America\n",
    "pitchers.loc[(pitchers['birthCountry'] == 'D.R.') | (pitchers['birthCountry'] == 'Venezuela') |(pitchers['birthCountry'] == 'Mexico') |(pitchers['birthCountry'] == 'P.R.') |(pitchers['birthCountry'] == 'Cuba') |(pitchers['birthCountry'] == 'Panama') |(pitchers['birthCountry'] == 'Nicaragua') |(pitchers['birthCountry'] == 'Colombia') |(pitchers['birthCountry'] == 'Curacao') |(pitchers['birthCountry'] == 'Aruba') |(pitchers['birthCountry'] == 'V.I.') |(pitchers['birthCountry'] == 'Brazil') |(pitchers['birthCountry'] == 'Peru') |(pitchers['birthCountry'] == '\n",
    "\n",
    "') , 'region'] = 'Latin Born'\n",
    "pitchers.loc[(pitchers['birthCountry']=='USA')|(pitchers['birthCountry']=='CAN'),'region']='US Born'\n",
    "pitchers.loc[(pitchers['birthCountry'] == 'Japan') | (pitchers['birthCountry'] == 'Australia') | (pitchers['birthCountry'] == 'Italy') |(pitchers['birthCountry'] == 'South Korea') |(pitchers['birthCountry'] == 'Germany') |(pitchers['birthCountry'] == 'Taiwan')|(pitchers['birthCountry'] == 'United Kingdom')|(pitchers['birthCountry'] == 'Poland')|(pitchers['birthCountry'] == 'Viet Nam')|(pitchers['birthCountry'] == 'Jamaica')|(pitchers['birthCountry'] == 'France')|(pitchers['birthCountry'] == 'Saudi Arabia')|(pitchers['birthCountry'] == 'Philippines')|(pitchers['birthCountry'] == 'Hong Kong')|(pitchers['birthCountry'] == 'Spain')|(pitchers['birthCountry'] == 'Guam')|(pitchers['birthCountry'] == 'Lithuania')|(pitchers['birthCountry'] == 'Indonesia')|(pitchers['birthCountry'] == 'Afghanistan')|(pitchers['birthCountry'] == 'South Africa')|(pitchers['birthCountry'] == 'Russia'),'region']='Other'\n",
    "             "
   ]
  },
  {
   "cell_type": "code",
   "execution_count": 7,
   "id": "72ac8981",
   "metadata": {},
   "outputs": [
    {
     "data": {
      "text/plain": [
       "US Born       27746\n",
       "Latin Born     4814\n",
       "Other           644\n",
       "Name: region, dtype: int64"
      ]
     },
     "execution_count": 7,
     "metadata": {},
     "output_type": "execute_result"
    }
   ],
   "source": [
    "pitchers['region'].value_counts()"
   ]
  },
  {
   "cell_type": "code",
   "execution_count": 8,
   "id": "ceef968f",
   "metadata": {},
   "outputs": [],
   "source": [
    "batters.loc[(batters['birthCountry'] == 'D.R.') | (batters['birthCountry'] == 'Venezuela') |(batters['birthCountry'] == 'Mexico') |(batters['birthCountry'] == 'P.R.') |(batters['birthCountry'] == 'Cuba') |(batters['birthCountry'] == 'Panama') |(batters['birthCountry'] == 'Nicaragua') |(batters['birthCountry'] == 'Colombia') |(batters['birthCountry'] == 'Curacao') |(batters['birthCountry'] == 'Aruba') |(batters['birthCountry'] == 'V.I.') |(batters['birthCountry'] == 'Brazil') |(batters['birthCountry'] == 'Peru') |(batters['birthCountry'] == 'Bahamas') , 'region'] = 'Latin Born'\n",
    "batters.loc[(batters['birthCountry']=='USA')|(batters['birthCountry']=='CAN'),'region']='US Born'\n",
    "batters.loc[(batters['birthCountry'] == 'Japan') | (batters['birthCountry'] == 'Australia') |(batters['birthCountry'] == 'South Korea') |(batters['birthCountry'] == 'Germany') |(batters['birthCountry'] == 'Taiwan')|(batters['birthCountry'] == 'United Kingdom')|(batters['birthCountry'] == 'Poland')|(batters['birthCountry'] == 'Viet Nam')|(batters['birthCountry'] == 'Jamaica')|(batters['birthCountry'] == 'France')|(batters['birthCountry'] == 'Saudi Arabia')|(batters['birthCountry'] == 'Philippines')|(batters['birthCountry'] == 'Hong Kong')|(batters['birthCountry'] == 'Spain')|(batters['birthCountry'] == 'Guam')|(batters['birthCountry'] == 'Lithuania')|(batters['birthCountry'] == 'Indonesia')|(batters['birthCountry'] == 'Afghanistan')|(batters['birthCountry'] == 'South Africa')|(batters['birthCountry'] == 'Russia'),'region']='Other'"
   ]
  },
  {
   "cell_type": "code",
   "execution_count": 9,
   "id": "639e4afa",
   "metadata": {},
   "outputs": [
    {
     "data": {
      "text/plain": [
       "US Born       28924\n",
       "Latin Born     7154\n",
       "Other           354\n",
       "Name: region, dtype: int64"
      ]
     },
     "execution_count": 9,
     "metadata": {},
     "output_type": "execute_result"
    }
   ],
   "source": [
    "batters['region'].value_counts()"
   ]
  },
  {
   "cell_type": "code",
   "execution_count": 10,
   "id": "f0662816",
   "metadata": {},
   "outputs": [],
   "source": [
    "batters.to_csv(r'/Users/hillelkrief1/Desktop/CareerFoundry/Course 2 Data Immersion/Achievement 6/prepared data/final after region/batters_region.csv')"
   ]
  },
  {
   "cell_type": "code",
   "execution_count": 11,
   "id": "985ec1e1",
   "metadata": {},
   "outputs": [],
   "source": [
    "pitchers.to_csv(r'/Users/hillelkrief1/Desktop/CareerFoundry/Course 2 Data Immersion/Achievement 6/prepared data/final after region/pitchers_region.csv')"
   ]
  },
  {
   "cell_type": "code",
   "execution_count": null,
   "id": "fef227f6",
   "metadata": {},
   "outputs": [],
   "source": []
  }
 ],
 "metadata": {
  "kernelspec": {
   "display_name": "Python 3 (ipykernel)",
   "language": "python",
   "name": "python3"
  },
  "language_info": {
   "codemirror_mode": {
    "name": "ipython",
    "version": 3
   },
   "file_extension": ".py",
   "mimetype": "text/x-python",
   "name": "python",
   "nbconvert_exporter": "python",
   "pygments_lexer": "ipython3",
   "version": "3.9.12"
  }
 },
 "nbformat": 4,
 "nbformat_minor": 5
}
