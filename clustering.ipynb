{
 "cells": [
  {
   "cell_type": "markdown",
   "id": "3a165ea1",
   "metadata": {},
   "source": [
    "# Task 6.5 K-means"
   ]
  },
  {
   "cell_type": "markdown",
   "id": "c7d8e1d8",
   "metadata": {},
   "source": [
    "### Import"
   ]
  },
  {
   "cell_type": "code",
   "execution_count": 1,
   "id": "2f64930a",
   "metadata": {},
   "outputs": [],
   "source": [
    "import pandas as pd\n",
    "import numpy as np\n",
    "import seaborn as sns\n",
    "import matplotlib\n",
    "import matplotlib.pyplot as plt\n",
    "import os\n",
    "import sklearn\n",
    "from sklearn.cluster import KMeans \n",
    "import pylab as pl "
   ]
  },
  {
   "cell_type": "code",
   "execution_count": 2,
   "id": "dd4b1eea",
   "metadata": {},
   "outputs": [],
   "source": [
    "%matplotlib inline"
   ]
  },
  {
   "cell_type": "code",
   "execution_count": 15,
   "id": "f87c2ade",
   "metadata": {},
   "outputs": [],
   "source": [
    "batters=pd.read_csv(r'/Users/hillelkrief1/Desktop/CareerFoundry/Course 2 Data Immersion/Achievement 6/prepared data/batters_dummy.csv')\n",
    "\n"
   ]
  },
  {
   "cell_type": "code",
   "execution_count": 16,
   "id": "57cd6158",
   "metadata": {},
   "outputs": [],
   "source": [
    "pitchers=pd.read_csv(r'/Users/hillelkrief1/Desktop/CareerFoundry/Course 2 Data Immersion/Achievement 6/prepared data/pitchers_dummy.csv')\n",
    "\n"
   ]
  },
  {
   "cell_type": "markdown",
   "id": "510d071f",
   "metadata": {},
   "source": [
    "### Checks"
   ]
  },
  {
   "cell_type": "code",
   "execution_count": 17,
   "id": "e83b4d9a",
   "metadata": {},
   "outputs": [
    {
     "data": {
      "text/plain": [
       "(6257, 14)"
      ]
     },
     "execution_count": 17,
     "metadata": {},
     "output_type": "execute_result"
    }
   ],
   "source": [
    "pitchers.shape"
   ]
  },
  {
   "cell_type": "code",
   "execution_count": 18,
   "id": "760b2f5f",
   "metadata": {},
   "outputs": [
    {
     "data": {
      "text/plain": [
       "(5429, 14)"
      ]
     },
     "execution_count": 18,
     "metadata": {},
     "output_type": "execute_result"
    }
   ],
   "source": [
    "batters.shape"
   ]
  },
  {
   "cell_type": "code",
   "execution_count": 19,
   "id": "228d2f89",
   "metadata": {},
   "outputs": [
    {
     "data": {
      "text/html": [
       "<div>\n",
       "<style scoped>\n",
       "    .dataframe tbody tr th:only-of-type {\n",
       "        vertical-align: middle;\n",
       "    }\n",
       "\n",
       "    .dataframe tbody tr th {\n",
       "        vertical-align: top;\n",
       "    }\n",
       "\n",
       "    .dataframe thead th {\n",
       "        text-align: right;\n",
       "    }\n",
       "</style>\n",
       "<table border=\"1\" class=\"dataframe\">\n",
       "  <thead>\n",
       "    <tr style=\"text-align: right;\">\n",
       "      <th></th>\n",
       "      <th>Unnamed: 0</th>\n",
       "      <th>playerID</th>\n",
       "      <th>WAR</th>\n",
       "      <th>ERA_plus</th>\n",
       "      <th>G_all</th>\n",
       "      <th>seasonsPlayed</th>\n",
       "      <th>ASG</th>\n",
       "      <th>birthCountry</th>\n",
       "      <th>birthState</th>\n",
       "      <th>birthCity</th>\n",
       "      <th>regression</th>\n",
       "      <th>region_Latin Born</th>\n",
       "      <th>region_Other</th>\n",
       "      <th>region_US Born</th>\n",
       "    </tr>\n",
       "  </thead>\n",
       "  <tbody>\n",
       "    <tr>\n",
       "      <th>0</th>\n",
       "      <td>0</td>\n",
       "      <td>aardsda01</td>\n",
       "      <td>1.85</td>\n",
       "      <td>94.744369</td>\n",
       "      <td>331</td>\n",
       "      <td>9</td>\n",
       "      <td>0.0</td>\n",
       "      <td>USA</td>\n",
       "      <td>CO</td>\n",
       "      <td>Denver</td>\n",
       "      <td>no</td>\n",
       "      <td>0</td>\n",
       "      <td>0</td>\n",
       "      <td>1</td>\n",
       "    </tr>\n",
       "    <tr>\n",
       "      <th>1</th>\n",
       "      <td>1</td>\n",
       "      <td>aasedo01</td>\n",
       "      <td>15.09</td>\n",
       "      <td>126.585193</td>\n",
       "      <td>448</td>\n",
       "      <td>13</td>\n",
       "      <td>1.0</td>\n",
       "      <td>USA</td>\n",
       "      <td>CA</td>\n",
       "      <td>Orange</td>\n",
       "      <td>yes</td>\n",
       "      <td>0</td>\n",
       "      <td>0</td>\n",
       "      <td>1</td>\n",
       "    </tr>\n",
       "    <tr>\n",
       "      <th>2</th>\n",
       "      <td>2</td>\n",
       "      <td>abadfe01</td>\n",
       "      <td>3.18</td>\n",
       "      <td>116.022263</td>\n",
       "      <td>400</td>\n",
       "      <td>11</td>\n",
       "      <td>0.0</td>\n",
       "      <td>D.R.</td>\n",
       "      <td>La Romana</td>\n",
       "      <td>La Romana</td>\n",
       "      <td>no</td>\n",
       "      <td>1</td>\n",
       "      <td>0</td>\n",
       "      <td>0</td>\n",
       "    </tr>\n",
       "    <tr>\n",
       "      <th>3</th>\n",
       "      <td>3</td>\n",
       "      <td>abbotco01</td>\n",
       "      <td>-0.40</td>\n",
       "      <td>63.615385</td>\n",
       "      <td>8</td>\n",
       "      <td>1</td>\n",
       "      <td>0.0</td>\n",
       "      <td>USA</td>\n",
       "      <td>CA</td>\n",
       "      <td>San Diego</td>\n",
       "      <td>no</td>\n",
       "      <td>0</td>\n",
       "      <td>0</td>\n",
       "      <td>1</td>\n",
       "    </tr>\n",
       "    <tr>\n",
       "      <th>4</th>\n",
       "      <td>4</td>\n",
       "      <td>abbotgl01</td>\n",
       "      <td>5.26</td>\n",
       "      <td>97.366300</td>\n",
       "      <td>248</td>\n",
       "      <td>12</td>\n",
       "      <td>0.0</td>\n",
       "      <td>USA</td>\n",
       "      <td>AR</td>\n",
       "      <td>Little Rock</td>\n",
       "      <td>no</td>\n",
       "      <td>0</td>\n",
       "      <td>0</td>\n",
       "      <td>1</td>\n",
       "    </tr>\n",
       "  </tbody>\n",
       "</table>\n",
       "</div>"
      ],
      "text/plain": [
       "   Unnamed: 0   playerID    WAR    ERA_plus  G_all  seasonsPlayed  ASG  \\\n",
       "0           0  aardsda01   1.85   94.744369    331              9  0.0   \n",
       "1           1   aasedo01  15.09  126.585193    448             13  1.0   \n",
       "2           2   abadfe01   3.18  116.022263    400             11  0.0   \n",
       "3           3  abbotco01  -0.40   63.615385      8              1  0.0   \n",
       "4           4  abbotgl01   5.26   97.366300    248             12  0.0   \n",
       "\n",
       "  birthCountry birthState    birthCity regression  region_Latin Born  \\\n",
       "0          USA         CO       Denver         no                  0   \n",
       "1          USA         CA       Orange        yes                  0   \n",
       "2         D.R.  La Romana    La Romana         no                  1   \n",
       "3          USA         CA    San Diego         no                  0   \n",
       "4          USA         AR  Little Rock         no                  0   \n",
       "\n",
       "   region_Other  region_US Born  \n",
       "0             0               1  \n",
       "1             0               1  \n",
       "2             0               0  \n",
       "3             0               1  \n",
       "4             0               1  "
      ]
     },
     "execution_count": 19,
     "metadata": {},
     "output_type": "execute_result"
    }
   ],
   "source": [
    "pitchers.head()"
   ]
  },
  {
   "cell_type": "code",
   "execution_count": 20,
   "id": "57ce032b",
   "metadata": {
    "scrolled": false
   },
   "outputs": [
    {
     "data": {
      "text/html": [
       "<div>\n",
       "<style scoped>\n",
       "    .dataframe tbody tr th:only-of-type {\n",
       "        vertical-align: middle;\n",
       "    }\n",
       "\n",
       "    .dataframe tbody tr th {\n",
       "        vertical-align: top;\n",
       "    }\n",
       "\n",
       "    .dataframe thead th {\n",
       "        text-align: right;\n",
       "    }\n",
       "</style>\n",
       "<table border=\"1\" class=\"dataframe\">\n",
       "  <thead>\n",
       "    <tr style=\"text-align: right;\">\n",
       "      <th></th>\n",
       "      <th>Unnamed: 0</th>\n",
       "      <th>playerID</th>\n",
       "      <th>WAR</th>\n",
       "      <th>HR</th>\n",
       "      <th>ASG</th>\n",
       "      <th>H</th>\n",
       "      <th>seasonsPlayed</th>\n",
       "      <th>birthCountry</th>\n",
       "      <th>birthState</th>\n",
       "      <th>birthCity</th>\n",
       "      <th>regression</th>\n",
       "      <th>region_Latin Born</th>\n",
       "      <th>region_Other</th>\n",
       "      <th>region_US Born</th>\n",
       "    </tr>\n",
       "  </thead>\n",
       "  <tbody>\n",
       "    <tr>\n",
       "      <th>0</th>\n",
       "      <td>0</td>\n",
       "      <td>aaronha01</td>\n",
       "      <td>105.72</td>\n",
       "      <td>570</td>\n",
       "      <td>16.0</td>\n",
       "      <td>2659</td>\n",
       "      <td>17</td>\n",
       "      <td>USA</td>\n",
       "      <td>AL</td>\n",
       "      <td>Mobile</td>\n",
       "      <td>yes</td>\n",
       "      <td>0</td>\n",
       "      <td>0</td>\n",
       "      <td>1</td>\n",
       "    </tr>\n",
       "    <tr>\n",
       "      <th>1</th>\n",
       "      <td>1</td>\n",
       "      <td>aaronto01</td>\n",
       "      <td>-2.77</td>\n",
       "      <td>13</td>\n",
       "      <td>0.0</td>\n",
       "      <td>216</td>\n",
       "      <td>7</td>\n",
       "      <td>USA</td>\n",
       "      <td>AL</td>\n",
       "      <td>Mobile</td>\n",
       "      <td>no</td>\n",
       "      <td>0</td>\n",
       "      <td>0</td>\n",
       "      <td>1</td>\n",
       "    </tr>\n",
       "    <tr>\n",
       "      <th>2</th>\n",
       "      <td>2</td>\n",
       "      <td>abadan01</td>\n",
       "      <td>-0.35</td>\n",
       "      <td>0</td>\n",
       "      <td>0.0</td>\n",
       "      <td>2</td>\n",
       "      <td>3</td>\n",
       "      <td>USA</td>\n",
       "      <td>FL</td>\n",
       "      <td>Palm Beach</td>\n",
       "      <td>no</td>\n",
       "      <td>0</td>\n",
       "      <td>0</td>\n",
       "      <td>1</td>\n",
       "    </tr>\n",
       "    <tr>\n",
       "      <th>3</th>\n",
       "      <td>3</td>\n",
       "      <td>abbotje01</td>\n",
       "      <td>-1.44</td>\n",
       "      <td>18</td>\n",
       "      <td>0.0</td>\n",
       "      <td>157</td>\n",
       "      <td>5</td>\n",
       "      <td>USA</td>\n",
       "      <td>GA</td>\n",
       "      <td>Atlanta</td>\n",
       "      <td>no</td>\n",
       "      <td>0</td>\n",
       "      <td>0</td>\n",
       "      <td>1</td>\n",
       "    </tr>\n",
       "    <tr>\n",
       "      <th>4</th>\n",
       "      <td>4</td>\n",
       "      <td>abbotku01</td>\n",
       "      <td>0.54</td>\n",
       "      <td>62</td>\n",
       "      <td>0.0</td>\n",
       "      <td>523</td>\n",
       "      <td>10</td>\n",
       "      <td>USA</td>\n",
       "      <td>OH</td>\n",
       "      <td>Zanesville</td>\n",
       "      <td>no</td>\n",
       "      <td>0</td>\n",
       "      <td>0</td>\n",
       "      <td>1</td>\n",
       "    </tr>\n",
       "  </tbody>\n",
       "</table>\n",
       "</div>"
      ],
      "text/plain": [
       "   Unnamed: 0   playerID     WAR   HR   ASG     H  seasonsPlayed birthCountry  \\\n",
       "0           0  aaronha01  105.72  570  16.0  2659             17          USA   \n",
       "1           1  aaronto01   -2.77   13   0.0   216              7          USA   \n",
       "2           2   abadan01   -0.35    0   0.0     2              3          USA   \n",
       "3           3  abbotje01   -1.44   18   0.0   157              5          USA   \n",
       "4           4  abbotku01    0.54   62   0.0   523             10          USA   \n",
       "\n",
       "  birthState   birthCity regression  region_Latin Born  region_Other  \\\n",
       "0         AL      Mobile        yes                  0             0   \n",
       "1         AL      Mobile         no                  0             0   \n",
       "2         FL  Palm Beach         no                  0             0   \n",
       "3         GA     Atlanta         no                  0             0   \n",
       "4         OH  Zanesville         no                  0             0   \n",
       "\n",
       "   region_US Born  \n",
       "0               1  \n",
       "1               1  \n",
       "2               1  \n",
       "3               1  \n",
       "4               1  "
      ]
     },
     "execution_count": 20,
     "metadata": {},
     "output_type": "execute_result"
    }
   ],
   "source": [
    "batters.head()"
   ]
  },
  {
   "cell_type": "code",
   "execution_count": 21,
   "id": "03af9e04",
   "metadata": {},
   "outputs": [
    {
     "data": {
      "text/plain": [
       "Index(['Unnamed: 0', 'playerID', 'WAR', 'HR', 'ASG', 'H', 'seasonsPlayed',\n",
       "       'birthCountry', 'birthState', 'birthCity', 'regression',\n",
       "       'region_Latin Born', 'region_Other', 'region_US Born'],\n",
       "      dtype='object')"
      ]
     },
     "execution_count": 21,
     "metadata": {},
     "output_type": "execute_result"
    }
   ],
   "source": [
    "batters.columns"
   ]
  },
  {
   "cell_type": "code",
   "execution_count": 22,
   "id": "33006bf7",
   "metadata": {},
   "outputs": [],
   "source": [
    "batters=batters.drop(['Unnamed: 0', 'playerID','birthCountry', 'birthState', 'birthCity', 'regression'], axis=1)"
   ]
  },
  {
   "cell_type": "code",
   "execution_count": 23,
   "id": "e7dbabb8",
   "metadata": {},
   "outputs": [
    {
     "data": {
      "text/plain": [
       "Index(['WAR', 'HR', 'ASG', 'H', 'seasonsPlayed', 'region_Latin Born',\n",
       "       'region_Other', 'region_US Born'],\n",
       "      dtype='object')"
      ]
     },
     "execution_count": 23,
     "metadata": {},
     "output_type": "execute_result"
    }
   ],
   "source": [
    "batters.columns"
   ]
  },
  {
   "cell_type": "code",
   "execution_count": 24,
   "id": "ad54f22d",
   "metadata": {
    "scrolled": true
   },
   "outputs": [
    {
     "data": {
      "text/plain": [
       "Index(['Unnamed: 0', 'playerID', 'WAR', 'ERA_plus', 'G_all', 'seasonsPlayed',\n",
       "       'ASG', 'birthCountry', 'birthState', 'birthCity', 'regression',\n",
       "       'region_Latin Born', 'region_Other', 'region_US Born'],\n",
       "      dtype='object')"
      ]
     },
     "execution_count": 24,
     "metadata": {},
     "output_type": "execute_result"
    }
   ],
   "source": [
    "pitchers.columns"
   ]
  },
  {
   "cell_type": "code",
   "execution_count": 25,
   "id": "09602ca0",
   "metadata": {},
   "outputs": [],
   "source": [
    "pitchers=pitchers.drop(['Unnamed: 0', 'playerID','birthCountry', 'birthState', 'birthCity', 'regression'], axis=1)"
   ]
  },
  {
   "cell_type": "code",
   "execution_count": 26,
   "id": "01b31507",
   "metadata": {},
   "outputs": [
    {
     "data": {
      "text/plain": [
       "Index(['WAR', 'ERA_plus', 'G_all', 'seasonsPlayed', 'ASG', 'region_Latin Born',\n",
       "       'region_Other', 'region_US Born'],\n",
       "      dtype='object')"
      ]
     },
     "execution_count": 26,
     "metadata": {},
     "output_type": "execute_result"
    }
   ],
   "source": [
    "pitchers.columns"
   ]
  },
  {
   "cell_type": "code",
   "execution_count": 32,
   "id": "76a5111b",
   "metadata": {},
   "outputs": [
    {
     "name": "stdout",
     "output_type": "stream",
     "text": [
      "WAR                    0\n",
      "ERA_plus             271\n",
      "G_all                  0\n",
      "seasonsPlayed          0\n",
      "ASG                    0\n",
      "region_Latin Born      0\n",
      "region_Other           0\n",
      "region_US Born         0\n",
      "dtype: int64\n"
     ]
    }
   ],
   "source": [
    "nulls = pitchers.isnull().sum()\n",
    "print(nulls)"
   ]
  },
  {
   "cell_type": "code",
   "execution_count": 34,
   "id": "d8b4dccf",
   "metadata": {},
   "outputs": [],
   "source": [
    "era_mean = pitchers['ERA_plus'].mean()\n",
    "\n",
    "# Fill the nulls with the mean value\n",
    "pitchers['ERA_plus'] = pitchers['ERA_plus'].fillna(era_mean)"
   ]
  },
  {
   "cell_type": "markdown",
   "id": "88d58b96",
   "metadata": {},
   "source": [
    "### Elbow Technqiue "
   ]
  },
  {
   "cell_type": "code",
   "execution_count": 27,
   "id": "9fa0a136",
   "metadata": {},
   "outputs": [],
   "source": [
    "num_cl = range(1, 10)\n",
    "kmeans = [KMeans(n_clusters=i) for i in num_cl]"
   ]
  },
  {
   "cell_type": "code",
   "execution_count": 36,
   "id": "59199373",
   "metadata": {},
   "outputs": [
    {
     "data": {
      "text/plain": [
       "[-1895319316.4198642,\n",
       " -511202606.9552698,\n",
       " -248262372.94930026,\n",
       " -142339791.1575921,\n",
       " -99637862.4961806,\n",
       " -72082389.75521496,\n",
       " -54982704.04175757,\n",
       " -44937612.29765833,\n",
       " -37603498.349438176]"
      ]
     },
     "execution_count": 36,
     "metadata": {},
     "output_type": "execute_result"
    }
   ],
   "source": [
    "score_b = [kmeans[i].fit(batters).score(batters) for i in range(len(kmeans))]\n",
    "score_b"
   ]
  },
  {
   "cell_type": "code",
   "execution_count": 38,
   "id": "41398c5c",
   "metadata": {},
   "outputs": [
    {
     "data": {
      "image/png": "[encoded data removed]",
      "text/plain": [
       "<Figure size 432x288 with 1 Axes>"
      ]
     },
     "metadata": {
      "needs_background": "light"
     },
     "output_type": "display_data"
    }
   ],
   "source": [
    "pl.plot(num_cl,score_b)\n",
    "pl.xlabel('Number of Clusters')\n",
    "pl.ylabel('Score')\n",
    "pl.title('Elbow Curve')\n",
    "pl.show()"
   ]
  },
  {
   "cell_type": "code",
   "execution_count": 40,
   "id": "420914ac",
   "metadata": {},
   "outputs": [
    {
     "data": {
      "text/plain": [
       "[-206484750.7382093,\n",
       " -67838688.58823463,\n",
       " -38139775.31597167,\n",
       " -26964036.344068103,\n",
       " -21433223.081952326,\n",
       " -17118961.363840524,\n",
       " -14046875.005502991,\n",
       " -11991365.639436554,\n",
       " -10483452.133738771]"
      ]
     },
     "execution_count": 40,
     "metadata": {},
     "output_type": "execute_result"
    }
   ],
   "source": [
    "score_p = [kmeans[i].fit(pitchers).score(pitchers) for i in range(len(kmeans))]\n",
    "score_p"
   ]
  },
  {
   "cell_type": "code",
   "execution_count": 39,
   "id": "380b355d",
   "metadata": {},
   "outputs": [
    {
     "data": {
      "image/png": "[encoded data removed]",
      "text/plain": [
       "<Figure size 432x288 with 1 Axes>"
      ]
     },
     "metadata": {
      "needs_background": "light"
     },
     "output_type": "display_data"
    }
   ],
   "source": [
    "pl.plot(num_cl,score_p)\n",
    "pl.xlabel('Number of Clusters')\n",
    "pl.ylabel('Score')\n",
    "pl.title('Elbow Curve')\n",
    "pl.show()"
   ]
  },
  {
   "cell_type": "markdown",
   "id": "9e5313f8",
   "metadata": {},
   "source": [
    "##### we see from here that both our batters and pitchers are going to be using three clusters"
   ]
  },
  {
   "cell_type": "markdown",
   "id": "d1752e32",
   "metadata": {},
   "source": [
    "## K-means cluster"
   ]
  },
  {
   "cell_type": "code",
   "execution_count": 43,
   "id": "f64685cb",
   "metadata": {},
   "outputs": [],
   "source": [
    "kmeans_b = KMeans(n_clusters = 3) "
   ]
  },
  {
   "cell_type": "code",
   "execution_count": 44,
   "id": "d4909b7a",
   "metadata": {},
   "outputs": [],
   "source": [
    "kmeans_p = KMeans(n_clusters = 3) "
   ]
  },
  {
   "cell_type": "code",
   "execution_count": 45,
   "id": "6f1ecaab",
   "metadata": {},
   "outputs": [
    {
     "data": {
      "text/plain": [
       "KMeans(n_clusters=3)"
      ]
     },
     "execution_count": 45,
     "metadata": {},
     "output_type": "execute_result"
    }
   ],
   "source": [
    "kmeans.fit(batters)"
   ]
  },
  {
   "cell_type": "code",
   "execution_count": 46,
   "id": "82aae6c7",
   "metadata": {},
   "outputs": [
    {
     "data": {
      "text/plain": [
       "KMeans(n_clusters=3)"
      ]
     },
     "execution_count": 46,
     "metadata": {},
     "output_type": "execute_result"
    }
   ],
   "source": [
    "kmeans.fit(pitchers)"
   ]
  },
  {
   "cell_type": "code",
   "execution_count": 47,
   "id": "3e8b33cf",
   "metadata": {},
   "outputs": [],
   "source": [
    "batters['clusters'] = kmeans_b.fit_predict(batters)"
   ]
  },
  {
   "cell_type": "code",
   "execution_count": 48,
   "id": "d21c04df",
   "metadata": {},
   "outputs": [],
   "source": [
    "pitchers['clusters'] = kmeans_p.fit_predict(pitchers)"
   ]
  },
  {
   "cell_type": "code",
   "execution_count": 49,
   "id": "fd99626d",
   "metadata": {},
   "outputs": [
    {
     "data": {
      "text/html": [
       "<div>\n",
       "<style scoped>\n",
       "    .dataframe tbody tr th:only-of-type {\n",
       "        vertical-align: middle;\n",
       "    }\n",
       "\n",
       "    .dataframe tbody tr th {\n",
       "        vertical-align: top;\n",
       "    }\n",
       "\n",
       "    .dataframe thead th {\n",
       "        text-align: right;\n",
       "    }\n",
       "</style>\n",
       "<table border=\"1\" class=\"dataframe\">\n",
       "  <thead>\n",
       "    <tr style=\"text-align: right;\">\n",
       "      <th></th>\n",
       "      <th>WAR</th>\n",
       "      <th>HR</th>\n",
       "      <th>ASG</th>\n",
       "      <th>H</th>\n",
       "      <th>seasonsPlayed</th>\n",
       "      <th>region_Latin Born</th>\n",
       "      <th>region_Other</th>\n",
       "      <th>region_US Born</th>\n",
       "      <th>clusters</th>\n",
       "    </tr>\n",
       "  </thead>\n",
       "  <tbody>\n",
       "    <tr>\n",
       "      <th>0</th>\n",
       "      <td>105.72</td>\n",
       "      <td>570</td>\n",
       "      <td>16.0</td>\n",
       "      <td>2659</td>\n",
       "      <td>17</td>\n",
       "      <td>0</td>\n",
       "      <td>0</td>\n",
       "      <td>1</td>\n",
       "      <td>2</td>\n",
       "    </tr>\n",
       "    <tr>\n",
       "      <th>1</th>\n",
       "      <td>-2.77</td>\n",
       "      <td>13</td>\n",
       "      <td>0.0</td>\n",
       "      <td>216</td>\n",
       "      <td>7</td>\n",
       "      <td>0</td>\n",
       "      <td>0</td>\n",
       "      <td>1</td>\n",
       "      <td>0</td>\n",
       "    </tr>\n",
       "    <tr>\n",
       "      <th>2</th>\n",
       "      <td>-0.35</td>\n",
       "      <td>0</td>\n",
       "      <td>0.0</td>\n",
       "      <td>2</td>\n",
       "      <td>3</td>\n",
       "      <td>0</td>\n",
       "      <td>0</td>\n",
       "      <td>1</td>\n",
       "      <td>0</td>\n",
       "    </tr>\n",
       "    <tr>\n",
       "      <th>3</th>\n",
       "      <td>-1.44</td>\n",
       "      <td>18</td>\n",
       "      <td>0.0</td>\n",
       "      <td>157</td>\n",
       "      <td>5</td>\n",
       "      <td>0</td>\n",
       "      <td>0</td>\n",
       "      <td>1</td>\n",
       "      <td>0</td>\n",
       "    </tr>\n",
       "    <tr>\n",
       "      <th>4</th>\n",
       "      <td>0.54</td>\n",
       "      <td>62</td>\n",
       "      <td>0.0</td>\n",
       "      <td>523</td>\n",
       "      <td>10</td>\n",
       "      <td>0</td>\n",
       "      <td>0</td>\n",
       "      <td>1</td>\n",
       "      <td>1</td>\n",
       "    </tr>\n",
       "  </tbody>\n",
       "</table>\n",
       "</div>"
      ],
      "text/plain": [
       "      WAR   HR   ASG     H  seasonsPlayed  region_Latin Born  region_Other  \\\n",
       "0  105.72  570  16.0  2659             17                  0             0   \n",
       "1   -2.77   13   0.0   216              7                  0             0   \n",
       "2   -0.35    0   0.0     2              3                  0             0   \n",
       "3   -1.44   18   0.0   157              5                  0             0   \n",
       "4    0.54   62   0.0   523             10                  0             0   \n",
       "\n",
       "   region_US Born  clusters  \n",
       "0               1         2  \n",
       "1               1         0  \n",
       "2               1         0  \n",
       "3               1         0  \n",
       "4               1         1  "
      ]
     },
     "execution_count": 49,
     "metadata": {},
     "output_type": "execute_result"
    }
   ],
   "source": [
    "batters.head()"
   ]
  },
  {
   "cell_type": "code",
   "execution_count": 50,
   "id": "b9645cdc",
   "metadata": {},
   "outputs": [
    {
     "data": {
      "text/html": [
       "<div>\n",
       "<style scoped>\n",
       "    .dataframe tbody tr th:only-of-type {\n",
       "        vertical-align: middle;\n",
       "    }\n",
       "\n",
       "    .dataframe tbody tr th {\n",
       "        vertical-align: top;\n",
       "    }\n",
       "\n",
       "    .dataframe thead th {\n",
       "        text-align: right;\n",
       "    }\n",
       "</style>\n",
       "<table border=\"1\" class=\"dataframe\">\n",
       "  <thead>\n",
       "    <tr style=\"text-align: right;\">\n",
       "      <th></th>\n",
       "      <th>WAR</th>\n",
       "      <th>ERA_plus</th>\n",
       "      <th>G_all</th>\n",
       "      <th>seasonsPlayed</th>\n",
       "      <th>ASG</th>\n",
       "      <th>region_Latin Born</th>\n",
       "      <th>region_Other</th>\n",
       "      <th>region_US Born</th>\n",
       "      <th>clusters</th>\n",
       "    </tr>\n",
       "  </thead>\n",
       "  <tbody>\n",
       "    <tr>\n",
       "      <th>0</th>\n",
       "      <td>1.85</td>\n",
       "      <td>94.744369</td>\n",
       "      <td>331</td>\n",
       "      <td>9</td>\n",
       "      <td>0.0</td>\n",
       "      <td>0</td>\n",
       "      <td>0</td>\n",
       "      <td>1</td>\n",
       "      <td>2</td>\n",
       "    </tr>\n",
       "    <tr>\n",
       "      <th>1</th>\n",
       "      <td>15.09</td>\n",
       "      <td>126.585193</td>\n",
       "      <td>448</td>\n",
       "      <td>13</td>\n",
       "      <td>1.0</td>\n",
       "      <td>0</td>\n",
       "      <td>0</td>\n",
       "      <td>1</td>\n",
       "      <td>0</td>\n",
       "    </tr>\n",
       "    <tr>\n",
       "      <th>2</th>\n",
       "      <td>3.18</td>\n",
       "      <td>116.022263</td>\n",
       "      <td>400</td>\n",
       "      <td>11</td>\n",
       "      <td>0.0</td>\n",
       "      <td>1</td>\n",
       "      <td>0</td>\n",
       "      <td>0</td>\n",
       "      <td>2</td>\n",
       "    </tr>\n",
       "    <tr>\n",
       "      <th>3</th>\n",
       "      <td>-0.40</td>\n",
       "      <td>63.615385</td>\n",
       "      <td>8</td>\n",
       "      <td>1</td>\n",
       "      <td>0.0</td>\n",
       "      <td>0</td>\n",
       "      <td>0</td>\n",
       "      <td>1</td>\n",
       "      <td>1</td>\n",
       "    </tr>\n",
       "    <tr>\n",
       "      <th>4</th>\n",
       "      <td>5.26</td>\n",
       "      <td>97.366300</td>\n",
       "      <td>248</td>\n",
       "      <td>12</td>\n",
       "      <td>0.0</td>\n",
       "      <td>0</td>\n",
       "      <td>0</td>\n",
       "      <td>1</td>\n",
       "      <td>2</td>\n",
       "    </tr>\n",
       "  </tbody>\n",
       "</table>\n",
       "</div>"
      ],
      "text/plain": [
       "     WAR    ERA_plus  G_all  seasonsPlayed  ASG  region_Latin Born  \\\n",
       "0   1.85   94.744369    331              9  0.0                  0   \n",
       "1  15.09  126.585193    448             13  1.0                  0   \n",
       "2   3.18  116.022263    400             11  0.0                  1   \n",
       "3  -0.40   63.615385      8              1  0.0                  0   \n",
       "4   5.26   97.366300    248             12  0.0                  0   \n",
       "\n",
       "   region_Other  region_US Born  clusters  \n",
       "0             0               1         2  \n",
       "1             0               1         0  \n",
       "2             0               0         2  \n",
       "3             0               1         1  \n",
       "4             0               1         2  "
      ]
     },
     "execution_count": 50,
     "metadata": {},
     "output_type": "execute_result"
    }
   ],
   "source": [
    "pitchers.head()"
   ]
  },
  {
   "cell_type": "code",
   "execution_count": 51,
   "id": "650da58e",
   "metadata": {},
   "outputs": [
    {
     "data": {
      "text/plain": [
       "0    3923\n",
       "1    1078\n",
       "2     428\n",
       "Name: clusters, dtype: int64"
      ]
     },
     "execution_count": 51,
     "metadata": {},
     "output_type": "execute_result"
    }
   ],
   "source": [
    "batters['clusters'].value_counts()"
   ]
  },
  {
   "cell_type": "code",
   "execution_count": 52,
   "id": "080ad0aa",
   "metadata": {},
   "outputs": [
    {
     "data": {
      "text/plain": [
       "1    4372\n",
       "2    1393\n",
       "0     492\n",
       "Name: clusters, dtype: int64"
      ]
     },
     "execution_count": 52,
     "metadata": {},
     "output_type": "execute_result"
    }
   ],
   "source": [
    "pitchers['clusters'].value_counts()"
   ]
  },
  {
   "cell_type": "code",
   "execution_count": 54,
   "id": "530f7b17",
   "metadata": {
    "scrolled": true
   },
   "outputs": [
    {
     "data": {
      "image/png": "[encoded data removed]",
      "text/plain": [
       "<Figure size 864x576 with 1 Axes>"
      ]
     },
     "metadata": {
      "needs_background": "light"
     },
     "output_type": "display_data"
    }
   ],
   "source": [
    "# Plot the clusters for the \"WAR\" and \"HR\" variables.\n",
    "\n",
    "plt.figure(figsize=(12,8))\n",
    "ax = sns.scatterplot(x=batters['WAR'], y=batters['HR'], hue=kmeans_b.labels_, s=100) \n",
    "# Here, you're subsetting `X` for the x and y arguments to avoid using their labels. \n",
    "# `hue` takes the value of the attribute `kmeans.labels_`, which is the result of running the k-means algorithm.\n",
    "# `s` represents the size of the points you want to see in the plot.\n",
    "\n",
    "ax.grid(False) # This removes the grid from the background.\n",
    "plt.xlabel('WAR') # Label x-axis.\n",
    "plt.ylabel('HR') # Label y-axis.\n",
    "plt.show()"
   ]
  },
  {
   "cell_type": "markdown",
   "id": "b272b955",
   "metadata": {},
   "source": [
    "### the more HR a player hits, the more their teams scores. The more their teams scores, the more their team wins. Here it shows a positive realtionship between WAR and ERA_plus which therefore makes sesne as the more HR's a player hits the more \"wins\" he is worth"
   ]
  },
  {
   "cell_type": "code",
   "execution_count": 56,
   "id": "0144a622",
   "metadata": {
    "scrolled": true
   },
   "outputs": [
    {
     "data": {
      "image/png": "[encoded data removed]",
      "text/plain": [
       "<Figure size 864x576 with 1 Axes>"
      ]
     },
     "metadata": {
      "needs_background": "light"
     },
     "output_type": "display_data"
    }
   ],
   "source": [
    "# Plot the clusters for the \"WAR\" and \"ERA_plus\" variables.\n",
    "\n",
    "plt.figure(figsize=(12,8))\n",
    "ax = sns.scatterplot(x=pitchers['WAR'], y=pitchers['ERA_plus'], hue=kmeans_p.labels_, s=100) \n",
    "# Here, you're subsetting `X` for the x and y arguments to avoid using their labels. \n",
    "# `hue` takes the value of the attribute `kmeans.labels_`, which is the result of running the k-means algorithm.\n",
    "# `s` represents the size of the points you want to see in the plot.\n",
    "\n",
    "ax.grid(False) # This removes the grid from the background.\n",
    "plt.xlabel('WAR') # Label x-axis.\n",
    "plt.ylabel('ERA_plus') # Label y-axis.\n",
    "plt.show()"
   ]
  },
  {
   "cell_type": "markdown",
   "id": "3a913508",
   "metadata": {},
   "source": [
    "### even though ERA plus is amont the more modern stats, (its a measure of a pitchers earned run average with ballpark dimension factors and opponents), it seemingly does not match up with a pitchers WAR value to a team. True is measures runs given up in a more accurate and fair way... but what about defense? What if a pitchers defense behind him sucks but he himself doesn't suck? Or vice versa. That's just a thought as to why!\n"
   ]
  },
  {
   "cell_type": "code",
   "execution_count": 57,
   "id": "e40dcc8b",
   "metadata": {},
   "outputs": [],
   "source": [
    "batters.loc[batters['clusters'] == 2, 'cluster'] = 'dark purple'\n",
    "batters.loc[batters['clusters'] == 1, 'cluster'] = 'purple'\n",
    "batters.loc[batters['clusters'] == 0, 'cluster'] = 'pink'"
   ]
  },
  {
   "cell_type": "code",
   "execution_count": 58,
   "id": "208d7ef5",
   "metadata": {},
   "outputs": [],
   "source": [
    "pitchers.loc[pitchers['clusters'] == 2, 'cluster'] = 'dark purple'\n",
    "pitchers.loc[pitchers['clusters'] == 1, 'cluster'] = 'purple'\n",
    "pitchers.loc[pitchers['clusters'] == 0, 'cluster'] = 'pink'"
   ]
  },
  {
   "cell_type": "code",
   "execution_count": 59,
   "id": "b975e9f3",
   "metadata": {
    "scrolled": true
   },
   "outputs": [
    {
     "data": {
      "text/html": [
       "<div>\n",
       "<style scoped>\n",
       "    .dataframe tbody tr th:only-of-type {\n",
       "        vertical-align: middle;\n",
       "    }\n",
       "\n",
       "    .dataframe tbody tr th {\n",
       "        vertical-align: top;\n",
       "    }\n",
       "\n",
       "    .dataframe thead tr th {\n",
       "        text-align: left;\n",
       "    }\n",
       "\n",
       "    .dataframe thead tr:last-of-type th {\n",
       "        text-align: right;\n",
       "    }\n",
       "</style>\n",
       "<table border=\"1\" class=\"dataframe\">\n",
       "  <thead>\n",
       "    <tr>\n",
       "      <th></th>\n",
       "      <th colspan=\"2\" halign=\"left\">WAR</th>\n",
       "      <th colspan=\"2\" halign=\"left\">H</th>\n",
       "      <th colspan=\"2\" halign=\"left\">HR</th>\n",
       "      <th colspan=\"2\" halign=\"left\">seasonsPlayed</th>\n",
       "    </tr>\n",
       "    <tr>\n",
       "      <th></th>\n",
       "      <th>mean</th>\n",
       "      <th>median</th>\n",
       "      <th>mean</th>\n",
       "      <th>median</th>\n",
       "      <th>mean</th>\n",
       "      <th>median</th>\n",
       "      <th>mean</th>\n",
       "      <th>median</th>\n",
       "    </tr>\n",
       "    <tr>\n",
       "      <th>cluster</th>\n",
       "      <th></th>\n",
       "      <th></th>\n",
       "      <th></th>\n",
       "      <th></th>\n",
       "      <th></th>\n",
       "      <th></th>\n",
       "      <th></th>\n",
       "      <th></th>\n",
       "    </tr>\n",
       "  </thead>\n",
       "  <tbody>\n",
       "    <tr>\n",
       "      <th>dark purple</th>\n",
       "      <td>40.477266</td>\n",
       "      <td>36.755</td>\n",
       "      <td>1967.563084</td>\n",
       "      <td>1866.0</td>\n",
       "      <td>237.154206</td>\n",
       "      <td>225.5</td>\n",
       "      <td>17.002336</td>\n",
       "      <td>17.0</td>\n",
       "    </tr>\n",
       "    <tr>\n",
       "      <th>pink</th>\n",
       "      <td>0.337130</td>\n",
       "      <td>-0.080</td>\n",
       "      <td>110.494774</td>\n",
       "      <td>50.0</td>\n",
       "      <td>10.267907</td>\n",
       "      <td>3.0</td>\n",
       "      <td>4.198063</td>\n",
       "      <td>3.0</td>\n",
       "    </tr>\n",
       "    <tr>\n",
       "      <th>purple</th>\n",
       "      <td>11.807393</td>\n",
       "      <td>10.355</td>\n",
       "      <td>875.192022</td>\n",
       "      <td>827.0</td>\n",
       "      <td>90.634508</td>\n",
       "      <td>82.0</td>\n",
       "      <td>11.846011</td>\n",
       "      <td>12.0</td>\n",
       "    </tr>\n",
       "  </tbody>\n",
       "</table>\n",
       "</div>"
      ],
      "text/plain": [
       "                   WAR                    H                  HR         \\\n",
       "                  mean  median         mean  median        mean median   \n",
       "cluster                                                                  \n",
       "dark purple  40.477266  36.755  1967.563084  1866.0  237.154206  225.5   \n",
       "pink          0.337130  -0.080   110.494774    50.0   10.267907    3.0   \n",
       "purple       11.807393  10.355   875.192022   827.0   90.634508   82.0   \n",
       "\n",
       "            seasonsPlayed         \n",
       "                     mean median  \n",
       "cluster                           \n",
       "dark purple     17.002336   17.0  \n",
       "pink             4.198063    3.0  \n",
       "purple          11.846011   12.0  "
      ]
     },
     "execution_count": 59,
     "metadata": {},
     "output_type": "execute_result"
    }
   ],
   "source": [
    "batters.groupby('cluster').agg({'WAR':['mean', 'median'], \n",
    "                         'H':['mean', 'median'], \n",
    "                         'HR':['mean', 'median'],\n",
    "                          'seasonsPlayed':['mean', 'median']})"
   ]
  },
  {
   "cell_type": "markdown",
   "id": "910f152d",
   "metadata": {},
   "source": [
    "We see here that hits and HR's are what really drives a players WAR up, and HR's a lot more. If you see the difference between HR's between purple and dark purple, thats what sepereates a nice career from a great or legendary career! "
   ]
  },
  {
   "cell_type": "code",
   "execution_count": 60,
   "id": "11fb720c",
   "metadata": {},
   "outputs": [
    {
     "data": {
      "text/html": [
       "<div>\n",
       "<style scoped>\n",
       "    .dataframe tbody tr th:only-of-type {\n",
       "        vertical-align: middle;\n",
       "    }\n",
       "\n",
       "    .dataframe tbody tr th {\n",
       "        vertical-align: top;\n",
       "    }\n",
       "\n",
       "    .dataframe thead tr th {\n",
       "        text-align: left;\n",
       "    }\n",
       "\n",
       "    .dataframe thead tr:last-of-type th {\n",
       "        text-align: right;\n",
       "    }\n",
       "</style>\n",
       "<table border=\"1\" class=\"dataframe\">\n",
       "  <thead>\n",
       "    <tr>\n",
       "      <th></th>\n",
       "      <th colspan=\"2\" halign=\"left\">WAR</th>\n",
       "      <th colspan=\"2\" halign=\"left\">ERA_plus</th>\n",
       "      <th colspan=\"2\" halign=\"left\">G_all</th>\n",
       "      <th colspan=\"2\" halign=\"left\">seasonsPlayed</th>\n",
       "    </tr>\n",
       "    <tr>\n",
       "      <th></th>\n",
       "      <th>mean</th>\n",
       "      <th>median</th>\n",
       "      <th>mean</th>\n",
       "      <th>median</th>\n",
       "      <th>mean</th>\n",
       "      <th>median</th>\n",
       "      <th>mean</th>\n",
       "      <th>median</th>\n",
       "    </tr>\n",
       "    <tr>\n",
       "      <th>cluster</th>\n",
       "      <th></th>\n",
       "      <th></th>\n",
       "      <th></th>\n",
       "      <th></th>\n",
       "      <th></th>\n",
       "      <th></th>\n",
       "      <th></th>\n",
       "      <th></th>\n",
       "    </tr>\n",
       "  </thead>\n",
       "  <tbody>\n",
       "    <tr>\n",
       "      <th>dark purple</th>\n",
       "      <td>7.979074</td>\n",
       "      <td>4.630</td>\n",
       "      <td>105.706720</td>\n",
       "      <td>101.763072</td>\n",
       "      <td>271.444365</td>\n",
       "      <td>258.0</td>\n",
       "      <td>9.506102</td>\n",
       "      <td>9.0</td>\n",
       "    </tr>\n",
       "    <tr>\n",
       "      <th>pink</th>\n",
       "      <td>18.460346</td>\n",
       "      <td>11.455</td>\n",
       "      <td>122.293506</td>\n",
       "      <td>117.770979</td>\n",
       "      <td>603.219512</td>\n",
       "      <td>563.0</td>\n",
       "      <td>15.449187</td>\n",
       "      <td>15.0</td>\n",
       "    </tr>\n",
       "    <tr>\n",
       "      <th>purple</th>\n",
       "      <td>0.310142</td>\n",
       "      <td>-0.030</td>\n",
       "      <td>90.821969</td>\n",
       "      <td>85.790645</td>\n",
       "      <td>46.967521</td>\n",
       "      <td>32.0</td>\n",
       "      <td>2.835087</td>\n",
       "      <td>2.0</td>\n",
       "    </tr>\n",
       "  </tbody>\n",
       "</table>\n",
       "</div>"
      ],
      "text/plain": [
       "                   WAR            ERA_plus                   G_all         \\\n",
       "                  mean  median        mean      median        mean median   \n",
       "cluster                                                                     \n",
       "dark purple   7.979074   4.630  105.706720  101.763072  271.444365  258.0   \n",
       "pink         18.460346  11.455  122.293506  117.770979  603.219512  563.0   \n",
       "purple        0.310142  -0.030   90.821969   85.790645   46.967521   32.0   \n",
       "\n",
       "            seasonsPlayed         \n",
       "                     mean median  \n",
       "cluster                           \n",
       "dark purple      9.506102    9.0  \n",
       "pink            15.449187   15.0  \n",
       "purple           2.835087    2.0  "
      ]
     },
     "execution_count": 60,
     "metadata": {},
     "output_type": "execute_result"
    }
   ],
   "source": [
    "pitchers.groupby('cluster').agg({'WAR':['mean', 'median'], \n",
    "                         'ERA_plus':['mean', 'median'], \n",
    "                         'G_all':['mean', 'median'],\n",
    "                          'seasonsPlayed':['mean', 'median']})"
   ]
  },
  {
   "cell_type": "markdown",
   "id": "69d149ff",
   "metadata": {},
   "source": [
    "the ERA plus between the worst (purple) and the best (pink ) aren't that far apart  ERA plus might not be the best stat to show success of a pitchers"
   ]
  },
  {
   "cell_type": "code",
   "execution_count": null,
   "id": "4d663e94",
   "metadata": {},
   "outputs": [],
   "source": []
  }
 ],
 "metadata": {
  "kernelspec": {
   "display_name": "Python 3 (ipykernel)",
   "language": "python",
   "name": "python3"
  },
  "language_info": {
   "codemirror_mode": {
    "name": "ipython",
    "version": 3
   },
   "file_extension": ".py",
   "mimetype": "text/x-python",
   "name": "python",
   "nbconvert_exporter": "python",
   "pygments_lexer": "ipython3",
   "version": "3.9.12"
  }
 },
 "nbformat": 4,
 "nbformat_minor": 5
}
